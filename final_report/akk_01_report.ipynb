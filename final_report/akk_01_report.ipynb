{
 "cells": [
  {
   "cell_type": "markdown",
   "metadata": {},
   "source": [
    "# Loading  required libraries and data"
   ]
  },
  {
   "cell_type": "code",
   "execution_count": 63,
   "metadata": {
    "ExecuteTime": {
     "end_time": "2022-01-22T17:44:36.706484Z",
     "start_time": "2022-01-22T17:44:36.696483Z"
    }
   },
   "outputs": [],
   "source": [
    "# matrices\n",
    "import numpy as np\n",
    "import pandas as pd\n",
    "\n",
    "# Visualisation\n",
    "import matplotlib as mpl\n",
    "import matplotlib.pyplot as plt\n",
    "import matplotlib.pylab as pylab\n",
    "import seaborn as sns\n",
    "\n",
    "#path\n",
    "from glob import glob\n",
    "\n",
    "#save files\n",
    "import pickle"
   ]
  },
  {
   "cell_type": "code",
   "execution_count": 2,
   "metadata": {
    "ExecuteTime": {
     "end_time": "2022-01-22T14:41:01.058882Z",
     "start_time": "2022-01-22T14:41:01.045882Z"
    }
   },
   "outputs": [
    {
     "name": "stdout",
     "output_type": "stream",
     "text": [
      "cpu\n"
     ]
    }
   ],
   "source": [
    "device = torch.device(\"cuda\" if torch.cuda.is_available() else \"cpu\")\n",
    "print(device)"
   ]
  },
  {
   "cell_type": "markdown",
   "metadata": {},
   "source": [
    "#### Loading prepared datasets  from /data/prepared/*"
   ]
  },
  {
   "cell_type": "code",
   "execution_count": 21,
   "metadata": {
    "ExecuteTime": {
     "end_time": "2022-01-22T15:25:19.443371Z",
     "start_time": "2022-01-22T15:25:19.435370Z"
    }
   },
   "outputs": [],
   "source": [
    "path_features = glob('../data/prepared/*.parquet')\n",
    "\n",
    "path_target = glob('../data/prepared/*.bite')"
   ]
  },
  {
   "cell_type": "markdown",
   "metadata": {},
   "source": [
    "#### Loading ML libraries and fitting to train dataset"
   ]
  },
  {
   "cell_type": "code",
   "execution_count": 15,
   "metadata": {
    "ExecuteTime": {
     "end_time": "2022-01-22T15:09:20.129285Z",
     "start_time": "2022-01-22T15:09:20.121284Z"
    }
   },
   "outputs": [],
   "source": [
    "# loading sklearn libraries\n",
    "\n",
    "# --- one algoritm classificators ---\n",
    "from sklearn.tree import DecisionTreeRegressor\n",
    "from sklearn.linear_model import LinearRegression\n",
    "\n",
    "# --- ensembles ---\n",
    "from sklearn.ensemble import RandomForestRegressor\n",
    "from xgboost.sklearn import XGBRegressor\n",
    "from lightgbm.sklearn import LGBMRegressor\n",
    "\n",
    "# --- metrics ---\n",
    "from sklearn.metrics import mean_squared_error\n",
    "\n",
    "# global params\n",
    "import optuna"
   ]
  },
  {
   "cell_type": "code",
   "execution_count": 19,
   "metadata": {
    "ExecuteTime": {
     "end_time": "2022-01-22T15:21:17.204515Z",
     "start_time": "2022-01-22T15:21:17.195515Z"
    }
   },
   "outputs": [],
   "source": [
    "# global params will be found by optuna\n"
   ]
  },
  {
   "cell_type": "markdown",
   "metadata": {},
   "source": [
    "### Train Test Split and then find the best hyper params"
   ]
  },
  {
   "cell_type": "code",
   "execution_count": 31,
   "metadata": {
    "ExecuteTime": {
     "end_time": "2022-01-22T15:31:34.803657Z",
     "start_time": "2022-01-22T15:31:34.792657Z"
    }
   },
   "outputs": [],
   "source": [
    "train_datasets = np.random.choice(range(0,len(path_features)), size=10, replace=False)\n",
    "test_datasets = [i for i in range(0,len(path_features)) if i not in train_datasets]  "
   ]
  },
  {
   "cell_type": "markdown",
   "metadata": {},
   "source": [
    "### Finding the best Algoritms hyper parameters. Optuna"
   ]
  },
  {
   "cell_type": "code",
   "execution_count": null,
   "metadata": {
    "ExecuteTime": {
     "end_time": "2022-01-22T15:58:03.907625Z",
     "start_time": "2022-01-22T15:57:39.266244Z"
    }
   },
   "outputs": [],
   "source": [
    "rand_train = np.random.choice(train_datasets)\n",
    "rand_test = np.random.choice(test_datasets)\n",
    "\n",
    "X_train = pd.read_parquet(path_features[rand_train])\n",
    "y_train = np.fromfile(path_target[rand_train])\n",
    "\n",
    "X_test = pd.read_parquet(path_features[rand_test])\n",
    "y_test = np.fromfile(path_target[rand_test])"
   ]
  },
  {
   "cell_type": "code",
   "execution_count": 58,
   "metadata": {
    "ExecuteTime": {
     "end_time": "2022-01-22T17:42:47.314224Z",
     "start_time": "2022-01-22T16:38:53.698281Z"
    },
    "collapsed": true
   },
   "outputs": [
    {
     "name": "stderr",
     "output_type": "stream",
     "text": [
      "\u001b[32m[I 2022-01-22 19:38:53,712]\u001b[0m A new study created in memory with name: no-name-1611f03b-5923-4dd5-9d83-cf73fb299998\u001b[0m\n",
      "\u001b[32m[I 2022-01-22 19:38:58,703]\u001b[0m Trial 0 finished with value: 0.34881416376471247 and parameters: {'num_leaves': 11, 'max_depth': 2, 'learning_rate': 1.827101649919567, 'n_estimators': 73, 'min_split_gain': 0.0689834876716794, 'min_child_samples': 28, 'reg_alpha': 0.0006821171695245543, 'reg_lambda': 0.010201803532392107}. Best is trial 0 with value: 0.34881416376471247.\u001b[0m\n",
      "\u001b[32m[I 2022-01-22 19:39:03,754]\u001b[0m Trial 1 finished with value: 0.1573969823244057 and parameters: {'num_leaves': 9, 'max_depth': 6, 'learning_rate': 0.3032562313719649, 'n_estimators': 54, 'min_split_gain': 0.03436894885195581, 'min_child_samples': 18, 'reg_alpha': 0.4106261151388983, 'reg_lambda': 0.5146829138662478}. Best is trial 1 with value: 0.1573969823244057.\u001b[0m\n",
      "\u001b[32m[I 2022-01-22 19:39:25,362]\u001b[0m Trial 2 finished with value: 9.23894343478564e+72 and parameters: {'num_leaves': 13, 'max_depth': 30, 'learning_rate': 3.42877534597408, 'n_estimators': 96, 'min_split_gain': 0.04315083633021587, 'min_child_samples': 3, 'reg_alpha': 0.2038953846836149, 'reg_lambda': 0.5695782468734624}. Best is trial 1 with value: 0.1573969823244057.\u001b[0m\n",
      "\u001b[32m[I 2022-01-22 19:39:31,047]\u001b[0m Trial 3 finished with value: 0.34165960903940673 and parameters: {'num_leaves': 3, 'max_depth': 10, 'learning_rate': 1.6284258438006671, 'n_estimators': 98, 'min_split_gain': 0.06345588687302146, 'min_child_samples': 4, 'reg_alpha': 0.37949877367361845, 'reg_lambda': 0.09633115403437624}. Best is trial 1 with value: 0.1573969823244057.\u001b[0m\n",
      "\u001b[32m[I 2022-01-22 19:39:36,696]\u001b[0m Trial 4 finished with value: 0.15589687698683724 and parameters: {'num_leaves': 10, 'max_depth': 5, 'learning_rate': 0.5958390209806526, 'n_estimators': 100, 'min_split_gain': 0.028383402218955744, 'min_child_samples': 13, 'reg_alpha': 0.4173100029888079, 'reg_lambda': 0.21634276068106018}. Best is trial 4 with value: 0.15589687698683724.\u001b[0m\n",
      "\u001b[32m[I 2022-01-22 19:39:41,542]\u001b[0m Trial 5 finished with value: 0.18013717815076788 and parameters: {'num_leaves': 30, 'max_depth': 2, 'learning_rate': 1.1704684899818494, 'n_estimators': 74, 'min_split_gain': 0.015562136157770058, 'min_child_samples': 7, 'reg_alpha': 0.15385719413125243, 'reg_lambda': 0.27102512389384265}. Best is trial 4 with value: 0.15589687698683724.\u001b[0m\n",
      "\u001b[32m[I 2022-01-22 19:39:47,474]\u001b[0m Trial 6 finished with value: 0.153337912637787 and parameters: {'num_leaves': 27, 'max_depth': -1, 'learning_rate': 0.2655223818677399, 'n_estimators': 81, 'min_split_gain': 0.02586262753342814, 'min_child_samples': 7, 'reg_alpha': 0.3391215225872685, 'reg_lambda': 0.6067911708873208}. Best is trial 6 with value: 0.153337912637787.\u001b[0m\n",
      "\u001b[32m[I 2022-01-22 19:40:00,704]\u001b[0m Trial 7 finished with value: 2.7919767819343317e+59 and parameters: {'num_leaves': 20, 'max_depth': 11, 'learning_rate': 3.921050454352916, 'n_estimators': 65, 'min_split_gain': 0.03539949288937764, 'min_child_samples': 15, 'reg_alpha': 0.01746164474076426, 'reg_lambda': 0.892885782327958}. Best is trial 6 with value: 0.153337912637787.\u001b[0m\n",
      "\u001b[32m[I 2022-01-22 19:40:13,967]\u001b[0m Trial 8 finished with value: 7.078964501356077e+56 and parameters: {'num_leaves': 14, 'max_depth': 15, 'learning_rate': 3.0276701655342713, 'n_estimators': 94, 'min_split_gain': 0.0836604742197772, 'min_child_samples': 24, 'reg_alpha': 0.7747047154956475, 'reg_lambda': 0.36770091775135705}. Best is trial 6 with value: 0.153337912637787.\u001b[0m\n",
      "\u001b[32m[I 2022-01-22 19:40:18,278]\u001b[0m Trial 9 finished with value: 0.14623890798606712 and parameters: {'num_leaves': 29, 'max_depth': 27, 'learning_rate': 0.47537507109534083, 'n_estimators': 10, 'min_split_gain': 0.024937884560982407, 'min_child_samples': 6, 'reg_alpha': 0.22096841100031914, 'reg_lambda': 0.8623206353457754}. Best is trial 9 with value: 0.14623890798606712.\u001b[0m\n",
      "\u001b[32m[I 2022-01-22 19:40:23,415]\u001b[0m Trial 10 finished with value: 600.9045784838471 and parameters: {'num_leaves': 23, 'max_depth': 30, 'learning_rate': 2.4204556436693787, 'n_estimators': 12, 'min_split_gain': 0.00031066087366572737, 'min_child_samples': 10, 'reg_alpha': 0.647241817138658, 'reg_lambda': 0.890075052799274}. Best is trial 9 with value: 0.14623890798606712.\u001b[0m\n",
      "\u001b[32m[I 2022-01-22 19:40:28,370]\u001b[0m Trial 11 finished with value: 0.14037638704677088 and parameters: {'num_leaves': 30, 'max_depth': 23, 'learning_rate': 0.20566452190978435, 'n_estimators': 11, 'min_split_gain': 0.008542290643239771, 'min_child_samples': 7, 'reg_alpha': 0.2568605330482278, 'reg_lambda': 0.7042289045335786}. Best is trial 11 with value: 0.14037638704677088.\u001b[0m\n",
      "\u001b[32m[I 2022-01-22 19:40:32,865]\u001b[0m Trial 12 finished with value: 0.15810489013265724 and parameters: {'num_leaves': 29, 'max_depth': 22, 'learning_rate': 0.8845033797919266, 'n_estimators': 11, 'min_split_gain': 0.000746991162354692, 'min_child_samples': 3, 'reg_alpha': 0.21455891998981813, 'reg_lambda': 0.7344874840940329}. Best is trial 11 with value: 0.14037638704677088.\u001b[0m\n",
      "\u001b[32m[I 2022-01-22 19:40:39,672]\u001b[0m Trial 13 finished with value: 0.06020705789926985 and parameters: {'num_leaves': 24, 'max_depth': 23, 'learning_rate': 0.0027388874640502103, 'n_estimators': 30, 'min_split_gain': 0.01177398724391289, 'min_child_samples': 20, 'reg_alpha': 0.6012443769877922, 'reg_lambda': 0.7474478207149637}. Best is trial 13 with value: 0.06020705789926985.\u001b[0m\n",
      "\u001b[32m[I 2022-01-22 19:40:45,885]\u001b[0m Trial 14 finished with value: 0.14962668762438405 and parameters: {'num_leaves': 23, 'max_depth': 22, 'learning_rate': 0.11630823755357984, 'n_estimators': 31, 'min_split_gain': 0.007509529091941677, 'min_child_samples': 20, 'reg_alpha': 0.5842147207985752, 'reg_lambda': 0.7395097130303163}. Best is trial 13 with value: 0.06020705789926985.\u001b[0m\n",
      "\u001b[32m[I 2022-01-22 19:40:50,240]\u001b[0m Trial 15 finished with value: 0.17695202133095317 and parameters: {'num_leaves': 19, 'max_depth': 21, 'learning_rate': 1.2481703368427595, 'n_estimators': 30, 'min_split_gain': 0.012219507765457483, 'min_child_samples': 22, 'reg_alpha': 0.8685339941011285, 'reg_lambda': 0.6995591081763628}. Best is trial 13 with value: 0.06020705789926985.\u001b[0m\n",
      "\u001b[32m[I 2022-01-22 19:40:57,668]\u001b[0m Trial 16 finished with value: 0.061254490607523034 and parameters: {'num_leaves': 26, 'max_depth': 18, 'learning_rate': 0.016284343521317003, 'n_estimators': 35, 'min_split_gain': 0.015677521836696948, 'min_child_samples': 26, 'reg_alpha': 0.5670344370352127, 'reg_lambda': 0.7748374912403253}. Best is trial 13 with value: 0.06020705789926985.\u001b[0m\n",
      "\u001b[32m[I 2022-01-22 19:41:05,173]\u001b[0m Trial 17 finished with value: 797449093.1980764 and parameters: {'num_leaves': 25, 'max_depth': 17, 'learning_rate': 2.3547252628919155, 'n_estimators': 37, 'min_split_gain': 0.052138734122398334, 'min_child_samples': 29, 'reg_alpha': 0.5544475482623669, 'reg_lambda': 0.8225202550951943}. Best is trial 13 with value: 0.06020705789926985.\u001b[0m\n",
      "\u001b[32m[I 2022-01-22 19:41:09,636]\u001b[0m Trial 18 finished with value: 0.17238604179738426 and parameters: {'num_leaves': 18, 'max_depth': 18, 'learning_rate': 0.8266184796107978, 'n_estimators': 48, 'min_split_gain': 0.09976258469569582, 'min_child_samples': 26, 'reg_alpha': 0.7220372976652012, 'reg_lambda': 0.42403589095873084}. Best is trial 13 with value: 0.06020705789926985.\u001b[0m\n",
      "\u001b[32m[I 2022-01-22 19:41:13,884]\u001b[0m Trial 19 finished with value: 0.17414369321972079 and parameters: {'num_leaves': 22, 'max_depth': 26, 'learning_rate': 1.2491975798594466, 'n_estimators': 23, 'min_split_gain': 0.018344968806728732, 'min_child_samples': 23, 'reg_alpha': 0.5137123231992199, 'reg_lambda': 0.6014997479328891}. Best is trial 13 with value: 0.06020705789926985.\u001b[0m\n",
      "\u001b[32m[I 2022-01-22 19:41:19,951]\u001b[0m Trial 20 finished with value: 0.14985629334621162 and parameters: {'num_leaves': 26, 'max_depth': 12, 'learning_rate': 0.11526768498468913, 'n_estimators': 41, 'min_split_gain': 0.05251174441101912, 'min_child_samples': 19, 'reg_alpha': 0.8933566231844821, 'reg_lambda': 0.7858378271849178}. Best is trial 13 with value: 0.06020705789926985.\u001b[0m\n",
      "\u001b[32m[I 2022-01-22 19:41:26,190]\u001b[0m Trial 21 finished with value: 0.10479812525991691 and parameters: {'num_leaves': 30, 'max_depth': 25, 'learning_rate': 0.06104561094818657, 'n_estimators': 24, 'min_split_gain': 0.0016630821792709494, 'min_child_samples': 15, 'reg_alpha': 0.6744316424378186, 'reg_lambda': 0.6516157038655223}. Best is trial 13 with value: 0.06020705789926985.\u001b[0m\n"
     ]
    },
    {
     "name": "stderr",
     "output_type": "stream",
     "text": [
      "\u001b[32m[I 2022-01-22 19:41:32,171]\u001b[0m Trial 22 finished with value: 0.11514345388953105 and parameters: {'num_leaves': 27, 'max_depth': 26, 'learning_rate': 0.07693149119435154, 'n_estimators': 22, 'min_split_gain': 0.0005729768035916594, 'min_child_samples': 15, 'reg_alpha': 0.6781774043044715, 'reg_lambda': 0.6668698615817444}. Best is trial 13 with value: 0.06020705789926985.\u001b[0m\n",
      "\u001b[32m[I 2022-01-22 19:41:38,313]\u001b[0m Trial 23 finished with value: 0.05553433246524856 and parameters: {'num_leaves': 24, 'max_depth': 19, 'learning_rate': 0.009005840229067568, 'n_estimators': 22, 'min_split_gain': 0.01837040001484795, 'min_child_samples': 11, 'reg_alpha': 0.7981578353403542, 'reg_lambda': 0.4993472209156457}. Best is trial 23 with value: 0.05553433246524856.\u001b[0m\n",
      "\u001b[32m[I 2022-01-22 19:41:43,460]\u001b[0m Trial 24 finished with value: 0.1591653309151727 and parameters: {'num_leaves': 21, 'max_depth': 18, 'learning_rate': 0.6699139838357184, 'n_estimators': 43, 'min_split_gain': 0.02056541624499233, 'min_child_samples': 11, 'reg_alpha': 0.8151481517407816, 'reg_lambda': 0.512337106461193}. Best is trial 23 with value: 0.05553433246524856.\u001b[0m\n",
      "\u001b[32m[I 2022-01-22 19:41:48,107]\u001b[0m Trial 25 finished with value: 0.15278233323098636 and parameters: {'num_leaves': 17, 'max_depth': 20, 'learning_rate': 0.4821400212798681, 'n_estimators': 33, 'min_split_gain': 0.039445698236665876, 'min_child_samples': 26, 'reg_alpha': 0.5255731888213482, 'reg_lambda': 0.3054861758991854}. Best is trial 23 with value: 0.05553433246524856.\u001b[0m\n",
      "\u001b[32m[I 2022-01-22 19:41:52,264]\u001b[0m Trial 26 finished with value: 0.17140275267865954 and parameters: {'num_leaves': 24, 'max_depth': 15, 'learning_rate': 1.0400043046513252, 'n_estimators': 19, 'min_split_gain': 0.010828688825757472, 'min_child_samples': 21, 'reg_alpha': 0.6175154773828074, 'reg_lambda': 0.7954600128862671}. Best is trial 23 with value: 0.05553433246524856.\u001b[0m\n",
      "\u001b[32m[I 2022-01-22 19:42:01,867]\u001b[0m Trial 27 finished with value: 0.08590143616047761 and parameters: {'num_leaves': 27, 'max_depth': 19, 'learning_rate': 0.020714430072191092, 'n_estimators': 52, 'min_split_gain': 0.03211476423371672, 'min_child_samples': 11, 'reg_alpha': 0.4853363990490929, 'reg_lambda': 0.5492413881755188}. Best is trial 23 with value: 0.05553433246524856.\u001b[0m\n",
      "\u001b[32m[I 2022-01-22 19:42:06,103]\u001b[0m Trial 28 finished with value: 0.17246401368966746 and parameters: {'num_leaves': 15, 'max_depth': 13, 'learning_rate': 1.4836816125073247, 'n_estimators': 19, 'min_split_gain': 0.020700523282048477, 'min_child_samples': 18, 'reg_alpha': 0.7370275911647459, 'reg_lambda': 0.4692834012541619}. Best is trial 23 with value: 0.05553433246524856.\u001b[0m\n",
      "\u001b[32m[I 2022-01-22 19:42:12,437]\u001b[0m Trial 29 finished with value: 0.2887461767483677 and parameters: {'num_leaves': 25, 'max_depth': 24, 'learning_rate': 1.9424554121438482, 'n_estimators': 61, 'min_split_gain': 0.0063932341267102025, 'min_child_samples': 30, 'reg_alpha': 0.8492925766087345, 'reg_lambda': 0.10227661391638315}. Best is trial 23 with value: 0.05553433246524856.\u001b[0m\n",
      "\u001b[32m[I 2022-01-22 19:42:16,956]\u001b[0m Trial 30 finished with value: 0.15573990504508275 and parameters: {'num_leaves': 21, 'max_depth': 28, 'learning_rate': 0.4876762468487613, 'n_estimators': 28, 'min_split_gain': 0.060180105921461356, 'min_child_samples': 26, 'reg_alpha': 0.7766114884571818, 'reg_lambda': 0.4085999252559712}. Best is trial 23 with value: 0.05553433246524856.\u001b[0m\n",
      "\u001b[32m[I 2022-01-22 19:42:25,111]\u001b[0m Trial 31 finished with value: 0.14947821276423723 and parameters: {'num_leaves': 27, 'max_depth': 19, 'learning_rate': 0.07604291808809625, 'n_estimators': 51, 'min_split_gain': 0.031384182198338016, 'min_child_samples': 11, 'reg_alpha': 0.4834754867315113, 'reg_lambda': 0.542483844530937}. Best is trial 23 with value: 0.05553433246524856.\u001b[0m\n",
      "\u001b[32m[I 2022-01-22 19:42:30,229]\u001b[0m Trial 32 finished with value: 0.14550195142053168 and parameters: {'num_leaves': 28, 'max_depth': 17, 'learning_rate': 0.3687619501957505, 'n_estimators': 46, 'min_split_gain': 0.04404555003397209, 'min_child_samples': 10, 'reg_alpha': 0.454802908795682, 'reg_lambda': 0.49314336877530507}. Best is trial 23 with value: 0.05553433246524856.\u001b[0m\n",
      "\u001b[32m[I 2022-01-22 19:42:38,695]\u001b[0m Trial 33 finished with value: 0.05703574576240596 and parameters: {'num_leaves': 24, 'max_depth': 20, 'learning_rate': 0.00397484781982255, 'n_estimators': 38, 'min_split_gain': 0.023125779708929116, 'min_child_samples': 13, 'reg_alpha': 0.5951782705737436, 'reg_lambda': 0.34962290833423704}. Best is trial 23 with value: 0.05553433246524856.\u001b[0m\n",
      "\u001b[32m[I 2022-01-22 19:42:43,285]\u001b[0m Trial 34 finished with value: 0.16730610987305022 and parameters: {'num_leaves': 24, 'max_depth': 16, 'learning_rate': 0.7882950901198904, 'n_estimators': 37, 'min_split_gain': 0.01652708418456219, 'min_child_samples': 16, 'reg_alpha': 0.5899874584286479, 'reg_lambda': 0.3306265363569834}. Best is trial 23 with value: 0.05553433246524856.\u001b[0m\n",
      "\u001b[32m[I 2022-01-22 19:42:48,423]\u001b[0m Trial 35 finished with value: 0.15365404696976206 and parameters: {'num_leaves': 8, 'max_depth': 9, 'learning_rate': 0.3175317563752316, 'n_estimators': 37, 'min_split_gain': 0.02324724133535841, 'min_child_samples': 17, 'reg_alpha': 0.6310149414385144, 'reg_lambda': 0.21627292548598798}. Best is trial 23 with value: 0.05553433246524856.\u001b[0m\n",
      "\u001b[32m[I 2022-01-22 19:42:52,796]\u001b[0m Trial 36 finished with value: 0.1457392842254759 and parameters: {'num_leaves': 22, 'max_depth': 21, 'learning_rate': 0.6279555673358442, 'n_estimators': 16, 'min_split_gain': 0.03757757834890486, 'min_child_samples': 13, 'reg_alpha': 0.3287840599604669, 'reg_lambda': 0.21292282618507977}. Best is trial 23 with value: 0.05553433246524856.\u001b[0m\n",
      "\u001b[32m[I 2022-01-22 19:42:57,812]\u001b[0m Trial 37 finished with value: 0.14939598902720244 and parameters: {'num_leaves': 19, 'max_depth': 24, 'learning_rate': 0.33664438956708803, 'n_estimators': 27, 'min_split_gain': 0.01321582980235856, 'min_child_samples': 13, 'reg_alpha': 0.7034660005747749, 'reg_lambda': 0.38583761974419345}. Best is trial 23 with value: 0.05553433246524856.\u001b[0m\n",
      "\u001b[32m[I 2022-01-22 19:43:08,944]\u001b[0m Trial 38 finished with value: 0.058012068687121145 and parameters: {'num_leaves': 12, 'max_depth': 13, 'learning_rate': 0.008701980675657067, 'n_estimators': 56, 'min_split_gain': 0.02841784448433984, 'min_child_samples': 9, 'reg_alpha': 0.39616293950322656, 'reg_lambda': 0.08774714649335319}. Best is trial 23 with value: 0.05553433246524856.\u001b[0m\n",
      "\u001b[32m[I 2022-01-22 19:43:18,204]\u001b[0m Trial 39 finished with value: 1.918853434592487e+50 and parameters: {'num_leaves': 7, 'max_depth': 8, 'learning_rate': 3.9659510559449087, 'n_estimators': 54, 'min_split_gain': 0.029135356015591828, 'min_child_samples': 9, 'reg_alpha': 0.3855600502961497, 'reg_lambda': 0.0071590511265149925}. Best is trial 23 with value: 0.05553433246524856.\u001b[0m\n",
      "\u001b[32m[I 2022-01-22 19:43:32,127]\u001b[0m Trial 40 finished with value: 1.5574236278888324e+49 and parameters: {'num_leaves': 12, 'max_depth': 13, 'learning_rate': 3.4914926137067406, 'n_estimators': 63, 'min_split_gain': 0.04410018941609957, 'min_child_samples': 8, 'reg_alpha': 0.29995810078952756, 'reg_lambda': 0.0786803658232993}. Best is trial 23 with value: 0.05553433246524856.\u001b[0m\n",
      "\u001b[32m[I 2022-01-22 19:43:37,428]\u001b[0m Trial 41 finished with value: 0.15688142695362906 and parameters: {'num_leaves': 5, 'max_depth': 20, 'learning_rate': 0.25894722398904974, 'n_estimators': 41, 'min_split_gain': 0.027229821905091937, 'min_child_samples': 13, 'reg_alpha': 0.4067870390662213, 'reg_lambda': 0.14892626066026754}. Best is trial 23 with value: 0.05553433246524856.\u001b[0m\n",
      "\u001b[32m[I 2022-01-22 19:43:44,944]\u001b[0m Trial 42 finished with value: 0.11778690529496584 and parameters: {'num_leaves': 10, 'max_depth': 14, 'learning_rate': 0.049343297083202384, 'n_estimators': 36, 'min_split_gain': 0.01695507913786512, 'min_child_samples': 5, 'reg_alpha': 0.4473973441654773, 'reg_lambda': 0.6189146018425076}. Best is trial 23 with value: 0.05553433246524856.\u001b[0m\n",
      "\u001b[32m[I 2022-01-22 19:43:56,569]\u001b[0m Trial 43 finished with value: 0.0617543895982386 and parameters: {'num_leaves': 13, 'max_depth': 16, 'learning_rate': 0.0010212633558466244, 'n_estimators': 58, 'min_split_gain': 0.004045590650521782, 'min_child_samples': 13, 'reg_alpha': 0.5501172567485212, 'reg_lambda': 0.26650310811394845}. Best is trial 23 with value: 0.05553433246524856.\u001b[0m\n"
     ]
    },
    {
     "name": "stderr",
     "output_type": "stream",
     "text": [
      "\u001b[32m[I 2022-01-22 19:44:02,237]\u001b[0m Trial 44 finished with value: 0.15862927712797834 and parameters: {'num_leaves': 25, 'max_depth': 23, 'learning_rate': 0.49990885129927504, 'n_estimators': 68, 'min_split_gain': 0.013363768052520146, 'min_child_samples': 9, 'reg_alpha': 0.14923938558199312, 'reg_lambda': 0.8592350443276254}. Best is trial 23 with value: 0.05553433246524856.\u001b[0m\n",
      "\u001b[32m[I 2022-01-22 19:44:08,257]\u001b[0m Trial 45 finished with value: 0.15345008823507275 and parameters: {'num_leaves': 23, 'max_depth': 11, 'learning_rate': 0.27274241374630487, 'n_estimators': 73, 'min_split_gain': 0.0214119904220907, 'min_child_samples': 12, 'reg_alpha': 0.5911378878365388, 'reg_lambda': 0.17985114032608024}. Best is trial 23 with value: 0.05553433246524856.\u001b[0m\n",
      "\u001b[32m[I 2022-01-22 19:44:13,585]\u001b[0m Trial 46 finished with value: 0.16961065510480752 and parameters: {'num_leaves': 15, 'max_depth': 29, 'learning_rate': 1.0058236640352867, 'n_estimators': 80, 'min_split_gain': 0.02549002199613686, 'min_child_samples': 14, 'reg_alpha': 0.44087931036837347, 'reg_lambda': 0.04690380042963829}. Best is trial 23 with value: 0.05553433246524856.\u001b[0m\n",
      "\u001b[32m[I 2022-01-22 19:44:22,053]\u001b[0m Trial 47 finished with value: 8669683250.016062 and parameters: {'num_leaves': 20, 'max_depth': 5, 'learning_rate': 2.3113313680709338, 'n_estimators': 46, 'min_split_gain': 0.008749921768411764, 'min_child_samples': 24, 'reg_alpha': 0.7652777268263644, 'reg_lambda': 0.7571241209351389}. Best is trial 23 with value: 0.05553433246524856.\u001b[0m\n",
      "\u001b[32m[I 2022-01-22 19:44:29,813]\u001b[0m Trial 48 finished with value: 8355302147593591.0 and parameters: {'num_leaves': 17, 'max_depth': 21, 'learning_rate': 2.8009110464254587, 'n_estimators': 33, 'min_split_gain': 0.016031401515098898, 'min_child_samples': 8, 'reg_alpha': 0.6487755794260178, 'reg_lambda': 0.8347976911653725}. Best is trial 23 with value: 0.05553433246524856.\u001b[0m\n",
      "\u001b[32m[I 2022-01-22 19:44:34,068]\u001b[0m Trial 49 finished with value: 0.15910906174442174 and parameters: {'num_leaves': 29, 'max_depth': 18, 'learning_rate': 0.6688418638590314, 'n_estimators': 16, 'min_split_gain': 0.03325929363478971, 'min_child_samples': 5, 'reg_alpha': 0.5497569492435173, 'reg_lambda': 0.3521275923933009}. Best is trial 23 with value: 0.05553433246524856.\u001b[0m\n",
      "\u001b[32m[I 2022-01-22 19:44:38,605]\u001b[0m Trial 50 finished with value: 0.15864401681478998 and parameters: {'num_leaves': 26, 'max_depth': 16, 'learning_rate': 1.646182634576625, 'n_estimators': 26, 'min_split_gain': 0.07499770377848773, 'min_child_samples': 17, 'reg_alpha': 0.3578177662370615, 'reg_lambda': 0.45068350866238144}. Best is trial 23 with value: 0.05553433246524856.\u001b[0m\n",
      "\u001b[32m[I 2022-01-22 19:44:49,655]\u001b[0m Trial 51 finished with value: 0.10852796970955501 and parameters: {'num_leaves': 12, 'max_depth': 16, 'learning_rate': 0.026053416575873664, 'n_estimators': 60, 'min_split_gain': 0.0038708731806485017, 'min_child_samples': 12, 'reg_alpha': 0.5470407409170344, 'reg_lambda': 0.27099525153928106}. Best is trial 23 with value: 0.05553433246524856.\u001b[0m\n",
      "\u001b[32m[I 2022-01-22 19:44:56,465]\u001b[0m Trial 52 finished with value: 0.14826767085453033 and parameters: {'num_leaves': 11, 'max_depth': 14, 'learning_rate': 0.24878480455335286, 'n_estimators': 49, 'min_split_gain': 0.0068438575411988575, 'min_child_samples': 14, 'reg_alpha': 0.4940640072282323, 'reg_lambda': 0.26348850770450183}. Best is trial 23 with value: 0.05553433246524856.\u001b[0m\n",
      "\u001b[32m[I 2022-01-22 19:45:08,586]\u001b[0m Trial 53 finished with value: 0.10956056560868413 and parameters: {'num_leaves': 15, 'max_depth': 20, 'learning_rate': 0.02296300865693568, 'n_estimators': 69, 'min_split_gain': 0.011353454590876777, 'min_child_samples': 10, 'reg_alpha': 0.5754602430875954, 'reg_lambda': 0.15024754889771522}. Best is trial 23 with value: 0.05553433246524856.\u001b[0m\n",
      "\u001b[32m[I 2022-01-22 19:45:19,675]\u001b[0m Trial 54 finished with value: 0.06253022533363872 and parameters: {'num_leaves': 13, 'max_depth': 17, 'learning_rate': 0.0008628228207541271, 'n_estimators': 56, 'min_split_gain': 0.004323205390877126, 'min_child_samples': 28, 'reg_alpha': 0.6085037412737544, 'reg_lambda': 0.30345475746246486}. Best is trial 23 with value: 0.05553433246524856.\u001b[0m\n",
      "\u001b[32m[I 2022-01-22 19:45:25,962]\u001b[0m Trial 55 finished with value: 0.15617327789045576 and parameters: {'num_leaves': 13, 'max_depth': 22, 'learning_rate': 0.19896540019699488, 'n_estimators': 59, 'min_split_gain': 0.024522779959703655, 'min_child_samples': 19, 'reg_alpha': 0.6584417883654506, 'reg_lambda': 0.2538362414287046}. Best is trial 23 with value: 0.05553433246524856.\u001b[0m\n",
      "\u001b[32m[I 2022-01-22 19:45:31,271]\u001b[0m Trial 56 finished with value: 0.15809546320747594 and parameters: {'num_leaves': 9, 'max_depth': 19, 'learning_rate': 0.4507300679689117, 'n_estimators': 56, 'min_split_gain': 0.019363158045831677, 'min_child_samples': 12, 'reg_alpha': 0.5220468156550666, 'reg_lambda': 0.7040463492123866}. Best is trial 23 with value: 0.05553433246524856.\u001b[0m\n",
      "\u001b[32m[I 2022-01-22 19:45:37,918]\u001b[0m Trial 57 finished with value: 0.15584356326997698 and parameters: {'num_leaves': 23, 'max_depth': 11, 'learning_rate': 0.17600757894191169, 'n_estimators': 42, 'min_split_gain': 0.013354060705292341, 'min_child_samples': 16, 'reg_alpha': 0.69909909815423, 'reg_lambda': 0.38798992765297735}. Best is trial 23 with value: 0.05553433246524856.\u001b[0m\n",
      "\u001b[32m[I 2022-01-22 19:45:47,186]\u001b[0m Trial 58 finished with value: 0.05871221461464215 and parameters: {'num_leaves': 26, 'max_depth': 15, 'learning_rate': 0.003608728872087262, 'n_estimators': 31, 'min_split_gain': 0.028373916363146207, 'min_child_samples': 14, 'reg_alpha': 0.4022445855224525, 'reg_lambda': 0.3457873326139686}. Best is trial 23 with value: 0.05553433246524856.\u001b[0m\n",
      "\u001b[32m[I 2022-01-22 19:45:51,918]\u001b[0m Trial 59 finished with value: 0.1659431479532888 and parameters: {'num_leaves': 28, 'max_depth': 13, 'learning_rate': 0.7722940604315891, 'n_estimators': 21, 'min_split_gain': 0.03666798818027534, 'min_child_samples': 21, 'reg_alpha': 0.28750352650224514, 'reg_lambda': 0.5993272100637654}. Best is trial 23 with value: 0.05553433246524856.\u001b[0m\n",
      "\u001b[32m[I 2022-01-22 19:45:56,847]\u001b[0m Trial 60 finished with value: 0.1580094949053129 and parameters: {'num_leaves': 26, 'max_depth': 23, 'learning_rate': 0.4163016248450094, 'n_estimators': 31, 'min_split_gain': 0.028868887173044363, 'min_child_samples': 14, 'reg_alpha': 0.41687129785242083, 'reg_lambda': 0.64495573875722}. Best is trial 23 with value: 0.05553433246524856.\u001b[0m\n",
      "\u001b[32m[I 2022-01-22 19:46:03,075]\u001b[0m Trial 61 finished with value: 0.15753188601561122 and parameters: {'num_leaves': 24, 'max_depth': 15, 'learning_rate': 0.17379509001801238, 'n_estimators': 35, 'min_split_gain': 0.0224314081641633, 'min_child_samples': 15, 'reg_alpha': 0.46949129371454246, 'reg_lambda': 0.32041516501196887}. Best is trial 23 with value: 0.05553433246524856.\u001b[0m\n",
      "\u001b[32m[I 2022-01-22 19:46:11,356]\u001b[0m Trial 62 finished with value: 0.06593210629912763 and parameters: {'num_leaves': 25, 'max_depth': 17, 'learning_rate': 0.0236027994825072, 'n_estimators': 29, 'min_split_gain': 3.038912003604753e-05, 'min_child_samples': 10, 'reg_alpha': 0.37824362505219294, 'reg_lambda': 0.34758357016322}. Best is trial 23 with value: 0.05553433246524856.\u001b[0m\n",
      "\u001b[32m[I 2022-01-22 19:46:18,760]\u001b[0m Trial 63 finished with value: 0.06370723306909185 and parameters: {'num_leaves': 28, 'max_depth': 18, 'learning_rate': 0.0012542749571630187, 'n_estimators': 26, 'min_split_gain': 0.04084326306304927, 'min_child_samples': 11, 'reg_alpha': 0.509635651118546, 'reg_lambda': 0.41363510039745777}. Best is trial 23 with value: 0.05553433246524856.\u001b[0m\n",
      "\u001b[32m[I 2022-01-22 19:46:23,561]\u001b[0m Trial 64 finished with value: 0.15625489973986798 and parameters: {'num_leaves': 24, 'max_depth': 15, 'learning_rate': 0.5887971446160332, 'n_estimators': 39, 'min_split_gain': 0.01821629780670004, 'min_child_samples': 14, 'reg_alpha': 0.5691141564952236, 'reg_lambda': 0.8959325131700014}. Best is trial 23 with value: 0.05553433246524856.\u001b[0m\n",
      "\u001b[32m[I 2022-01-22 19:46:29,683]\u001b[0m Trial 65 finished with value: 0.1555761369350884 and parameters: {'num_leaves': 21, 'max_depth': 12, 'learning_rate': 0.17875757908847442, 'n_estimators': 45, 'min_split_gain': 0.008722147379948026, 'min_child_samples': 18, 'reg_alpha': 0.5360861337192326, 'reg_lambda': 0.29441955793149666}. Best is trial 23 with value: 0.05553433246524856.\u001b[0m\n"
     ]
    },
    {
     "name": "stderr",
     "output_type": "stream",
     "text": [
      "\u001b[32m[I 2022-01-22 19:46:34,501]\u001b[0m Trial 66 finished with value: 0.15453806577859125 and parameters: {'num_leaves': 22, 'max_depth': 19, 'learning_rate': 0.37288338545478955, 'n_estimators': 32, 'min_split_gain': 0.03062226546519677, 'min_child_samples': 12, 'reg_alpha': 0.4273758990946981, 'reg_lambda': 0.4663289382194095}. Best is trial 23 with value: 0.05553433246524856.\u001b[0m\n",
      "\u001b[32m[I 2022-01-22 19:46:40,217]\u001b[0m Trial 67 finished with value: 0.06516799580375049 and parameters: {'num_leaves': 26, 'max_depth': 21, 'learning_rate': 0.0009030906562850338, 'n_estimators': 16, 'min_split_gain': 0.04951150375054966, 'min_child_samples': 8, 'reg_alpha': 0.6250060991796876, 'reg_lambda': 0.43365474921794966}. Best is trial 23 with value: 0.05553433246524856.\u001b[0m\n",
      "\u001b[32m[I 2022-01-22 19:46:46,519]\u001b[0m Trial 68 finished with value: 0.15518838226408224 and parameters: {'num_leaves': 14, 'max_depth': 16, 'learning_rate': 0.1671835662652195, 'n_estimators': 23, 'min_split_gain': 0.003713906133113284, 'min_child_samples': 27, 'reg_alpha': 0.34561588605693255, 'reg_lambda': 0.2474123077344911}. Best is trial 23 with value: 0.05553433246524856.\u001b[0m\n",
      "\u001b[32m[I 2022-01-22 19:46:51,785]\u001b[0m Trial 69 finished with value: 0.15264641156282757 and parameters: {'num_leaves': 30, 'max_depth': 25, 'learning_rate': 0.3192978684589286, 'n_estimators': 39, 'min_split_gain': 0.024426149516839867, 'min_child_samples': 24, 'reg_alpha': 0.8326937783149806, 'reg_lambda': 0.7674201465221211}. Best is trial 23 with value: 0.05553433246524856.\u001b[0m\n",
      "\u001b[32m[I 2022-01-22 19:46:58,611]\u001b[0m Trial 70 finished with value: 0.1539423935584319 and parameters: {'num_leaves': 16, 'max_depth': 14, 'learning_rate': 0.128767427753675, 'n_estimators': 51, 'min_split_gain': 0.03444227664118932, 'min_child_samples': 9, 'reg_alpha': 0.24167353753151827, 'reg_lambda': 0.36944258586013823}. Best is trial 23 with value: 0.05553433246524856.\u001b[0m\n",
      "\u001b[32m[I 2022-01-22 19:47:03,668]\u001b[0m Trial 71 finished with value: 0.15310581185075342 and parameters: {'num_leaves': 11, 'max_depth': 17, 'learning_rate': 0.5583820310587028, 'n_estimators': 59, 'min_split_gain': 0.0040742141205709894, 'min_child_samples': 29, 'reg_alpha': 0.6074282777731168, 'reg_lambda': 0.30135462570107546}. Best is trial 23 with value: 0.05553433246524856.\u001b[0m\n",
      "\u001b[32m[I 2022-01-22 19:47:11,067]\u001b[0m Trial 72 finished with value: 0.15473028561930338 and parameters: {'num_leaves': 13, 'max_depth': 18, 'learning_rate': 0.10859989872439654, 'n_estimators': 55, 'min_split_gain': 0.015191275324804797, 'min_child_samples': 28, 'reg_alpha': 0.6806343930906172, 'reg_lambda': 0.2335156203291866}. Best is trial 23 with value: 0.05553433246524856.\u001b[0m\n",
      "\u001b[32m[I 2022-01-22 19:47:21,453]\u001b[0m Trial 73 finished with value: 0.11135797069918081 and parameters: {'num_leaves': 14, 'max_depth': 20, 'learning_rate': 0.02482049966225866, 'n_estimators': 66, 'min_split_gain': 0.01189795718799792, 'min_child_samples': 25, 'reg_alpha': 0.7399946045600114, 'reg_lambda': 0.1902482546653394}. Best is trial 23 with value: 0.05553433246524856.\u001b[0m\n",
      "\u001b[32m[I 2022-01-22 19:47:26,773]\u001b[0m Trial 74 finished with value: 0.15499506237096702 and parameters: {'num_leaves': 12, 'max_depth': 17, 'learning_rate': 0.3877074616366642, 'n_estimators': 56, 'min_split_gain': 0.009786756782532753, 'min_child_samples': 30, 'reg_alpha': 0.6004726020711466, 'reg_lambda': 0.28620902513701996}. Best is trial 23 with value: 0.05553433246524856.\u001b[0m\n",
      "\u001b[32m[I 2022-01-22 19:47:32,953]\u001b[0m Trial 75 finished with value: 0.15518008137545214 and parameters: {'num_leaves': 27, 'max_depth': 22, 'learning_rate': 0.22319723967308247, 'n_estimators': 48, 'min_split_gain': 0.00611557984338029, 'min_child_samples': 16, 'reg_alpha': 0.5056688134846475, 'reg_lambda': 0.33285857549602427}. Best is trial 23 with value: 0.05553433246524856.\u001b[0m\n",
      "\u001b[32m[I 2022-01-22 19:47:40,465]\u001b[0m Trial 76 finished with value: 0.0645606997976259 and parameters: {'num_leaves': 11, 'max_depth': 12, 'learning_rate': 0.0006442224412394407, 'n_estimators': 34, 'min_split_gain': 0.027047279083570318, 'min_child_samples': 28, 'reg_alpha': 0.46586029945049656, 'reg_lambda': 0.3909769241729966}. Best is trial 23 with value: 0.05553433246524856.\u001b[0m\n",
      "\u001b[32m[I 2022-01-22 19:47:46,386]\u001b[0m Trial 77 finished with value: 0.15827505297663322 and parameters: {'num_leaves': 10, 'max_depth': 16, 'learning_rate': 0.30296624849104287, 'n_estimators': 63, 'min_split_gain': 0.018457617344486976, 'min_child_samples': 15, 'reg_alpha': 0.5668051799892596, 'reg_lambda': 0.503930659152001}. Best is trial 23 with value: 0.05553433246524856.\u001b[0m\n",
      "\u001b[32m[I 2022-01-22 19:47:56,683]\u001b[0m Trial 78 finished with value: 0.06097645187117559 and parameters: {'num_leaves': 13, 'max_depth': 18, 'learning_rate': 0.001616523344413443, 'n_estimators': 44, 'min_split_gain': 0.02101651225393957, 'min_child_samples': 13, 'reg_alpha': 0.6346465550288298, 'reg_lambda': 0.12339549379318672}. Best is trial 23 with value: 0.05553433246524856.\u001b[0m\n",
      "\u001b[32m[I 2022-01-22 19:48:01,375]\u001b[0m Trial 79 finished with value: 0.1567602779692906 and parameters: {'num_leaves': 25, 'max_depth': 19, 'learning_rate': 0.49560052711478303, 'n_estimators': 25, 'min_split_gain': 0.021509303523492833, 'min_child_samples': 13, 'reg_alpha': 0.8933478133114356, 'reg_lambda': 0.04548656752524907}. Best is trial 23 with value: 0.05553433246524856.\u001b[0m\n",
      "\u001b[32m[I 2022-01-22 19:48:06,767]\u001b[0m Trial 80 finished with value: 0.1618916058706407 and parameters: {'num_leaves': 23, 'max_depth': 9, 'learning_rate': 0.7085009390334097, 'n_estimators': 40, 'min_split_gain': 0.014495449827889431, 'min_child_samples': 11, 'reg_alpha': 0.6400922622652102, 'reg_lambda': 0.11837129872429203}. Best is trial 23 with value: 0.05553433246524856.\u001b[0m\n",
      "\u001b[32m[I 2022-01-22 19:48:13,796]\u001b[0m Trial 81 finished with value: 0.14113818354084223 and parameters: {'num_leaves': 13, 'max_depth': 20, 'learning_rate': 0.09534963346796688, 'n_estimators': 29, 'min_split_gain': 0.01993690026467717, 'min_child_samples': 12, 'reg_alpha': 0.6166737964841498, 'reg_lambda': 0.03465304361587458}. Best is trial 23 with value: 0.05553433246524856.\u001b[0m\n",
      "\u001b[32m[I 2022-01-22 19:48:24,031]\u001b[0m Trial 82 finished with value: 0.06283228579370274 and parameters: {'num_leaves': 16, 'max_depth': 18, 'learning_rate': 0.0008204240507659719, 'n_estimators': 53, 'min_split_gain': 0.016800549771121377, 'min_child_samples': 14, 'reg_alpha': 0.6736231489815735, 'reg_lambda': 0.17812841718180789}. Best is trial 23 with value: 0.05553433246524856.\u001b[0m\n",
      "\u001b[32m[I 2022-01-22 19:48:28,817]\u001b[0m Trial 83 finished with value: 0.12802748157455596 and parameters: {'num_leaves': 12, 'max_depth': 1, 'learning_rate': 0.2733328449566452, 'n_estimators': 58, 'min_split_gain': 0.002172347217382986, 'min_child_samples': 13, 'reg_alpha': 0.38457704148933336, 'reg_lambda': 0.08552789514228448}. Best is trial 23 with value: 0.05553433246524856.\u001b[0m\n",
      "\u001b[32m[I 2022-01-22 19:48:36,462]\u001b[0m Trial 84 finished with value: 0.15183610532873548 and parameters: {'num_leaves': 15, 'max_depth': 15, 'learning_rate': 0.10778587788817347, 'n_estimators': 43, 'min_split_gain': 0.02671898379273445, 'min_child_samples': 23, 'reg_alpha': 0.7936837779210816, 'reg_lambda': 0.1356328147593191}. Best is trial 23 with value: 0.05553433246524856.\u001b[0m\n",
      "\u001b[32m[I 2022-01-22 19:48:45,275]\u001b[0m Trial 85 finished with value: 1.7637860029220547e+30 and parameters: {'num_leaves': 14, 'max_depth': 13, 'learning_rate': 3.711975135812089, 'n_estimators': 36, 'min_split_gain': 0.010312750874169514, 'min_child_samples': 27, 'reg_alpha': 0.5379495066749143, 'reg_lambda': 0.6820516643844555}. Best is trial 23 with value: 0.05553433246524856.\u001b[0m\n",
      "\u001b[32m[I 2022-01-22 19:48:50,443]\u001b[0m Trial 86 finished with value: 0.15281297501031618 and parameters: {'num_leaves': 9, 'max_depth': 21, 'learning_rate': 0.3917624550520769, 'n_estimators': 44, 'min_split_gain': 0.005594025140998867, 'min_child_samples': 15, 'reg_alpha': 0.5835239969051264, 'reg_lambda': 0.7240663562498577}. Best is trial 23 with value: 0.05553433246524856.\u001b[0m\n",
      "\u001b[32m[I 2022-01-22 19:49:02,393]\u001b[0m Trial 87 finished with value: 6.707457792639912e+27 and parameters: {'num_leaves': 10, 'max_depth': 17, 'learning_rate': 2.937262622364587, 'n_estimators': 50, 'min_split_gain': 0.023503128529188, 'min_child_samples': 10, 'reg_alpha': 0.7223877214624397, 'reg_lambda': 0.8046873592890506}. Best is trial 23 with value: 0.05553433246524856.\u001b[0m\n"
     ]
    },
    {
     "name": "stderr",
     "output_type": "stream",
     "text": [
      "\u001b[32m[I 2022-01-22 19:49:08,610]\u001b[0m Trial 88 finished with value: 0.15473952909366945 and parameters: {'num_leaves': 17, 'max_depth': 19, 'learning_rate': 0.23737934061102203, 'n_estimators': 62, 'min_split_gain': 0.03219511608782756, 'min_child_samples': 7, 'reg_alpha': 0.6489445121294168, 'reg_lambda': 0.06829634852093266}. Best is trial 23 with value: 0.05553433246524856.\u001b[0m\n",
      "\u001b[32m[I 2022-01-22 19:49:14,291]\u001b[0m Trial 89 finished with value: 0.10431253473323623 and parameters: {'num_leaves': 26, 'max_depth': 24, 'learning_rate': 0.10833301254304536, 'n_estimators': 13, 'min_split_gain': 0.012950946291742912, 'min_child_samples': 29, 'reg_alpha': 0.49150836166315215, 'reg_lambda': 0.20181407212443964}. Best is trial 23 with value: 0.05553433246524856.\u001b[0m\n",
      "\u001b[32m[I 2022-01-22 19:49:21,223]\u001b[0m Trial 90 finished with value: 0.05685896132697649 and parameters: {'num_leaves': 22, 'max_depth': 16, 'learning_rate': 0.00783093158194105, 'n_estimators': 20, 'min_split_gain': 0.028569439637973548, 'min_child_samples': 11, 'reg_alpha': 0.564422485030122, 'reg_lambda': 0.3603027201569344}. Best is trial 23 with value: 0.05553433246524856.\u001b[0m\n",
      "\u001b[32m[I 2022-01-22 19:49:27,324]\u001b[0m Trial 91 finished with value: 0.05472000784016907 and parameters: {'num_leaves': 25, 'max_depth': 16, 'learning_rate': 0.01561628609055514, 'n_estimators': 20, 'min_split_gain': 0.02875971162005762, 'min_child_samples': 9, 'reg_alpha': 0.6048676569589893, 'reg_lambda': 0.3620865300571334}. Best is trial 91 with value: 0.05472000784016907.\u001b[0m\n",
      "\u001b[32m[I 2022-01-22 19:49:33,261]\u001b[0m Trial 92 finished with value: 0.14618488616069794 and parameters: {'num_leaves': 24, 'max_depth': 14, 'learning_rate': 0.1439151757867922, 'n_estimators': 20, 'min_split_gain': 0.03003431871910449, 'min_child_samples': 9, 'reg_alpha': 0.5553269540425273, 'reg_lambda': 0.3633798731604439}. Best is trial 91 with value: 0.05472000784016907.\u001b[0m\n",
      "\u001b[32m[I 2022-01-22 19:49:41,723]\u001b[0m Trial 93 finished with value: 0.06234929621161284 and parameters: {'num_leaves': 23, 'max_depth': 16, 'learning_rate': 0.0016164479679621612, 'n_estimators': 31, 'min_split_gain': 0.028021996446226168, 'min_child_samples': 6, 'reg_alpha': 0.3172136964165341, 'reg_lambda': 0.3318868451524153}. Best is trial 91 with value: 0.05472000784016907.\u001b[0m\n",
      "\u001b[32m[I 2022-01-22 19:49:47,053]\u001b[0m Trial 94 finished with value: 0.1533535861243795 and parameters: {'num_leaves': 22, 'max_depth': 15, 'learning_rate': 0.2486436504852939, 'n_estimators': 14, 'min_split_gain': 0.035154137125274904, 'min_child_samples': 11, 'reg_alpha': 0.5851048894320607, 'reg_lambda': 0.4350873175728163}. Best is trial 91 with value: 0.05472000784016907.\u001b[0m\n",
      "\u001b[32m[I 2022-01-22 19:49:53,582]\u001b[0m Trial 95 finished with value: 0.1293063341621571 and parameters: {'num_leaves': 27, 'max_depth': 14, 'learning_rate': 0.10987693643150252, 'n_estimators': 19, 'min_split_gain': 0.025326262138400488, 'min_child_samples': 12, 'reg_alpha': 0.4067143152133923, 'reg_lambda': 0.3968294579280726}. Best is trial 91 with value: 0.05472000784016907.\u001b[0m\n",
      "\u001b[32m[I 2022-01-22 19:49:58,394]\u001b[0m Trial 96 finished with value: 0.14951700833315257 and parameters: {'num_leaves': 25, 'max_depth': 18, 'learning_rate': 0.3317828398766011, 'n_estimators': 23, 'min_split_gain': 0.03808410164819616, 'min_child_samples': 10, 'reg_alpha': 0.5247442489412856, 'reg_lambda': 0.3738495127422173}. Best is trial 91 with value: 0.05472000784016907.\u001b[0m\n",
      "\u001b[32m[I 2022-01-22 19:50:06,154]\u001b[0m Trial 97 finished with value: 0.06153134465095942 and parameters: {'num_leaves': 24, 'max_depth': 13, 'learning_rate': 0.002288100912403444, 'n_estimators': 27, 'min_split_gain': 0.022087417585318816, 'min_child_samples': 13, 'reg_alpha': 0.632156809349824, 'reg_lambda': 0.34723939125888637}. Best is trial 91 with value: 0.05472000784016907.\u001b[0m\n",
      "\u001b[32m[I 2022-01-22 19:50:10,702]\u001b[0m Trial 98 finished with value: 0.1585334427322674 and parameters: {'num_leaves': 20, 'max_depth': 12, 'learning_rate': 0.5312398285613588, 'n_estimators': 27, 'min_split_gain': 0.022195716235616204, 'min_child_samples': 8, 'reg_alpha': 0.6939017291203798, 'reg_lambda': 0.5658372978569549}. Best is trial 91 with value: 0.05472000784016907.\u001b[0m\n",
      "\u001b[32m[I 2022-01-22 19:50:15,682]\u001b[0m Trial 99 finished with value: 0.15224227721549136 and parameters: {'num_leaves': 22, 'max_depth': 11, 'learning_rate': 0.4359656538858202, 'n_estimators': 29, 'min_split_gain': 0.018223189853807883, 'min_child_samples': 11, 'reg_alpha': 0.6286735595513305, 'reg_lambda': 0.4884673239451929}. Best is trial 91 with value: 0.05472000784016907.\u001b[0m\n",
      "\u001b[32m[I 2022-01-22 19:50:20,027]\u001b[0m Trial 100 finished with value: 0.17030446407599412 and parameters: {'num_leaves': 24, 'max_depth': 10, 'learning_rate': 1.3628009832195866, 'n_estimators': 25, 'min_split_gain': 0.042102112905340515, 'min_child_samples': 14, 'reg_alpha': 0.6521866830572981, 'reg_lambda': 0.8668085872863509}. Best is trial 91 with value: 0.05472000784016907.\u001b[0m\n",
      "\u001b[32m[I 2022-01-22 19:50:25,722]\u001b[0m Trial 101 finished with value: 0.09956534566206625 and parameters: {'num_leaves': 26, 'max_depth': 16, 'learning_rate': 0.07473159462971246, 'n_estimators': 18, 'min_split_gain': 0.029407555185468108, 'min_child_samples': 13, 'reg_alpha': 0.5595812864504063, 'reg_lambda': 0.40846328864568443}. Best is trial 91 with value: 0.05472000784016907.\u001b[0m\n",
      "\u001b[32m[I 2022-01-22 19:50:33,550]\u001b[0m Trial 102 finished with value: 0.06055229690615057 and parameters: {'num_leaves': 25, 'max_depth': 13, 'learning_rate': 0.0023619960345923285, 'n_estimators': 33, 'min_split_gain': 0.020849334982144512, 'min_child_samples': 12, 'reg_alpha': 0.5919761979922253, 'reg_lambda': 0.3521301528270227}. Best is trial 91 with value: 0.05472000784016907.\u001b[0m\n",
      "\u001b[32m[I 2022-01-22 19:50:39,449]\u001b[0m Trial 103 finished with value: 0.15306100698926783 and parameters: {'num_leaves': 28, 'max_depth': 13, 'learning_rate': 0.19640225023335517, 'n_estimators': 34, 'min_split_gain': 0.023299015698577098, 'min_child_samples': 12, 'reg_alpha': 0.6672605541639183, 'reg_lambda': 0.35668512122631923}. Best is trial 91 with value: 0.05472000784016907.\u001b[0m\n",
      "\u001b[32m[I 2022-01-22 19:50:48,707]\u001b[0m Trial 104 finished with value: 0.05972165858525051 and parameters: {'num_leaves': 25, 'max_depth': 13, 'learning_rate': 0.002402629013379734, 'n_estimators': 38, 'min_split_gain': 0.02005464470367934, 'min_child_samples': 9, 'reg_alpha': 0.633501127471939, 'reg_lambda': 0.3155441728938657}. Best is trial 91 with value: 0.05472000784016907.\u001b[0m\n",
      "\u001b[32m[I 2022-01-22 19:50:59,337]\u001b[0m Trial 105 finished with value: 0.13895765038304267 and parameters: {'num_leaves': 25, 'max_depth': 15, 'learning_rate': 0.08122866303824566, 'n_estimators': 32, 'min_split_gain': 0.015399880115361966, 'min_child_samples': 9, 'reg_alpha': 0.5856038451202594, 'reg_lambda': 0.3151685179913018}. Best is trial 91 with value: 0.05472000784016907.\u001b[0m\n",
      "\u001b[32m[I 2022-01-22 19:51:06,124]\u001b[0m Trial 106 finished with value: 0.1530478794117519 and parameters: {'num_leaves': 26, 'max_depth': 10, 'learning_rate': 0.18490871095213138, 'n_estimators': 39, 'min_split_gain': 0.0198489329024174, 'min_child_samples': 6, 'reg_alpha': 0.605475468938741, 'reg_lambda': 0.27869743113002887}. Best is trial 91 with value: 0.05472000784016907.\u001b[0m\n",
      "\u001b[32m[I 2022-01-22 19:51:11,801]\u001b[0m Trial 107 finished with value: 0.15297964691759686 and parameters: {'num_leaves': 29, 'max_depth': 12, 'learning_rate': 0.3095729413398253, 'n_estimators': 37, 'min_split_gain': 0.026589398290123172, 'min_child_samples': 10, 'reg_alpha': 0.4331305977712676, 'reg_lambda': 0.45921241429745774}. Best is trial 91 with value: 0.05472000784016907.\u001b[0m\n",
      "\u001b[32m[I 2022-01-22 19:51:17,628]\u001b[0m Trial 108 finished with value: 0.15268682911373757 and parameters: {'num_leaves': 25, 'max_depth': 14, 'learning_rate': 0.23472489271409824, 'n_estimators': 38, 'min_split_gain': 0.03268202453011626, 'min_child_samples': 7, 'reg_alpha': 0.7547895836778447, 'reg_lambda': 0.23379994048229513}. Best is trial 91 with value: 0.05472000784016907.\u001b[0m\n",
      "\u001b[32m[I 2022-01-22 19:51:23,969]\u001b[0m Trial 109 finished with value: 0.11131506037441073 and parameters: {'num_leaves': 27, 'max_depth': 19, 'learning_rate': 0.07210846551702776, 'n_estimators': 22, 'min_split_gain': 0.09652232002654527, 'min_child_samples': 9, 'reg_alpha': 0.45845639666444993, 'reg_lambda': 0.32285813313035006}. Best is trial 91 with value: 0.05472000784016907.\u001b[0m\n"
     ]
    },
    {
     "name": "stderr",
     "output_type": "stream",
     "text": [
      "\u001b[32m[I 2022-01-22 19:51:32,236]\u001b[0m Trial 110 finished with value: 206882.76192916007 and parameters: {'num_leaves': 23, 'max_depth': 22, 'learning_rate': 2.1881673751716044, 'n_estimators': 41, 'min_split_gain': 0.017398860518767968, 'min_child_samples': 8, 'reg_alpha': 0.7216993574500644, 'reg_lambda': 0.381998434446548}. Best is trial 91 with value: 0.05472000784016907.\u001b[0m\n",
      "\u001b[32m[I 2022-01-22 19:51:40,270]\u001b[0m Trial 111 finished with value: 493253810711.20514 and parameters: {'num_leaves': 24, 'max_depth': 13, 'learning_rate': 2.6196678160296383, 'n_estimators': 30, 'min_split_gain': 0.021505782912800264, 'min_child_samples': 11, 'reg_alpha': 0.6382697030113209, 'reg_lambda': 0.4227363018692891}. Best is trial 91 with value: 0.05472000784016907.\u001b[0m\n",
      "\u001b[32m[I 2022-01-22 19:51:48,744]\u001b[0m Trial 112 finished with value: 0.06080918713299162 and parameters: {'num_leaves': 24, 'max_depth': 17, 'learning_rate': 0.002098516528942415, 'n_estimators': 35, 'min_split_gain': 0.02525863511197083, 'min_child_samples': 10, 'reg_alpha': 0.6073716855187112, 'reg_lambda': 0.34585162672626124}. Best is trial 91 with value: 0.05472000784016907.\u001b[0m\n",
      "\u001b[32m[I 2022-01-22 19:51:55,128]\u001b[0m Trial 113 finished with value: 0.1561844702697815 and parameters: {'num_leaves': 26, 'max_depth': 17, 'learning_rate': 0.1569585937071252, 'n_estimators': 35, 'min_split_gain': 0.02384154851763639, 'min_child_samples': 10, 'reg_alpha': 0.36584096567192426, 'reg_lambda': 0.5310447226516255}. Best is trial 91 with value: 0.05472000784016907.\u001b[0m\n",
      "\u001b[32m[I 2022-01-22 19:52:02,945]\u001b[0m Trial 114 finished with value: 0.09270870065717152 and parameters: {'num_leaves': 25, 'max_depth': 18, 'learning_rate': 0.03759883800065958, 'n_estimators': 32, 'min_split_gain': 0.0283371183997813, 'min_child_samples': 11, 'reg_alpha': 0.603434183080851, 'reg_lambda': 0.3384108580621969}. Best is trial 91 with value: 0.05472000784016907.\u001b[0m\n",
      "\u001b[32m[I 2022-01-22 19:52:11,493]\u001b[0m Trial 115 finished with value: 0.05903334088836515 and parameters: {'num_leaves': 23, 'max_depth': 20, 'learning_rate': 0.0030118663706559337, 'n_estimators': 34, 'min_split_gain': 0.03100607113537342, 'min_child_samples': 9, 'reg_alpha': 0.6189985355321308, 'reg_lambda': 0.7664867025916255}. Best is trial 91 with value: 0.05472000784016907.\u001b[0m\n",
      "\u001b[32m[I 2022-01-22 19:52:16,973]\u001b[0m Trial 116 finished with value: 0.1395090171917844 and parameters: {'num_leaves': 23, 'max_depth': 20, 'learning_rate': 0.13897023668015782, 'n_estimators': 17, 'min_split_gain': 0.031646300043498804, 'min_child_samples': 9, 'reg_alpha': 0.6950779202707883, 'reg_lambda': 0.3998714391495074}. Best is trial 91 with value: 0.05472000784016907.\u001b[0m\n",
      "\u001b[32m[I 2022-01-22 19:52:24,919]\u001b[0m Trial 117 finished with value: 0.055443295995583036 and parameters: {'num_leaves': 21, 'max_depth': 15, 'learning_rate': 0.011066962568370111, 'n_estimators': 34, 'min_split_gain': 0.025620127076255498, 'min_child_samples': 8, 'reg_alpha': 0.6623957395179338, 'reg_lambda': 0.30490906535729956}. Best is trial 91 with value: 0.05472000784016907.\u001b[0m\n",
      "\u001b[32m[I 2022-01-22 19:52:29,492]\u001b[0m Trial 118 finished with value: 0.15162886327696584 and parameters: {'num_leaves': 21, 'max_depth': 16, 'learning_rate': 0.34420627852086955, 'n_estimators': 10, 'min_split_gain': 0.025908102736995817, 'min_child_samples': 8, 'reg_alpha': 0.6602227134885637, 'reg_lambda': 0.31335956470913}. Best is trial 91 with value: 0.05472000784016907.\u001b[0m\n",
      "\u001b[32m[I 2022-01-22 19:52:37,462]\u001b[0m Trial 119 finished with value: 0.0609545647507689 and parameters: {'num_leaves': 22, 'max_depth': 14, 'learning_rate': 0.0021492580863372765, 'n_estimators': 33, 'min_split_gain': 0.036135743878933785, 'min_child_samples': 7, 'reg_alpha': 0.6173138119382603, 'reg_lambda': 0.29208183395539716}. Best is trial 91 with value: 0.05472000784016907.\u001b[0m\n",
      "\u001b[32m[I 2022-01-22 19:52:42,669]\u001b[0m Trial 120 finished with value: 0.1503558294964667 and parameters: {'num_leaves': 19, 'max_depth': 15, 'learning_rate': 0.2440073912828675, 'n_estimators': 21, 'min_split_gain': 0.046053696096057806, 'min_child_samples': 6, 'reg_alpha': 0.5780724102263288, 'reg_lambda': 0.7391629469691873}. Best is trial 91 with value: 0.05472000784016907.\u001b[0m\n",
      "\u001b[32m[I 2022-01-22 19:52:50,031]\u001b[0m Trial 121 finished with value: 0.11774567369095441 and parameters: {'num_leaves': 22, 'max_depth': 14, 'learning_rate': 0.0530012736764591, 'n_estimators': 34, 'min_split_gain': 0.03393647739471498, 'min_child_samples': 7, 'reg_alpha': 0.6121755097080978, 'reg_lambda': 0.29924619058708407}. Best is trial 91 with value: 0.05472000784016907.\u001b[0m\n",
      "\u001b[32m[I 2022-01-22 19:52:58,274]\u001b[0m Trial 122 finished with value: 0.059999206102480475 and parameters: {'num_leaves': 21, 'max_depth': 15, 'learning_rate': 0.003083252271376064, 'n_estimators': 28, 'min_split_gain': 0.029449296692931153, 'min_child_samples': 4, 'reg_alpha': 0.6251638086479437, 'reg_lambda': 0.3593983857299943}. Best is trial 91 with value: 0.05472000784016907.\u001b[0m\n",
      "\u001b[32m[I 2022-01-22 19:53:04,337]\u001b[0m Trial 123 finished with value: 0.14992939998460364 and parameters: {'num_leaves': 20, 'max_depth': 15, 'learning_rate': 0.13852942422548417, 'n_estimators': 24, 'min_split_gain': 0.029883679579770103, 'min_child_samples': 3, 'reg_alpha': 0.6811962049735256, 'reg_lambda': 0.3636267940956359}. Best is trial 91 with value: 0.05472000784016907.\u001b[0m\n",
      "\u001b[32m[I 2022-01-22 19:53:10,012]\u001b[0m Trial 124 finished with value: 0.15465626281221198 and parameters: {'num_leaves': 21, 'max_depth': 17, 'learning_rate': 0.19199880464724536, 'n_estimators': 28, 'min_split_gain': 0.025370554446049368, 'min_child_samples': 4, 'reg_alpha': 0.565924135544593, 'reg_lambda': 0.3529142437602262}. Best is trial 91 with value: 0.05472000784016907.\u001b[0m\n",
      "\u001b[32m[I 2022-01-22 19:53:16,915]\u001b[0m Trial 125 finished with value: 0.13207172923480792 and parameters: {'num_leaves': 24, 'max_depth': 16, 'learning_rate': 0.07098060066711542, 'n_estimators': 31, 'min_split_gain': 0.05819317364273664, 'min_child_samples': 10, 'reg_alpha': 0.5955219493794666, 'reg_lambda': 0.4437826546767501}. Best is trial 91 with value: 0.05472000784016907.\u001b[0m\n",
      "\u001b[32m[I 2022-01-22 19:53:24,690]\u001b[0m Trial 126 finished with value: 0.05669682546215655 and parameters: {'num_leaves': 23, 'max_depth': 12, 'learning_rate': 0.005594990251491228, 'n_estimators': 29, 'min_split_gain': 0.02803284363218911, 'min_child_samples': 9, 'reg_alpha': 0.40169074728342347, 'reg_lambda': 0.3368369315130201}. Best is trial 91 with value: 0.05472000784016907.\u001b[0m\n",
      "\u001b[32m[I 2022-01-22 19:53:32,531]\u001b[0m Trial 127 finished with value: 0.06269319974042326 and parameters: {'num_leaves': 23, 'max_depth': 12, 'learning_rate': 0.00181986435569514, 'n_estimators': 25, 'min_split_gain': 0.031157658277946917, 'min_child_samples': 9, 'reg_alpha': 0.33780371811616566, 'reg_lambda': 0.3788222756946532}. Best is trial 91 with value: 0.05472000784016907.\u001b[0m\n",
      "\u001b[32m[I 2022-01-22 19:53:38,590]\u001b[0m Trial 128 finished with value: 0.1528972394082368 and parameters: {'num_leaves': 21, 'max_depth': 11, 'learning_rate': 0.2886947374681193, 'n_estimators': 29, 'min_split_gain': 0.027830092700702417, 'min_child_samples': 8, 'reg_alpha': 0.36500655948869565, 'reg_lambda': 0.3248242947184216}. Best is trial 91 with value: 0.05472000784016907.\u001b[0m\n",
      "\u001b[32m[I 2022-01-22 19:53:43,481]\u001b[0m Trial 129 finished with value: 0.1551246637351945 and parameters: {'num_leaves': 23, 'max_depth': 23, 'learning_rate': 0.39320479116533275, 'n_estimators': 26, 'min_split_gain': 0.019723331810501888, 'min_child_samples': 12, 'reg_alpha': 0.5360986330662785, 'reg_lambda': 0.2617902706898117}. Best is trial 91 with value: 0.05472000784016907.\u001b[0m\n",
      "\u001b[32m[I 2022-01-22 19:53:49,730]\u001b[0m Trial 130 finished with value: 0.14569362887180815 and parameters: {'num_leaves': 19, 'max_depth': 13, 'learning_rate': 0.14402004396016743, 'n_estimators': 21, 'min_split_gain': 0.03959119446697572, 'min_child_samples': 4, 'reg_alpha': 0.7961214045891641, 'reg_lambda': 0.8212311408265935}. Best is trial 91 with value: 0.05472000784016907.\u001b[0m\n",
      "\u001b[32m[I 2022-01-22 19:53:54,236]\u001b[0m Trial 131 finished with value: 0.0587140234887613 and parameters: {'num_leaves': 2, 'max_depth': 14, 'learning_rate': 0.08017932581265011, 'n_estimators': 30, 'min_split_gain': 0.02420062078441383, 'min_child_samples': 10, 'reg_alpha': 0.3994801026779773, 'reg_lambda': 0.3464998824552935}. Best is trial 91 with value: 0.05472000784016907.\u001b[0m\n"
     ]
    },
    {
     "name": "stderr",
     "output_type": "stream",
     "text": [
      "\u001b[32m[I 2022-01-22 19:53:58,579]\u001b[0m Trial 132 finished with value: 0.05170000911969377 and parameters: {'num_leaves': 2, 'max_depth': 14, 'learning_rate': 0.06050200863206649, 'n_estimators': 31, 'min_split_gain': 0.028196730282705876, 'min_child_samples': 9, 'reg_alpha': 0.3924842291890882, 'reg_lambda': 0.33548727250985255}. Best is trial 132 with value: 0.05170000911969377.\u001b[0m\n",
      "\u001b[32m[I 2022-01-22 19:54:03,054]\u001b[0m Trial 133 finished with value: 0.17885157279235228 and parameters: {'num_leaves': 2, 'max_depth': 14, 'learning_rate': 1.7179322086575683, 'n_estimators': 30, 'min_split_gain': 0.03281417786266911, 'min_child_samples': 9, 'reg_alpha': 0.41522205011475294, 'reg_lambda': 0.28248674821583974}. Best is trial 132 with value: 0.05170000911969377.\u001b[0m\n",
      "\u001b[32m[I 2022-01-22 19:54:09,773]\u001b[0m Trial 134 finished with value: 0.13687085397611687 and parameters: {'num_leaves': 4, 'max_depth': 15, 'learning_rate': 0.10189460167590585, 'n_estimators': 24, 'min_split_gain': 0.02874776437380902, 'min_child_samples': 8, 'reg_alpha': 0.3990651796548098, 'reg_lambda': 0.31149202625713435}. Best is trial 132 with value: 0.05170000911969377.\u001b[0m\n",
      "\u001b[32m[I 2022-01-22 19:54:15,464]\u001b[0m Trial 135 finished with value: 0.16221579713783463 and parameters: {'num_leaves': 5, 'max_depth': 15, 'learning_rate': 0.23327843971832368, 'n_estimators': 28, 'min_split_gain': 0.027219201049462564, 'min_child_samples': 10, 'reg_alpha': 0.4428592097170658, 'reg_lambda': 0.37523858448508884}. Best is trial 132 with value: 0.05170000911969377.\u001b[0m\n",
      "\u001b[32m[I 2022-01-22 19:54:20,445]\u001b[0m Trial 136 finished with value: 0.09959229278314029 and parameters: {'num_leaves': 3, 'max_depth': 27, 'learning_rate': 0.055989590795407565, 'n_estimators': 37, 'min_split_gain': 0.03479694112138211, 'min_child_samples': 11, 'reg_alpha': 0.4783711321219698, 'reg_lambda': 0.3336072423327123}. Best is trial 132 with value: 0.05170000911969377.\u001b[0m\n",
      "\u001b[32m[I 2022-01-22 19:54:30,038]\u001b[0m Trial 137 finished with value: 2.0094338887614823e+21 and parameters: {'num_leaves': 20, 'max_depth': 11, 'learning_rate': 3.274386157063382, 'n_estimators': 31, 'min_split_gain': 0.023852210870316682, 'min_child_samples': 9, 'reg_alpha': 0.39827224458025323, 'reg_lambda': 0.39377596681745153}. Best is trial 132 with value: 0.05170000911969377.\u001b[0m\n",
      "\u001b[32m[I 2022-01-22 19:54:34,379]\u001b[0m Trial 138 finished with value: 0.0595893091572389 and parameters: {'num_leaves': 2, 'max_depth': 21, 'learning_rate': 0.003622144609785427, 'n_estimators': 27, 'min_split_gain': 0.029763233440863672, 'min_child_samples': 5, 'reg_alpha': 0.3792639161411734, 'reg_lambda': 0.3704489508851578}. Best is trial 132 with value: 0.05170000911969377.\u001b[0m\n",
      "\u001b[32m[I 2022-01-22 19:54:40,678]\u001b[0m Trial 139 finished with value: 0.06447466229334814 and parameters: {'num_leaves': 22, 'max_depth': 21, 'learning_rate': 0.0016349022161384666, 'n_estimators': 14, 'min_split_gain': 0.03034584961849473, 'min_child_samples': 7, 'reg_alpha': 0.38033329099589824, 'reg_lambda': 0.4190822655077422}. Best is trial 132 with value: 0.05170000911969377.\u001b[0m\n",
      "\u001b[32m[I 2022-01-22 19:54:46,368]\u001b[0m Trial 140 finished with value: 0.126701176557606 and parameters: {'num_leaves': 2, 'max_depth': 12, 'learning_rate': 0.1664482211043234, 'n_estimators': 92, 'min_split_gain': 0.03134935625797244, 'min_child_samples': 5, 'reg_alpha': 0.3076339117463969, 'reg_lambda': 0.3647264265594124}. Best is trial 132 with value: 0.05170000911969377.\u001b[0m\n",
      "\u001b[32m[I 2022-01-22 19:54:51,469]\u001b[0m Trial 141 finished with value: 0.05764352674587536 and parameters: {'num_leaves': 3, 'max_depth': 22, 'learning_rate': 0.00403011149111952, 'n_estimators': 28, 'min_split_gain': 0.027640987820410388, 'min_child_samples': 5, 'reg_alpha': 0.3500129106724534, 'reg_lambda': 0.33536165607895474}. Best is trial 132 with value: 0.05170000911969377.\u001b[0m\n",
      "\u001b[32m[I 2022-01-22 19:54:56,876]\u001b[0m Trial 142 finished with value: 0.06321569135371684 and parameters: {'num_leaves': 3, 'max_depth': 21, 'learning_rate': 0.001293987656721376, 'n_estimators': 27, 'min_split_gain': 0.026184161636965273, 'min_child_samples': 3, 'reg_alpha': 0.35090612121708975, 'reg_lambda': 0.3389552305812368}. Best is trial 132 with value: 0.05170000911969377.\u001b[0m\n",
      "\u001b[32m[I 2022-01-22 19:55:01,162]\u001b[0m Trial 143 finished with value: 0.054055939796905296 and parameters: {'num_leaves': 2, 'max_depth': 22, 'learning_rate': 0.08808067547040027, 'n_estimators': 23, 'min_split_gain': 0.028857776133548212, 'min_child_samples': 5, 'reg_alpha': 0.2886036477009299, 'reg_lambda': 0.30654207316243026}. Best is trial 132 with value: 0.05170000911969377.\u001b[0m\n",
      "\u001b[32m[I 2022-01-22 19:55:05,817]\u001b[0m Trial 144 finished with value: 0.11003384843436957 and parameters: {'num_leaves': 3, 'max_depth': 22, 'learning_rate': 0.10238685498336854, 'n_estimators': 23, 'min_split_gain': 0.023261195399188524, 'min_child_samples': 5, 'reg_alpha': 0.32529784463463884, 'reg_lambda': 0.30435779359063386}. Best is trial 132 with value: 0.05170000911969377.\u001b[0m\n",
      "\u001b[32m[I 2022-01-22 19:55:09,911]\u001b[0m Trial 145 finished with value: 0.07852504021911218 and parameters: {'num_leaves': 2, 'max_depth': 20, 'learning_rate': 0.2229176681205181, 'n_estimators': 19, 'min_split_gain': 0.02789208423675451, 'min_child_samples': 5, 'reg_alpha': 0.2904063879845782, 'reg_lambda': 0.2461532843239725}. Best is trial 132 with value: 0.05170000911969377.\u001b[0m\n",
      "\u001b[32m[I 2022-01-22 19:55:14,329]\u001b[0m Trial 146 finished with value: 0.14723658782764748 and parameters: {'num_leaves': 4, 'max_depth': 23, 'learning_rate': 0.3111065785962658, 'n_estimators': 22, 'min_split_gain': 0.03710699378489455, 'min_child_samples': 6, 'reg_alpha': 0.42963381701325265, 'reg_lambda': 0.2786049029339176}. Best is trial 132 with value: 0.05170000911969377.\u001b[0m\n",
      "\u001b[32m[I 2022-01-22 19:55:19,593]\u001b[0m Trial 147 finished with value: 0.1305008931859821 and parameters: {'num_leaves': 4, 'max_depth': 21, 'learning_rate': 0.08745432789745802, 'n_estimators': 25, 'min_split_gain': 0.02514338339760545, 'min_child_samples': 8, 'reg_alpha': 0.27208589256114124, 'reg_lambda': 0.30990589358729237}. Best is trial 132 with value: 0.05170000911969377.\u001b[0m\n",
      "\u001b[32m[I 2022-01-22 19:55:23,798]\u001b[0m Trial 148 finished with value: 0.06479807981139782 and parameters: {'num_leaves': 2, 'max_depth': 22, 'learning_rate': 0.17088466607650027, 'n_estimators': 17, 'min_split_gain': 0.03228298145945281, 'min_child_samples': 7, 'reg_alpha': 0.16260069137721134, 'reg_lambda': 0.3390710340109842}. Best is trial 132 with value: 0.05170000911969377.\u001b[0m\n",
      "\u001b[32m[I 2022-01-22 19:55:27,755]\u001b[0m Trial 149 finished with value: 0.05129268388919854 and parameters: {'num_leaves': 2, 'max_depth': 20, 'learning_rate': 0.08682561894975563, 'n_estimators': 20, 'min_split_gain': 0.033970395513660635, 'min_child_samples': 9, 'reg_alpha': 0.37078634207393596, 'reg_lambda': 0.32331397287247876}. Best is trial 149 with value: 0.05129268388919854.\u001b[0m\n",
      "\u001b[32m[I 2022-01-22 19:55:31,788]\u001b[0m Trial 150 finished with value: 0.08796253362372368 and parameters: {'num_leaves': 2, 'max_depth': 24, 'learning_rate': 0.25094255723709136, 'n_estimators': 20, 'min_split_gain': 0.035166150382206975, 'min_child_samples': 10, 'reg_alpha': 0.36477792244339113, 'reg_lambda': 0.3789695095958836}. Best is trial 149 with value: 0.05129268388919854.\u001b[0m\n",
      "\u001b[32m[I 2022-01-22 19:55:36,231]\u001b[0m Trial 151 finished with value: 0.06376993604564624 and parameters: {'num_leaves': 3, 'max_depth': 20, 'learning_rate': 0.0019084993781568892, 'n_estimators': 15, 'min_split_gain': 0.028940306364106213, 'min_child_samples': 9, 'reg_alpha': 0.39083049691269595, 'reg_lambda': 0.3208946630059431}. Best is trial 149 with value: 0.05129268388919854.\u001b[0m\n",
      "\u001b[32m[I 2022-01-22 19:55:42,450]\u001b[0m Trial 152 finished with value: 0.13435721448747365 and parameters: {'num_leaves': 6, 'max_depth': 20, 'learning_rate': 0.09892671551247123, 'n_estimators': 22, 'min_split_gain': 0.033648208396586624, 'min_child_samples': 9, 'reg_alpha': 0.34159971520680366, 'reg_lambda': 0.29396830571998694}. Best is trial 149 with value: 0.05129268388919854.\u001b[0m\n",
      "\u001b[32m[I 2022-01-22 19:55:46,311]\u001b[0m Trial 153 finished with value: 0.04681221426654529 and parameters: {'num_leaves': 2, 'max_depth': 23, 'learning_rate': 0.07440421028037278, 'n_estimators': 18, 'min_split_gain': 0.02697612373369893, 'min_child_samples': 8, 'reg_alpha': 0.4194369759847567, 'reg_lambda': 0.32806311976352026}. Best is trial 153 with value: 0.04681221426654529.\u001b[0m\n"
     ]
    },
    {
     "name": "stderr",
     "output_type": "stream",
     "text": [
      "\u001b[32m[I 2022-01-22 19:55:50,260]\u001b[0m Trial 154 finished with value: 0.06707849837336921 and parameters: {'num_leaves': 2, 'max_depth': 23, 'learning_rate': 0.1774165051869045, 'n_estimators': 18, 'min_split_gain': 0.02695407822264605, 'min_child_samples': 8, 'reg_alpha': 0.421779965415761, 'reg_lambda': 0.3325364736445381}. Best is trial 153 with value: 0.04681221426654529.\u001b[0m\n",
      "\u001b[32m[I 2022-01-22 19:55:55,424]\u001b[0m Trial 155 finished with value: 0.10153239176166917 and parameters: {'num_leaves': 3, 'max_depth': 25, 'learning_rate': 0.07918303010040854, 'n_estimators': 26, 'min_split_gain': 0.03044145554497122, 'min_child_samples': 6, 'reg_alpha': 0.4058042734264684, 'reg_lambda': 0.3543266987220745}. Best is trial 153 with value: 0.04681221426654529.\u001b[0m\n",
      "\u001b[32m[I 2022-01-22 19:56:00,025]\u001b[0m Trial 156 finished with value: 0.15393580730065073 and parameters: {'num_leaves': 4, 'max_depth': 22, 'learning_rate': 0.30129923905683614, 'n_estimators': 20, 'min_split_gain': 0.023831480185889986, 'min_child_samples': 10, 'reg_alpha': 0.3755132562975841, 'reg_lambda': 0.3846268849217588}. Best is trial 153 with value: 0.04681221426654529.\u001b[0m\n",
      "\u001b[32m[I 2022-01-22 19:56:05,401]\u001b[0m Trial 157 finished with value: 0.127967741132413 and parameters: {'num_leaves': 3, 'max_depth': 21, 'learning_rate': 0.14692108145058824, 'n_estimators': 23, 'min_split_gain': 0.02726511872373717, 'min_child_samples': 11, 'reg_alpha': 0.44841829631578484, 'reg_lambda': 0.4172157510306744}. Best is trial 153 with value: 0.04681221426654529.\u001b[0m\n",
      "\u001b[32m[I 2022-01-22 19:56:09,244]\u001b[0m Trial 158 finished with value: 0.06122357509242017 and parameters: {'num_leaves': 2, 'max_depth': 19, 'learning_rate': 0.005962027494528191, 'n_estimators': 12, 'min_split_gain': 0.03039270864183348, 'min_child_samples': 10, 'reg_alpha': 0.38791756178297954, 'reg_lambda': 0.2782571904219441}. Best is trial 153 with value: 0.04681221426654529.\u001b[0m\n",
      "\u001b[32m[I 2022-01-22 19:56:15,259]\u001b[0m Trial 159 finished with value: 0.13124942229308048 and parameters: {'num_leaves': 5, 'max_depth': 23, 'learning_rate': 0.07075239921122044, 'n_estimators': 30, 'min_split_gain': 0.0252783688738266, 'min_child_samples': 8, 'reg_alpha': 0.3498677380972331, 'reg_lambda': 0.3703612401898191}. Best is trial 153 with value: 0.04681221426654529.\u001b[0m\n",
      "\u001b[32m[I 2022-01-22 19:56:19,215]\u001b[0m Trial 160 finished with value: 0.11179074948396642 and parameters: {'num_leaves': 2, 'max_depth': 22, 'learning_rate': 0.41271570796019724, 'n_estimators': 16, 'min_split_gain': 0.033422679423717246, 'min_child_samples': 5, 'reg_alpha': 0.25436230451248276, 'reg_lambda': 0.34245818670518524}. Best is trial 153 with value: 0.04681221426654529.\u001b[0m\n",
      "\u001b[32m[I 2022-01-22 19:56:27,721]\u001b[0m Trial 161 finished with value: 0.05471352965115721 and parameters: {'num_leaves': 25, 'max_depth': 13, 'learning_rate': 0.009327129588794452, 'n_estimators': 33, 'min_split_gain': 0.02228922692600165, 'min_child_samples': 9, 'reg_alpha': 0.415943581485344, 'reg_lambda': 0.297189234403147}. Best is trial 153 with value: 0.04681221426654529.\u001b[0m\n",
      "\u001b[32m[I 2022-01-22 19:56:35,909]\u001b[0m Trial 162 finished with value: 0.13688263078388996 and parameters: {'num_leaves': 24, 'max_depth': 21, 'learning_rate': 0.0767006799559173, 'n_estimators': 32, 'min_split_gain': 0.0242337659348808, 'min_child_samples': 7, 'reg_alpha': 0.40913096433908125, 'reg_lambda': 0.3240704515519175}. Best is trial 153 with value: 0.04681221426654529.\u001b[0m\n",
      "\u001b[32m[I 2022-01-22 19:56:43,654]\u001b[0m Trial 163 finished with value: 0.055005057343992296 and parameters: {'num_leaves': 23, 'max_depth': 24, 'learning_rate': 0.008481823559530971, 'n_estimators': 28, 'min_split_gain': 0.0222858827437578, 'min_child_samples': 9, 'reg_alpha': 0.42659899386521544, 'reg_lambda': 0.2614581452039781}. Best is trial 153 with value: 0.04681221426654529.\u001b[0m\n",
      "\u001b[32m[I 2022-01-22 19:56:49,641]\u001b[0m Trial 164 finished with value: 0.14781503600543033 and parameters: {'num_leaves': 23, 'max_depth': 24, 'learning_rate': 0.215847022508459, 'n_estimators': 35, 'min_split_gain': 0.02198845352509888, 'min_child_samples': 9, 'reg_alpha': 0.43417657406220717, 'reg_lambda': 0.2611439829992712}. Best is trial 153 with value: 0.04681221426654529.\u001b[0m\n",
      "\u001b[32m[I 2022-01-22 19:56:56,632]\u001b[0m Trial 165 finished with value: 0.1567031005841338 and parameters: {'num_leaves': 24, 'max_depth': 24, 'learning_rate': 0.15245658825339578, 'n_estimators': 33, 'min_split_gain': 0.026844345357529806, 'min_child_samples': 9, 'reg_alpha': 0.4185316595068863, 'reg_lambda': 0.24052997679684504}. Best is trial 153 with value: 0.04681221426654529.\u001b[0m\n",
      "\u001b[32m[I 2022-01-22 19:57:03,226]\u001b[0m Trial 166 finished with value: 0.05637985127768353 and parameters: {'num_leaves': 22, 'max_depth': 26, 'learning_rate': 0.009568891162226117, 'n_estimators': 18, 'min_split_gain': 0.020763795686824297, 'min_child_samples': 8, 'reg_alpha': 0.46034928017750393, 'reg_lambda': 0.2880693775740198}. Best is trial 153 with value: 0.04681221426654529.\u001b[0m\n",
      "\u001b[32m[I 2022-01-22 19:57:09,133]\u001b[0m Trial 167 finished with value: 0.12053975435956558 and parameters: {'num_leaves': 22, 'max_depth': 26, 'learning_rate': 0.101332789621863, 'n_estimators': 18, 'min_split_gain': 0.01783795819943787, 'min_child_samples': 8, 'reg_alpha': 0.4680247367662098, 'reg_lambda': 0.2215526678387566}. Best is trial 153 with value: 0.04681221426654529.\u001b[0m\n",
      "\u001b[32m[I 2022-01-22 19:57:14,583]\u001b[0m Trial 168 finished with value: 0.15648521044399172 and parameters: {'num_leaves': 25, 'max_depth': 26, 'learning_rate': 0.2257307645507208, 'n_estimators': 19, 'min_split_gain': 0.021834022367496132, 'min_child_samples': 10, 'reg_alpha': 0.3247542011600324, 'reg_lambda': 0.292352007415028}. Best is trial 153 with value: 0.04681221426654529.\u001b[0m\n",
      "\u001b[32m[I 2022-01-22 19:57:21,917]\u001b[0m Trial 169 finished with value: 0.10940493483315979 and parameters: {'num_leaves': 23, 'max_depth': 25, 'learning_rate': 0.06526233300493361, 'n_estimators': 24, 'min_split_gain': 0.019724864005005366, 'min_child_samples': 11, 'reg_alpha': 0.39665044184675297, 'reg_lambda': 0.26820625935441944}. Best is trial 153 with value: 0.04681221426654529.\u001b[0m\n",
      "\u001b[32m[I 2022-01-22 19:57:28,962]\u001b[0m Trial 170 finished with value: 0.06392418835126303 and parameters: {'num_leaves': 26, 'max_depth': 27, 'learning_rate': 0.0014138793071306732, 'n_estimators': 21, 'min_split_gain': 0.022829251194339636, 'min_child_samples': 8, 'reg_alpha': 0.4547355708180763, 'reg_lambda': 0.29890495277575074}. Best is trial 153 with value: 0.04681221426654529.\u001b[0m\n",
      "\u001b[32m[I 2022-01-22 19:57:36,900]\u001b[0m Trial 171 finished with value: 0.06092989591814946 and parameters: {'num_leaves': 23, 'max_depth': 12, 'learning_rate': 0.0023743152298208517, 'n_estimators': 30, 'min_split_gain': 0.02527590086128372, 'min_child_samples': 9, 'reg_alpha': 0.361391362010828, 'reg_lambda': 0.31065731060570956}. Best is trial 153 with value: 0.04681221426654529.\u001b[0m\n",
      "\u001b[32m[I 2022-01-22 19:57:42,959]\u001b[0m Trial 172 finished with value: 0.15358734438123384 and parameters: {'num_leaves': 22, 'max_depth': 14, 'learning_rate': 0.15012278195905146, 'n_estimators': 29, 'min_split_gain': 0.027982809700939047, 'min_child_samples': 8, 'reg_alpha': 0.41640129886977784, 'reg_lambda': 0.32031313487623103}. Best is trial 153 with value: 0.04681221426654529.\u001b[0m\n",
      "\u001b[32m[I 2022-01-22 19:57:48,555]\u001b[0m Trial 173 finished with value: 0.07609436980267187 and parameters: {'num_leaves': 24, 'max_depth': 13, 'learning_rate': 0.05722318964844054, 'n_estimators': 15, 'min_split_gain': 0.023288139434658996, 'min_child_samples': 10, 'reg_alpha': 0.43806863148660363, 'reg_lambda': 0.28387277395275895}. Best is trial 153 with value: 0.04681221426654529.\u001b[0m\n",
      "\u001b[32m[I 2022-01-22 19:57:56,486]\u001b[0m Trial 174 finished with value: 0.06349482629188531 and parameters: {'num_leaves': 22, 'max_depth': 16, 'learning_rate': 0.001064996265341075, 'n_estimators': 33, 'min_split_gain': 0.0188632327746861, 'min_child_samples': 7, 'reg_alpha': 0.5042060703843703, 'reg_lambda': 0.33152307574774736}. Best is trial 153 with value: 0.04681221426654529.\u001b[0m\n",
      "\u001b[32m[I 2022-01-22 19:58:02,309]\u001b[0m Trial 175 finished with value: 0.15224706773080754 and parameters: {'num_leaves': 25, 'max_depth': 19, 'learning_rate': 0.14683678009240397, 'n_estimators': 25, 'min_split_gain': 0.02900469685168142, 'min_child_samples': 9, 'reg_alpha': 0.3889474022570595, 'reg_lambda': 0.3564894830479422}. Best is trial 153 with value: 0.04681221426654529.\u001b[0m\n"
     ]
    },
    {
     "name": "stderr",
     "output_type": "stream",
     "text": [
      "\u001b[32m[I 2022-01-22 19:58:07,394]\u001b[0m Trial 176 finished with value: 0.15605493668038184 and parameters: {'num_leaves': 24, 'max_depth': 25, 'learning_rate': 0.256458603557043, 'n_estimators': 31, 'min_split_gain': 0.02591492435138865, 'min_child_samples': 10, 'reg_alpha': 0.4049355026215441, 'reg_lambda': 0.2607666817339226}. Best is trial 153 with value: 0.04681221426654529.\u001b[0m\n",
      "\u001b[32m[I 2022-01-22 19:58:15,140]\u001b[0m Trial 177 finished with value: 0.06417073399748612 and parameters: {'num_leaves': 23, 'max_depth': 14, 'learning_rate': 0.0009857043705405232, 'n_estimators': 27, 'min_split_gain': 0.016185980444663184, 'min_child_samples': 8, 'reg_alpha': 0.4309446341757516, 'reg_lambda': 0.2990782483846107}. Best is trial 153 with value: 0.04681221426654529.\u001b[0m\n",
      "\u001b[32m[I 2022-01-22 19:58:24,300]\u001b[0m Trial 178 finished with value: 0.057872793848218695 and parameters: {'num_leaves': 25, 'max_depth': 24, 'learning_rate': 0.0036103674868249343, 'n_estimators': 36, 'min_split_gain': 0.03192258523413445, 'min_child_samples': 9, 'reg_alpha': 0.3656267684259276, 'reg_lambda': 0.34297457698299055}. Best is trial 153 with value: 0.04681221426654529.\u001b[0m\n",
      "\u001b[32m[I 2022-01-22 19:58:30,639]\u001b[0m Trial 179 finished with value: 0.06566881987318546 and parameters: {'num_leaves': 26, 'max_depth': 25, 'learning_rate': 0.0005319502724047548, 'n_estimators': 17, 'min_split_gain': 0.020625424685954984, 'min_child_samples': 11, 'reg_alpha': 0.37297607107976394, 'reg_lambda': 0.4897459446751554}. Best is trial 153 with value: 0.04681221426654529.\u001b[0m\n",
      "\u001b[32m[I 2022-01-22 19:58:36,784]\u001b[0m Trial 180 finished with value: 0.11868470297601227 and parameters: {'num_leaves': 27, 'max_depth': 23, 'learning_rate': 0.08839543553475487, 'n_estimators': 20, 'min_split_gain': 0.02813456868068242, 'min_child_samples': 10, 'reg_alpha': 0.3436955935474388, 'reg_lambda': 0.530062584977669}. Best is trial 153 with value: 0.04681221426654529.\u001b[0m\n",
      "\u001b[32m[I 2022-01-22 19:58:44,032]\u001b[0m Trial 181 finished with value: 0.14167686320132414 and parameters: {'num_leaves': 24, 'max_depth': 24, 'learning_rate': 0.07641189385391796, 'n_estimators': 36, 'min_split_gain': 0.031282285920677805, 'min_child_samples': 8, 'reg_alpha': 0.36693699752864545, 'reg_lambda': 0.3438402107265445}. Best is trial 153 with value: 0.04681221426654529.\u001b[0m\n",
      "\u001b[32m[I 2022-01-22 19:58:52,495]\u001b[0m Trial 182 finished with value: 0.05624721100916555 and parameters: {'num_leaves': 25, 'max_depth': 14, 'learning_rate': 0.005014391971719961, 'n_estimators': 34, 'min_split_gain': 0.031798881364804785, 'min_child_samples': 9, 'reg_alpha': 0.21615030506743685, 'reg_lambda': 0.39794248332485743}. Best is trial 153 with value: 0.04681221426654529.\u001b[0m\n",
      "\u001b[32m[I 2022-01-22 19:58:58,411]\u001b[0m Trial 183 finished with value: 0.15408869821322563 and parameters: {'num_leaves': 26, 'max_depth': 14, 'learning_rate': 0.17108458905516324, 'n_estimators': 36, 'min_split_gain': 0.03253924058416733, 'min_child_samples': 9, 'reg_alpha': 0.1662857489830598, 'reg_lambda': 0.3978594635154524}. Best is trial 153 with value: 0.04681221426654529.\u001b[0m\n",
      "\u001b[32m[I 2022-01-22 19:59:08,311]\u001b[0m Trial 184 finished with value: 0.06376032846009325 and parameters: {'num_leaves': 25, 'max_depth': 28, 'learning_rate': 0.0009663468415252799, 'n_estimators': 32, 'min_split_gain': 0.025014758623008913, 'min_child_samples': 9, 'reg_alpha': 0.2021896693919141, 'reg_lambda': 0.3462485470389767}. Best is trial 153 with value: 0.04681221426654529.\u001b[0m\n",
      "\u001b[32m[I 2022-01-22 19:59:14,912]\u001b[0m Trial 185 finished with value: 0.15271318981497903 and parameters: {'num_leaves': 25, 'max_depth': 13, 'learning_rate': 0.12931289121400463, 'n_estimators': 29, 'min_split_gain': 0.027321124626477643, 'min_child_samples': 7, 'reg_alpha': 0.3947190009331245, 'reg_lambda': 0.322543772468598}. Best is trial 153 with value: 0.04681221426654529.\u001b[0m\n",
      "\u001b[32m[I 2022-01-22 19:59:20,311]\u001b[0m Trial 186 finished with value: 0.15050669761192603 and parameters: {'num_leaves': 27, 'max_depth': 15, 'learning_rate': 0.21027938063091842, 'n_estimators': 22, 'min_split_gain': 0.022363214258206338, 'min_child_samples': 8, 'reg_alpha': 0.44886607362176617, 'reg_lambda': 0.35864067852443665}. Best is trial 153 with value: 0.04681221426654529.\u001b[0m\n",
      "\u001b[32m[I 2022-01-22 19:59:27,848]\u001b[0m Trial 187 finished with value: 0.13766286879825984 and parameters: {'num_leaves': 25, 'max_depth': 13, 'learning_rate': 0.07366055579738391, 'n_estimators': 34, 'min_split_gain': 0.038327885442795744, 'min_child_samples': 11, 'reg_alpha': 0.312851746960709, 'reg_lambda': 0.40234941063856655}. Best is trial 153 with value: 0.04681221426654529.\u001b[0m\n",
      "\u001b[32m[I 2022-01-22 19:59:32,254]\u001b[0m Trial 188 finished with value: 0.15919549625051338 and parameters: {'num_leaves': 3, 'max_depth': 24, 'learning_rate': 0.3383681532337311, 'n_estimators': 28, 'min_split_gain': 0.035981361436886156, 'min_child_samples': 10, 'reg_alpha': 0.4142134647441753, 'reg_lambda': 0.34005569516838396}. Best is trial 153 with value: 0.04681221426654529.\u001b[0m\n",
      "\u001b[32m[I 2022-01-22 19:59:40,579]\u001b[0m Trial 189 finished with value: 0.12972384591887864 and parameters: {'num_leaves': 18, 'max_depth': 12, 'learning_rate': 0.06846736334939718, 'n_estimators': 31, 'min_split_gain': 0.028858840784158388, 'min_child_samples': 9, 'reg_alpha': 0.10346228965707033, 'reg_lambda': 0.3080243083910407}. Best is trial 153 with value: 0.04681221426654529.\u001b[0m\n",
      "\u001b[32m[I 2022-01-22 19:59:47,004]\u001b[0m Trial 190 finished with value: 0.15636140150525527 and parameters: {'num_leaves': 24, 'max_depth': 14, 'learning_rate': 0.15814068449639182, 'n_estimators': 40, 'min_split_gain': 0.026279932651603857, 'min_child_samples': 7, 'reg_alpha': 0.2824618464596865, 'reg_lambda': 0.3831804365362017}. Best is trial 153 with value: 0.04681221426654529.\u001b[0m\n",
      "\u001b[32m[I 2022-01-22 19:59:55,411]\u001b[0m Trial 191 finished with value: 0.08518614826927268 and parameters: {'num_leaves': 23, 'max_depth': 22, 'learning_rate': 0.030926227492357256, 'n_estimators': 34, 'min_split_gain': 0.03121452654228845, 'min_child_samples': 9, 'reg_alpha': 0.22538012079482125, 'reg_lambda': 0.31798955465534956}. Best is trial 153 with value: 0.04681221426654529.\u001b[0m\n",
      "\u001b[32m[I 2022-01-22 20:00:04,241]\u001b[0m Trial 192 finished with value: 0.06368280377600512 and parameters: {'num_leaves': 22, 'max_depth': 15, 'learning_rate': 0.017609610977581742, 'n_estimators': 36, 'min_split_gain': 0.03356031372476141, 'min_child_samples': 9, 'reg_alpha': 0.3831437860667056, 'reg_lambda': 0.36500648232398925}. Best is trial 153 with value: 0.04681221426654529.\u001b[0m\n",
      "\u001b[32m[I 2022-01-22 20:00:11,421]\u001b[0m Trial 193 finished with value: 0.155490943123123 and parameters: {'num_leaves': 23, 'max_depth': 20, 'learning_rate': 0.12162061308502689, 'n_estimators': 38, 'min_split_gain': 0.03138582355737031, 'min_child_samples': 8, 'reg_alpha': 0.19946057019976732, 'reg_lambda': 0.33580920928029223}. Best is trial 153 with value: 0.04681221426654529.\u001b[0m\n",
      "\u001b[32m[I 2022-01-22 20:00:19,915]\u001b[0m Trial 194 finished with value: 0.05771166965124598 and parameters: {'num_leaves': 21, 'max_depth': 16, 'learning_rate': 0.004072945280036935, 'n_estimators': 33, 'min_split_gain': 0.029193896891931585, 'min_child_samples': 10, 'reg_alpha': 0.4077905142967858, 'reg_lambda': 0.2863530991785837}. Best is trial 153 with value: 0.04681221426654529.\u001b[0m\n",
      "\u001b[32m[I 2022-01-22 20:00:24,538]\u001b[0m Trial 195 finished with value: 0.16067736337153918 and parameters: {'num_leaves': 21, 'max_depth': 16, 'learning_rate': 0.9689185975027015, 'n_estimators': 32, 'min_split_gain': 0.02420707632155089, 'min_child_samples': 10, 'reg_alpha': 0.35725598522673174, 'reg_lambda': 0.2896610884530618}. Best is trial 153 with value: 0.04681221426654529.\u001b[0m\n",
      "\u001b[32m[I 2022-01-22 20:00:34,536]\u001b[0m Trial 196 finished with value: 0.05725619870616041 and parameters: {'num_leaves': 21, 'max_depth': 16, 'learning_rate': 0.002691813788491024, 'n_estimators': 53, 'min_split_gain': 0.0294351484026857, 'min_child_samples': 11, 'reg_alpha': 0.8573212173447404, 'reg_lambda': 0.2764568473994068}. Best is trial 153 with value: 0.04681221426654529.\u001b[0m\n",
      "\u001b[32m[I 2022-01-22 20:00:45,592]\u001b[0m Trial 197 finished with value: 0.10086394328005972 and parameters: {'num_leaves': 20, 'max_depth': 16, 'learning_rate': 0.02392618824413631, 'n_estimators': 57, 'min_split_gain': 0.02904246865096424, 'min_child_samples': 12, 'reg_alpha': 0.8799246155035444, 'reg_lambda': 0.27476373152872846}. Best is trial 153 with value: 0.04681221426654529.\u001b[0m\n"
     ]
    },
    {
     "name": "stderr",
     "output_type": "stream",
     "text": [
      "\u001b[32m[I 2022-01-22 20:00:57,772]\u001b[0m Trial 198 finished with value: 0.055865650759850755 and parameters: {'num_leaves': 21, 'max_depth': 23, 'learning_rate': 0.007492597992696718, 'n_estimators': 54, 'min_split_gain': 0.029513153084269526, 'min_child_samples': 11, 'reg_alpha': 0.48345702307618316, 'reg_lambda': 0.2517060302191369}. Best is trial 153 with value: 0.04681221426654529.\u001b[0m\n",
      "\u001b[32m[I 2022-01-22 20:01:09,285]\u001b[0m Trial 199 finished with value: 0.06268665654404607 and parameters: {'num_leaves': 21, 'max_depth': 23, 'learning_rate': 0.0007492998737443895, 'n_estimators': 60, 'min_split_gain': 0.034722698605296386, 'min_child_samples': 11, 'reg_alpha': 0.8427551935220151, 'reg_lambda': 0.22286496516695606}. Best is trial 153 with value: 0.04681221426654529.\u001b[0m\n",
      "\u001b[32m[I 2022-01-22 20:01:15,420]\u001b[0m Trial 200 finished with value: 0.15424273595113178 and parameters: {'num_leaves': 21, 'max_depth': 23, 'learning_rate': 0.21118107991639037, 'n_estimators': 51, 'min_split_gain': 0.02697398851732506, 'min_child_samples': 11, 'reg_alpha': 0.8644203698887062, 'reg_lambda': 0.26802842248568715}. Best is trial 153 with value: 0.04681221426654529.\u001b[0m\n",
      "\u001b[32m[I 2022-01-22 20:01:21,792]\u001b[0m Trial 201 finished with value: 0.05764834181707832 and parameters: {'num_leaves': 20, 'max_depth': 15, 'learning_rate': 0.007334320566172064, 'n_estimators': 18, 'min_split_gain': 0.02950276082518093, 'min_child_samples': 12, 'reg_alpha': 0.8219249271057657, 'reg_lambda': 0.2947924722040241}. Best is trial 153 with value: 0.04681221426654529.\u001b[0m\n",
      "\u001b[32m[I 2022-01-22 20:01:29,007]\u001b[0m Trial 202 finished with value: 0.1522824585324835 and parameters: {'num_leaves': 20, 'max_depth': 17, 'learning_rate': 0.10762465011613402, 'n_estimators': 55, 'min_split_gain': 0.029104038264970086, 'min_child_samples': 12, 'reg_alpha': 0.4756681917920295, 'reg_lambda': 0.253855163279605}. Best is trial 153 with value: 0.04681221426654529.\u001b[0m\n",
      "\u001b[32m[I 2022-01-22 20:01:38,790]\u001b[0m Trial 203 finished with value: 0.0635503270135853 and parameters: {'num_leaves': 21, 'max_depth': 22, 'learning_rate': 0.000637624754638343, 'n_estimators': 53, 'min_split_gain': 0.03265321364624084, 'min_child_samples': 12, 'reg_alpha': 0.8495035450183924, 'reg_lambda': 0.29116256527901874}. Best is trial 153 with value: 0.04681221426654529.\u001b[0m\n",
      "\u001b[32m[I 2022-01-22 20:01:49,538]\u001b[0m Trial 204 finished with value: 0.06081005053716337 and parameters: {'num_leaves': 19, 'max_depth': 16, 'learning_rate': 0.0015349958320862367, 'n_estimators': 48, 'min_split_gain': 0.026505839301093993, 'min_child_samples': 11, 'reg_alpha': 0.48990799870007107, 'reg_lambda': 0.24743876140251153}. Best is trial 153 with value: 0.04681221426654529.\u001b[0m\n",
      "\u001b[32m[I 2022-01-22 20:01:56,922]\u001b[0m Trial 205 finished with value: 0.06074279190778165 and parameters: {'num_leaves': 22, 'max_depth': 15, 'learning_rate': 0.003934263241174185, 'n_estimators': 19, 'min_split_gain': 0.030668700672590775, 'min_child_samples': 10, 'reg_alpha': 0.4595634880183461, 'reg_lambda': 0.30798142110914156}. Best is trial 153 with value: 0.04681221426654529.\u001b[0m\n",
      "\u001b[32m[I 2022-01-22 20:02:04,621]\u001b[0m Trial 206 finished with value: 0.15440209577341593 and parameters: {'num_leaves': 20, 'max_depth': 23, 'learning_rate': 0.11187729619382743, 'n_estimators': 54, 'min_split_gain': 0.02976680855930973, 'min_child_samples': 11, 'reg_alpha': 0.780506241371596, 'reg_lambda': 0.16906176896377134}. Best is trial 153 with value: 0.04681221426654529.\u001b[0m\n",
      "\u001b[32m[I 2022-01-22 20:02:10,289]\u001b[0m Trial 207 finished with value: 0.14824856080969587 and parameters: {'num_leaves': 21, 'max_depth': 24, 'learning_rate': 0.1654587671883245, 'n_estimators': 18, 'min_split_gain': 0.02815400670600664, 'min_child_samples': 10, 'reg_alpha': 0.8399369400788906, 'reg_lambda': 0.28719275340855804}. Best is trial 153 with value: 0.04681221426654529.\u001b[0m\n",
      "\u001b[32m[I 2022-01-22 20:02:16,423]\u001b[0m Trial 208 finished with value: 0.09744520102916693 and parameters: {'num_leaves': 22, 'max_depth': 17, 'learning_rate': 0.07648295255930058, 'n_estimators': 17, 'min_split_gain': 0.03315053822960608, 'min_child_samples': 9, 'reg_alpha': 0.4309103613271475, 'reg_lambda': 0.27376657920779207}. Best is trial 153 with value: 0.04681221426654529.\u001b[0m\n",
      "\u001b[32m[I 2022-01-22 20:02:22,651]\u001b[0m Trial 209 finished with value: 0.15001344246918652 and parameters: {'num_leaves': 20, 'max_depth': 16, 'learning_rate': 0.2467918221987448, 'n_estimators': 76, 'min_split_gain': 0.02151293250565112, 'min_child_samples': 12, 'reg_alpha': 0.8876934603397004, 'reg_lambda': 0.3057034279209786}. Best is trial 153 with value: 0.04681221426654529.\u001b[0m\n",
      "\u001b[32m[I 2022-01-22 20:02:29,353]\u001b[0m Trial 210 finished with value: 0.056067494701015456 and parameters: {'num_leaves': 21, 'max_depth': 25, 'learning_rate': 0.008085130960884344, 'n_estimators': 22, 'min_split_gain': 0.024927587564098387, 'min_child_samples': 8, 'reg_alpha': 0.8152740831423282, 'reg_lambda': 0.32914628122698}. Best is trial 153 with value: 0.04681221426654529.\u001b[0m\n",
      "\u001b[32m[I 2022-01-22 20:02:35,612]\u001b[0m Trial 211 finished with value: 0.10044567000589028 and parameters: {'num_leaves': 21, 'max_depth': 25, 'learning_rate': 0.06572073864461378, 'n_estimators': 20, 'min_split_gain': 0.025474477078737713, 'min_child_samples': 8, 'reg_alpha': 0.80174568575434, 'reg_lambda': 0.3040307278766035}. Best is trial 153 with value: 0.04681221426654529.\u001b[0m\n",
      "\u001b[32m[I 2022-01-22 20:02:41,791]\u001b[0m Trial 212 finished with value: 0.05599922803021897 and parameters: {'num_leaves': 22, 'max_depth': 26, 'learning_rate': 0.008178137324129886, 'n_estimators': 22, 'min_split_gain': 0.0236121358710992, 'min_child_samples': 8, 'reg_alpha': 0.821964687534014, 'reg_lambda': 0.32736116888205957}. Best is trial 153 with value: 0.04681221426654529.\u001b[0m\n",
      "\u001b[32m[I 2022-01-22 20:02:47,767]\u001b[0m Trial 213 finished with value: 0.10813642666378333 and parameters: {'num_leaves': 22, 'max_depth': 26, 'learning_rate': 0.06837434621696585, 'n_estimators': 22, 'min_split_gain': 0.022955066507602786, 'min_child_samples': 8, 'reg_alpha': 0.8529584813040292, 'reg_lambda': 0.33049583061061044}. Best is trial 153 with value: 0.04681221426654529.\u001b[0m\n",
      "\u001b[32m[I 2022-01-22 20:02:54,878]\u001b[0m Trial 214 finished with value: 0.05475765292697751 and parameters: {'num_leaves': 21, 'max_depth': 26, 'learning_rate': 0.01408805283242535, 'n_estimators': 21, 'min_split_gain': 0.019004919012436235, 'min_child_samples': 4, 'reg_alpha': 0.8056853611682011, 'reg_lambda': 0.23262345026589082}. Best is trial 153 with value: 0.04681221426654529.\u001b[0m\n",
      "\u001b[32m[I 2022-01-22 20:03:00,577]\u001b[0m Trial 215 finished with value: 0.15302889356369084 and parameters: {'num_leaves': 21, 'max_depth': 27, 'learning_rate': 0.14881479162248296, 'n_estimators': 23, 'min_split_gain': 0.018039696658098226, 'min_child_samples': 6, 'reg_alpha': 0.8212501860792214, 'reg_lambda': 0.24055005378409475}. Best is trial 153 with value: 0.04681221426654529.\u001b[0m\n",
      "\u001b[32m[I 2022-01-22 20:03:06,740]\u001b[0m Trial 216 finished with value: 0.05561368184481109 and parameters: {'num_leaves': 22, 'max_depth': 28, 'learning_rate': 0.018199944408809482, 'n_estimators': 21, 'min_split_gain': 0.020171845950425572, 'min_child_samples': 4, 'reg_alpha': 0.75971677883175, 'reg_lambda': 0.20201545094495538}. Best is trial 153 with value: 0.04681221426654529.\u001b[0m\n",
      "\u001b[32m[I 2022-01-22 20:03:12,214]\u001b[0m Trial 217 finished with value: 0.1404530854317885 and parameters: {'num_leaves': 22, 'max_depth': 28, 'learning_rate': 0.13155891688816293, 'n_estimators': 20, 'min_split_gain': 0.019619138078057118, 'min_child_samples': 4, 'reg_alpha': 0.7789187955996967, 'reg_lambda': 0.21381048737803646}. Best is trial 153 with value: 0.04681221426654529.\u001b[0m\n",
      "\u001b[32m[I 2022-01-22 20:03:18,762]\u001b[0m Trial 218 finished with value: 0.05780030221514307 and parameters: {'num_leaves': 22, 'max_depth': 26, 'learning_rate': 0.005335427967459186, 'n_estimators': 24, 'min_split_gain': 0.02071785609142212, 'min_child_samples': 4, 'reg_alpha': 0.8194483964179589, 'reg_lambda': 0.1929612408958175}. Best is trial 153 with value: 0.04681221426654529.\u001b[0m\n",
      "\u001b[32m[I 2022-01-22 20:03:24,226]\u001b[0m Trial 219 finished with value: 0.15419819800856227 and parameters: {'num_leaves': 23, 'max_depth': 30, 'learning_rate': 0.20289167757468962, 'n_estimators': 21, 'min_split_gain': 0.018469954537495913, 'min_child_samples': 3, 'reg_alpha': 0.8000850587849325, 'reg_lambda': 0.24787928288596134}. Best is trial 153 with value: 0.04681221426654529.\u001b[0m\n"
     ]
    },
    {
     "name": "stderr",
     "output_type": "stream",
     "text": [
      "\u001b[32m[I 2022-01-22 20:03:30,070]\u001b[0m Trial 220 finished with value: 0.06466608139496045 and parameters: {'num_leaves': 22, 'max_depth': 29, 'learning_rate': 0.0013472939073335948, 'n_estimators': 15, 'min_split_gain': 0.014501789788139739, 'min_child_samples': 4, 'reg_alpha': 0.8241131285417191, 'reg_lambda': 0.23088194985261407}. Best is trial 153 with value: 0.04681221426654529.\u001b[0m\n",
      "\u001b[32m[I 2022-01-22 20:03:36,505]\u001b[0m Trial 221 finished with value: 0.05624062520028513 and parameters: {'num_leaves': 21, 'max_depth': 27, 'learning_rate': 0.009510788346814696, 'n_estimators': 18, 'min_split_gain': 0.023478558173715327, 'min_child_samples': 5, 'reg_alpha': 0.7451878091029436, 'reg_lambda': 0.2128100937129862}. Best is trial 153 with value: 0.04681221426654529.\u001b[0m\n",
      "\u001b[32m[I 2022-01-22 20:03:42,825]\u001b[0m Trial 222 finished with value: 0.06545162219641705 and parameters: {'num_leaves': 21, 'max_depth': 27, 'learning_rate': 0.0005917415675973665, 'n_estimators': 19, 'min_split_gain': 0.022767727561983496, 'min_child_samples': 5, 'reg_alpha': 0.7298478014516899, 'reg_lambda': 0.20441461919847043}. Best is trial 153 with value: 0.04681221426654529.\u001b[0m\n",
      "\u001b[32m[I 2022-01-22 20:03:48,714]\u001b[0m Trial 223 finished with value: 0.06567439038317044 and parameters: {'num_leaves': 20, 'max_depth': 27, 'learning_rate': 0.0005498235101731742, 'n_estimators': 16, 'min_split_gain': 0.016528971647036764, 'min_child_samples': 5, 'reg_alpha': 0.8103672153636194, 'reg_lambda': 0.22680406828496613}. Best is trial 153 with value: 0.04681221426654529.\u001b[0m\n",
      "\u001b[32m[I 2022-01-22 20:03:54,875]\u001b[0m Trial 224 finished with value: 0.11168583116320745 and parameters: {'num_leaves': 19, 'max_depth': 29, 'learning_rate': 0.07529717700623846, 'n_estimators': 21, 'min_split_gain': 0.02471660335070707, 'min_child_samples': 4, 'reg_alpha': 0.7575267841160187, 'reg_lambda': 0.18723052078693805}. Best is trial 153 with value: 0.04681221426654529.\u001b[0m\n",
      "\u001b[32m[I 2022-01-22 20:04:00,124]\u001b[0m Trial 225 finished with value: 0.10004551384347325 and parameters: {'num_leaves': 21, 'max_depth': 28, 'learning_rate': 0.09996912050103075, 'n_estimators': 13, 'min_split_gain': 0.021817391927541067, 'min_child_samples': 6, 'reg_alpha': 0.7884616674034687, 'reg_lambda': 0.16129374032419758}. Best is trial 153 with value: 0.04681221426654529.\u001b[0m\n",
      "\u001b[32m[I 2022-01-22 20:04:06,386]\u001b[0m Trial 226 finished with value: 0.0653924124736744 and parameters: {'num_leaves': 22, 'max_depth': 26, 'learning_rate': 0.0006613304918766764, 'n_estimators': 18, 'min_split_gain': 0.02041104394221341, 'min_child_samples': 3, 'reg_alpha': 0.760844641796233, 'reg_lambda': 0.2618882313936496}. Best is trial 153 with value: 0.04681221426654529.\u001b[0m\n",
      "\u001b[32m[I 2022-01-22 20:04:12,946]\u001b[0m Trial 227 finished with value: 0.06537738611171977 and parameters: {'num_leaves': 20, 'max_depth': 25, 'learning_rate': 0.0005490146374962646, 'n_estimators': 22, 'min_split_gain': 0.023599938605289618, 'min_child_samples': 7, 'reg_alpha': 0.8094761816337758, 'reg_lambda': 0.2145616058414049}. Best is trial 153 with value: 0.04681221426654529.\u001b[0m\n",
      "\u001b[32m[I 2022-01-22 20:04:19,881]\u001b[0m Trial 228 finished with value: 0.1491365156780094 and parameters: {'num_leaves': 23, 'max_depth': 26, 'learning_rate': 0.13267214161738816, 'n_estimators': 24, 'min_split_gain': 0.02630666107627044, 'min_child_samples': 6, 'reg_alpha': 0.7413760128614146, 'reg_lambda': 0.3183548852504165}. Best is trial 153 with value: 0.04681221426654529.\u001b[0m\n",
      "\u001b[32m[I 2022-01-22 20:04:25,465]\u001b[0m Trial 229 finished with value: 0.09598024207010725 and parameters: {'num_leaves': 21, 'max_depth': 27, 'learning_rate': 0.07272039646666813, 'n_estimators': 17, 'min_split_gain': 0.02480828913921876, 'min_child_samples': 4, 'reg_alpha': 0.8638252589411859, 'reg_lambda': 0.320655218133459}. Best is trial 153 with value: 0.04681221426654529.\u001b[0m\n",
      "\u001b[32m[I 2022-01-22 20:04:29,749]\u001b[0m Trial 230 finished with value: 0.18454700486036144 and parameters: {'num_leaves': 22, 'max_depth': 26, 'learning_rate': 1.136774717658319, 'n_estimators': 21, 'min_split_gain': 0.019355739651409118, 'min_child_samples': 5, 'reg_alpha': 0.8322415032315751, 'reg_lambda': 0.27337553956433525}. Best is trial 153 with value: 0.04681221426654529.\u001b[0m\n",
      "\u001b[32m[I 2022-01-22 20:04:35,915]\u001b[0m Trial 231 finished with value: 0.09836784334036226 and parameters: {'num_leaves': 21, 'max_depth': 28, 'learning_rate': 0.06809975194231231, 'n_estimators': 19, 'min_split_gain': 0.026595631142385837, 'min_child_samples': 8, 'reg_alpha': 0.7876770090473107, 'reg_lambda': 0.28406253185763775}. Best is trial 153 with value: 0.04681221426654529.\u001b[0m\n",
      "\u001b[32m[I 2022-01-22 20:04:43,311]\u001b[0m Trial 232 finished with value: 0.061157393855464086 and parameters: {'num_leaves': 22, 'max_depth': 25, 'learning_rate': 0.0025593521469774957, 'n_estimators': 26, 'min_split_gain': 0.027967575304270915, 'min_child_samples': 9, 'reg_alpha': 0.7114771085019199, 'reg_lambda': 0.2540593359292732}. Best is trial 153 with value: 0.04681221426654529.\u001b[0m\n",
      "\u001b[32m[I 2022-01-22 20:04:49,012]\u001b[0m Trial 233 finished with value: 0.15525861860106485 and parameters: {'num_leaves': 21, 'max_depth': 27, 'learning_rate': 0.1602678928406067, 'n_estimators': 23, 'min_split_gain': 0.022361739609531178, 'min_child_samples': 10, 'reg_alpha': 0.8280807356547224, 'reg_lambda': 0.29036548148731756}. Best is trial 153 with value: 0.04681221426654529.\u001b[0m\n",
      "\u001b[32m[I 2022-01-22 20:04:55,924]\u001b[0m Trial 234 finished with value: 0.09918659830947864 and parameters: {'num_leaves': 20, 'max_depth': 18, 'learning_rate': 0.06900338970898834, 'n_estimators': 19, 'min_split_gain': 0.029974662550902885, 'min_child_samples': 8, 'reg_alpha': 0.7598783366423797, 'reg_lambda': 0.30139216948290193}. Best is trial 153 with value: 0.04681221426654529.\u001b[0m\n",
      "\u001b[32m[I 2022-01-22 20:05:03,424]\u001b[0m Trial 235 finished with value: 0.06269956103952472 and parameters: {'num_leaves': 21, 'max_depth': 15, 'learning_rate': 0.0017889192188278377, 'n_estimators': 25, 'min_split_gain': 0.02428699741819602, 'min_child_samples': 11, 'reg_alpha': 0.7733383877970463, 'reg_lambda': 0.32383617951579585}. Best is trial 153 with value: 0.04681221426654529.\u001b[0m\n",
      "\u001b[32m[I 2022-01-22 20:05:09,060]\u001b[0m Trial 236 finished with value: 0.09356616929208854 and parameters: {'num_leaves': 23, 'max_depth': 26, 'learning_rate': 0.07061617621653185, 'n_estimators': 17, 'min_split_gain': 0.027650267085526252, 'min_child_samples': 9, 'reg_alpha': 0.8038638102083024, 'reg_lambda': 0.2401625994459645}. Best is trial 153 with value: 0.04681221426654529.\u001b[0m\n",
      "\u001b[32m[I 2022-01-22 20:05:15,545]\u001b[0m Trial 237 finished with value: 0.06427751663422009 and parameters: {'num_leaves': 24, 'max_depth': 25, 'learning_rate': 0.0011274296061394547, 'n_estimators': 22, 'min_split_gain': 0.021042291839246996, 'min_child_samples': 11, 'reg_alpha': 0.8395505615791996, 'reg_lambda': 0.20179732417528082}. Best is trial 153 with value: 0.04681221426654529.\u001b[0m\n",
      "\u001b[32m[I 2022-01-22 20:05:21,358]\u001b[0m Trial 238 finished with value: 0.15623767387569468 and parameters: {'num_leaves': 22, 'max_depth': 28, 'learning_rate': 0.1786205256475572, 'n_estimators': 20, 'min_split_gain': 0.025795264948482024, 'min_child_samples': 8, 'reg_alpha': 0.09706043230287864, 'reg_lambda': 0.27616516420573084}. Best is trial 153 with value: 0.04681221426654529.\u001b[0m\n",
      "\u001b[32m[I 2022-01-22 20:05:27,743]\u001b[0m Trial 239 finished with value: 0.14523577017908845 and parameters: {'num_leaves': 20, 'max_depth': 24, 'learning_rate': 0.11669181275708906, 'n_estimators': 24, 'min_split_gain': 0.017715334168301573, 'min_child_samples': 9, 'reg_alpha': 0.4426571846396384, 'reg_lambda': 0.3553450460295901}. Best is trial 153 with value: 0.04681221426654529.\u001b[0m\n",
      "\u001b[32m[I 2022-01-22 20:05:33,280]\u001b[0m Trial 240 finished with value: 0.08518426492378534 and parameters: {'num_leaves': 23, 'max_depth': 22, 'learning_rate': 0.06814019376815839, 'n_estimators': 15, 'min_split_gain': 0.02951004939938699, 'min_child_samples': 10, 'reg_alpha': 0.8171930629398053, 'reg_lambda': 0.325662770794099}. Best is trial 153 with value: 0.04681221426654529.\u001b[0m\n",
      "\u001b[32m[I 2022-01-22 20:05:40,683]\u001b[0m Trial 241 finished with value: 0.06495527477091428 and parameters: {'num_leaves': 22, 'max_depth': 26, 'learning_rate': 0.0007330863185972761, 'n_estimators': 23, 'min_split_gain': 0.020090054119974686, 'min_child_samples': 4, 'reg_alpha': 0.8180975005068146, 'reg_lambda': 0.1904439597314218}. Best is trial 153 with value: 0.04681221426654529.\u001b[0m\n"
     ]
    },
    {
     "name": "stderr",
     "output_type": "stream",
     "text": [
      "\u001b[32m[I 2022-01-22 20:05:47,916]\u001b[0m Trial 242 finished with value: 0.06605147114435429 and parameters: {'num_leaves': 21, 'max_depth': 26, 'learning_rate': 0.00018843186614984127, 'n_estimators': 25, 'min_split_gain': 0.021458440750677998, 'min_child_samples': 4, 'reg_alpha': 0.796606010752965, 'reg_lambda': 0.19855730124516874}. Best is trial 153 with value: 0.04681221426654529.\u001b[0m\n",
      "\u001b[32m[I 2022-01-22 20:05:54,228]\u001b[0m Trial 243 finished with value: 0.056092003727634725 and parameters: {'num_leaves': 22, 'max_depth': 25, 'learning_rate': 0.008424538290141798, 'n_estimators': 21, 'min_split_gain': 0.02358016054831279, 'min_child_samples': 3, 'reg_alpha': 0.8270221899883394, 'reg_lambda': 0.30647903396373966}. Best is trial 153 with value: 0.04681221426654529.\u001b[0m\n",
      "\u001b[32m[I 2022-01-22 20:06:00,522]\u001b[0m Trial 244 finished with value: 0.11763083725157553 and parameters: {'num_leaves': 22, 'max_depth': 25, 'learning_rate': 0.08292724519650255, 'n_estimators': 21, 'min_split_gain': 0.023263210188556566, 'min_child_samples': 3, 'reg_alpha': 0.4201669495241682, 'reg_lambda': 0.3033544973332112}. Best is trial 153 with value: 0.04681221426654529.\u001b[0m\n",
      "\u001b[32m[I 2022-01-22 20:06:06,566]\u001b[0m Trial 245 finished with value: 0.05821127095246746 and parameters: {'num_leaves': 24, 'max_depth': 24, 'learning_rate': 0.007038133422145432, 'n_estimators': 17, 'min_split_gain': 0.025970712804408123, 'min_child_samples': 3, 'reg_alpha': 0.8472372935297541, 'reg_lambda': 0.3331484740037526}. Best is trial 153 with value: 0.04681221426654529.\u001b[0m\n",
      "\u001b[32m[I 2022-01-22 20:06:12,502]\u001b[0m Trial 246 finished with value: 0.06144986083771625 and parameters: {'num_leaves': 21, 'max_depth': 16, 'learning_rate': 0.0032804829872965127, 'n_estimators': 19, 'min_split_gain': 0.027984573233820715, 'min_child_samples': 9, 'reg_alpha': 0.8636096013263255, 'reg_lambda': 0.2939850282740623}. Best is trial 153 with value: 0.04681221426654529.\u001b[0m\n",
      "\u001b[32m[I 2022-01-22 20:06:18,665]\u001b[0m Trial 247 finished with value: 0.14998846167511634 and parameters: {'num_leaves': 23, 'max_depth': 23, 'learning_rate': 0.1513044494217596, 'n_estimators': 21, 'min_split_gain': 0.024010681822517668, 'min_child_samples': 12, 'reg_alpha': 0.8764535163556794, 'reg_lambda': 0.26491545797864496}. Best is trial 153 with value: 0.04681221426654529.\u001b[0m\n",
      "\u001b[32m[I 2022-01-22 20:06:24,309]\u001b[0m Trial 248 finished with value: 0.10280827636484256 and parameters: {'num_leaves': 22, 'max_depth': 25, 'learning_rate': 0.07528858496418357, 'n_estimators': 18, 'min_split_gain': 0.02988418413885418, 'min_child_samples': 7, 'reg_alpha': 0.8363648336352725, 'reg_lambda': 0.32169398275089456}. Best is trial 153 with value: 0.04681221426654529.\u001b[0m\n",
      "\u001b[32m[I 2022-01-22 20:06:31,110]\u001b[0m Trial 249 finished with value: 0.27121771624800817 and parameters: {'num_leaves': 20, 'max_depth': 27, 'learning_rate': 1.9478856470238308, 'n_estimators': 27, 'min_split_gain': 0.02608189870693042, 'min_child_samples': 5, 'reg_alpha': 0.7738336023421046, 'reg_lambda': 0.3665059379213854}. Best is trial 153 with value: 0.04681221426654529.\u001b[0m\n",
      "\u001b[32m[I 2022-01-22 20:06:36,837]\u001b[0m Trial 250 finished with value: 0.15070430851791847 and parameters: {'num_leaves': 21, 'max_depth': 14, 'learning_rate': 0.2230263197015519, 'n_estimators': 20, 'min_split_gain': 0.02301444365235504, 'min_child_samples': 10, 'reg_alpha': 0.520596297346558, 'reg_lambda': 0.30273058004639297}. Best is trial 153 with value: 0.04681221426654529.\u001b[0m\n",
      "\u001b[32m[I 2022-01-22 20:06:40,839]\u001b[0m Trial 251 finished with value: 0.05988140555407176 and parameters: {'num_leaves': 2, 'max_depth': 15, 'learning_rate': 0.0042189333076831535, 'n_estimators': 22, 'min_split_gain': 0.02789434683065554, 'min_child_samples': 8, 'reg_alpha': 0.26333252704525034, 'reg_lambda': 0.28261381699520216}. Best is trial 153 with value: 0.04681221426654529.\u001b[0m\n",
      "\u001b[32m[I 2022-01-22 20:06:46,885]\u001b[0m Trial 252 finished with value: 0.06378909285192741 and parameters: {'num_leaves': 22, 'max_depth': 16, 'learning_rate': 0.001919655823324545, 'n_estimators': 16, 'min_split_gain': 0.02490232634455379, 'min_child_samples': 13, 'reg_alpha': 0.7450676129966488, 'reg_lambda': 0.3392897778207927}. Best is trial 153 with value: 0.04681221426654529.\u001b[0m\n",
      "\u001b[32m[I 2022-01-22 20:06:54,732]\u001b[0m Trial 253 finished with value: 0.1551153177347986 and parameters: {'num_leaves': 24, 'max_depth': 15, 'learning_rate': 0.1400732645519413, 'n_estimators': 29, 'min_split_gain': 0.031079815672660573, 'min_child_samples': 9, 'reg_alpha': 0.23894907282500308, 'reg_lambda': 0.3134959288364458}. Best is trial 153 with value: 0.04681221426654529.\u001b[0m\n",
      "\u001b[32m[I 2022-01-22 20:07:02,009]\u001b[0m Trial 254 finished with value: 0.06521918992702842 and parameters: {'num_leaves': 23, 'max_depth': 21, 'learning_rate': 0.0007449109068233505, 'n_estimators': 19, 'min_split_gain': 0.01931561640834529, 'min_child_samples': 3, 'reg_alpha': 0.412211715526867, 'reg_lambda': 0.2546503411580353}. Best is trial 153 with value: 0.04681221426654529.\u001b[0m\n",
      "\u001b[32m[I 2022-01-22 20:07:08,766]\u001b[0m Trial 255 finished with value: 0.13032217636887172 and parameters: {'num_leaves': 21, 'max_depth': 17, 'learning_rate': 0.09185603133992243, 'n_estimators': 23, 'min_split_gain': 0.017083227905640416, 'min_child_samples': 12, 'reg_alpha': 0.8153910101874734, 'reg_lambda': 0.34866582848238964}. Best is trial 153 with value: 0.04681221426654529.\u001b[0m\n",
      "\u001b[32m[I 2022-01-22 20:07:14,852]\u001b[0m Trial 256 finished with value: 0.06432586136106462 and parameters: {'num_leaves': 21, 'max_depth': 23, 'learning_rate': 0.0017626981381498666, 'n_estimators': 14, 'min_split_gain': 0.021802964332962842, 'min_child_samples': 10, 'reg_alpha': 0.45919220004534583, 'reg_lambda': 0.22955067369368973}. Best is trial 153 with value: 0.04681221426654529.\u001b[0m\n",
      "\u001b[32m[I 2022-01-22 20:07:20,402]\u001b[0m Trial 257 finished with value: 0.1535625065229978 and parameters: {'num_leaves': 22, 'max_depth': 14, 'learning_rate': 0.20916919042070647, 'n_estimators': 26, 'min_split_gain': 0.06770028139367143, 'min_child_samples': 11, 'reg_alpha': 0.42932870602731893, 'reg_lambda': 0.47571494855527785}. Best is trial 153 with value: 0.04681221426654529.\u001b[0m\n",
      "\u001b[32m[I 2022-01-22 20:07:27,360]\u001b[0m Trial 258 finished with value: 0.1493486426239972 and parameters: {'num_leaves': 23, 'max_depth': 25, 'learning_rate': 0.10954940928999668, 'n_estimators': 33, 'min_split_gain': 0.02740973724021136, 'min_child_samples': 8, 'reg_alpha': 0.7896858218753379, 'reg_lambda': 0.2890513226094616}. Best is trial 153 with value: 0.04681221426654529.\u001b[0m\n",
      "\u001b[32m[I 2022-01-22 20:07:31,761]\u001b[0m Trial 259 finished with value: 0.08398285379087722 and parameters: {'num_leaves': 3, 'max_depth': 24, 'learning_rate': 0.07041648900155363, 'n_estimators': 21, 'min_split_gain': 0.029588036523299333, 'min_child_samples': 6, 'reg_alpha': 0.38374187121648756, 'reg_lambda': 0.3152176673833244}. Best is trial 153 with value: 0.04681221426654529.\u001b[0m\n",
      "\u001b[32m[I 2022-01-22 20:07:37,680]\u001b[0m Trial 260 finished with value: 0.06172863520913352 and parameters: {'num_leaves': 25, 'max_depth': 16, 'learning_rate': 0.0032408692842393894, 'n_estimators': 18, 'min_split_gain': 0.024524654315831194, 'min_child_samples': 7, 'reg_alpha': 0.855845155061262, 'reg_lambda': 0.3597557867617395}. Best is trial 153 with value: 0.04681221426654529.\u001b[0m\n",
      "\u001b[32m[I 2022-01-22 20:07:42,465]\u001b[0m Trial 261 finished with value: 0.17545043182796402 and parameters: {'num_leaves': 20, 'max_depth': 22, 'learning_rate': 1.4655272086389581, 'n_estimators': 31, 'min_split_gain': 0.03171312015442172, 'min_child_samples': 5, 'reg_alpha': 0.40284939696893757, 'reg_lambda': 0.27210863500907156}. Best is trial 153 with value: 0.04681221426654529.\u001b[0m\n",
      "\u001b[32m[I 2022-01-22 20:07:48,865]\u001b[0m Trial 262 finished with value: 0.15159840866683702 and parameters: {'num_leaves': 24, 'max_depth': 26, 'learning_rate': 0.16193000420020293, 'n_estimators': 28, 'min_split_gain': 0.015323265772873327, 'min_child_samples': 10, 'reg_alpha': 0.557738342619406, 'reg_lambda': 0.328888527884324}. Best is trial 153 with value: 0.04681221426654529.\u001b[0m\n",
      "\u001b[32m[I 2022-01-22 20:07:57,345]\u001b[0m Trial 263 finished with value: 0.05898299108153656 and parameters: {'num_leaves': 22, 'max_depth': 29, 'learning_rate': 0.004454994294358376, 'n_estimators': 23, 'min_split_gain': 0.026808938998235665, 'min_child_samples': 4, 'reg_alpha': 0.18277171399815212, 'reg_lambda': 0.3024986410248817}. Best is trial 153 with value: 0.04681221426654529.\u001b[0m\n"
     ]
    },
    {
     "name": "stderr",
     "output_type": "stream",
     "text": [
      "\u001b[32m[I 2022-01-22 20:08:01,443]\u001b[0m Trial 264 finished with value: 0.09335622637277331 and parameters: {'num_leaves': 2, 'max_depth': 27, 'learning_rate': 0.27399595919899566, 'n_estimators': 20, 'min_split_gain': 0.022900738944093394, 'min_child_samples': 9, 'reg_alpha': 0.8295205651397434, 'reg_lambda': 0.3727733372101317}. Best is trial 153 with value: 0.04681221426654529.\u001b[0m\n",
      "\u001b[32m[I 2022-01-22 20:08:09,041]\u001b[0m Trial 265 finished with value: 0.13896982909493727 and parameters: {'num_leaves': 23, 'max_depth': 24, 'learning_rate': 0.08025366412729541, 'n_estimators': 33, 'min_split_gain': 0.02912257458977264, 'min_child_samples': 11, 'reg_alpha': 0.47702976974865374, 'reg_lambda': 0.2435009816998675}. Best is trial 153 with value: 0.04681221426654529.\u001b[0m\n",
      "\u001b[32m[I 2022-01-22 20:08:15,639]\u001b[0m Trial 266 finished with value: 0.1535504116733717 and parameters: {'num_leaves': 21, 'max_depth': 13, 'learning_rate': 0.15089169573751998, 'n_estimators': 25, 'min_split_gain': 0.025219301591121113, 'min_child_samples': 8, 'reg_alpha': 0.4411334240618796, 'reg_lambda': 0.34511034577113525}. Best is trial 153 with value: 0.04681221426654529.\u001b[0m\n",
      "\u001b[32m[I 2022-01-22 20:08:21,401]\u001b[0m Trial 267 finished with value: 4.347564390356981 and parameters: {'num_leaves': 20, 'max_depth': 15, 'learning_rate': 2.099195829263499, 'n_estimators': 17, 'min_split_gain': 0.020823564004058916, 'min_child_samples': 9, 'reg_alpha': 0.8014087198949084, 'reg_lambda': 0.28497484597377265}. Best is trial 153 with value: 0.04681221426654529.\u001b[0m\n",
      "\u001b[32m[I 2022-01-22 20:08:28,561]\u001b[0m Trial 268 finished with value: 0.11182138198203186 and parameters: {'num_leaves': 21, 'max_depth': 22, 'learning_rate': 0.07268474091834552, 'n_estimators': 22, 'min_split_gain': 0.018405299605349916, 'min_child_samples': 12, 'reg_alpha': 0.4139483593887266, 'reg_lambda': 0.33157533164721964}. Best is trial 153 with value: 0.04681221426654529.\u001b[0m\n",
      "\u001b[32m[I 2022-01-22 20:08:37,960]\u001b[0m Trial 269 finished with value: 0.06511068767951926 and parameters: {'num_leaves': 22, 'max_depth': 19, 'learning_rate': 0.0005002379635613754, 'n_estimators': 30, 'min_split_gain': 0.02748009018897038, 'min_child_samples': 11, 'reg_alpha': 0.13345070416238702, 'reg_lambda': 0.31030146113364804}. Best is trial 153 with value: 0.04681221426654529.\u001b[0m\n",
      "\u001b[32m[I 2022-01-22 20:08:43,506]\u001b[0m Trial 270 finished with value: 0.1541591708492415 and parameters: {'num_leaves': 19, 'max_depth': 25, 'learning_rate': 0.20452871347828108, 'n_estimators': 20, 'min_split_gain': 0.031136791437940382, 'min_child_samples': 10, 'reg_alpha': 0.5754621840083715, 'reg_lambda': 0.26351214414696167}. Best is trial 153 with value: 0.04681221426654529.\u001b[0m\n",
      "\u001b[32m[I 2022-01-22 20:08:52,882]\u001b[0m Trial 271 finished with value: 0.06137484487912509 and parameters: {'num_leaves': 23, 'max_depth': 18, 'learning_rate': 0.0018410094254604154, 'n_estimators': 35, 'min_split_gain': 0.02382098069267603, 'min_child_samples': 8, 'reg_alpha': 0.39386675588357756, 'reg_lambda': 0.21337396301913467}. Best is trial 153 with value: 0.04681221426654529.\u001b[0m\n",
      "\u001b[32m[I 2022-01-22 20:08:58,484]\u001b[0m Trial 272 finished with value: 0.12499054450818997 and parameters: {'num_leaves': 24, 'max_depth': 12, 'learning_rate': 0.10755251569706649, 'n_estimators': 18, 'min_split_gain': 0.03364150802035747, 'min_child_samples': 3, 'reg_alpha': 0.8076878379671941, 'reg_lambda': 0.573545658977935}. Best is trial 153 with value: 0.04681221426654529.\u001b[0m\n",
      "\u001b[32m[I 2022-01-22 20:09:04,934]\u001b[0m Trial 273 finished with value: 0.11756068784397931 and parameters: {'num_leaves': 22, 'max_depth': 20, 'learning_rate': 0.07296396975814395, 'n_estimators': 24, 'min_split_gain': 0.028911507108024627, 'min_child_samples': 9, 'reg_alpha': 0.7805573532521453, 'reg_lambda': 0.3900525990947292}. Best is trial 153 with value: 0.04681221426654529.\u001b[0m\n",
      "\u001b[32m[I 2022-01-22 20:09:11,161]\u001b[0m Trial 274 finished with value: 0.1600528522255767 and parameters: {'num_leaves': 21, 'max_depth': 23, 'learning_rate': 0.2676539147875813, 'n_estimators': 70, 'min_split_gain': 0.025891208210810118, 'min_child_samples': 7, 'reg_alpha': 0.6871538640409066, 'reg_lambda': 0.35368368358340174}. Best is trial 153 with value: 0.04681221426654529.\u001b[0m\n",
      "\u001b[32m[I 2022-01-22 20:09:15,105]\u001b[0m Trial 275 finished with value: 0.061738142244200565 and parameters: {'num_leaves': 2, 'max_depth': 14, 'learning_rate': 0.004264877382014693, 'n_estimators': 15, 'min_split_gain': 0.02210307239828129, 'min_child_samples': 8, 'reg_alpha': 0.71371073992921, 'reg_lambda': 0.2942989106465707}. Best is trial 153 with value: 0.04681221426654529.\u001b[0m\n",
      "\u001b[32m[I 2022-01-22 20:09:21,170]\u001b[0m Trial 276 finished with value: 0.15209397108338987 and parameters: {'num_leaves': 25, 'max_depth': 27, 'learning_rate': 0.16140855272624555, 'n_estimators': 21, 'min_split_gain': 0.020274845205877075, 'min_child_samples': 9, 'reg_alpha': 0.29358767078257675, 'reg_lambda': 0.3334487197440831}. Best is trial 153 with value: 0.04681221426654529.\u001b[0m\n",
      "\u001b[32m[I 2022-01-22 20:09:27,801]\u001b[0m Trial 277 finished with value: 0.12938729576701463 and parameters: {'num_leaves': 22, 'max_depth': 16, 'learning_rate': 0.0762161790346985, 'n_estimators': 27, 'min_split_gain': 0.030155532705547952, 'min_child_samples': 10, 'reg_alpha': 0.8361607602219714, 'reg_lambda': 0.5165901752291219}. Best is trial 153 with value: 0.04681221426654529.\u001b[0m\n",
      "\u001b[32m[I 2022-01-22 20:09:36,084]\u001b[0m Trial 278 finished with value: 0.06128091485374945 and parameters: {'num_leaves': 24, 'max_depth': 25, 'learning_rate': 0.0020583897879333114, 'n_estimators': 32, 'min_split_gain': 0.04912005366369477, 'min_child_samples': 4, 'reg_alpha': 0.33418775722237093, 'reg_lambda': 0.3143693853464746}. Best is trial 153 with value: 0.04681221426654529.\u001b[0m\n",
      "\u001b[32m[I 2022-01-22 20:09:40,581]\u001b[0m Trial 279 finished with value: 0.12197209065707583 and parameters: {'num_leaves': 3, 'max_depth': 17, 'learning_rate': 0.14852599055270913, 'n_estimators': 23, 'min_split_gain': 0.027518257995666935, 'min_child_samples': 5, 'reg_alpha': 0.4275536224934085, 'reg_lambda': 0.23075624216931961}. Best is trial 153 with value: 0.04681221426654529.\u001b[0m\n",
      "\u001b[32m[I 2022-01-22 20:09:47,177]\u001b[0m Trial 280 finished with value: 0.06593186330528936 and parameters: {'num_leaves': 21, 'max_depth': 26, 'learning_rate': 0.0003215274764434466, 'n_estimators': 19, 'min_split_gain': 0.023970852545141922, 'min_child_samples': 11, 'reg_alpha': 0.5047474679726798, 'reg_lambda': 0.27711278539291695}. Best is trial 153 with value: 0.04681221426654529.\u001b[0m\n",
      "\u001b[32m[I 2022-01-22 20:09:56,024]\u001b[0m Trial 281 finished with value: 0.15160845098714934 and parameters: {'num_leaves': 23, 'max_depth': 11, 'learning_rate': 0.07579813529444722, 'n_estimators': 52, 'min_split_gain': 0.02529342858084378, 'min_child_samples': 9, 'reg_alpha': 0.3740351102495578, 'reg_lambda': 0.36643425221453896}. Best is trial 153 with value: 0.04681221426654529.\u001b[0m\n",
      "\u001b[32m[I 2022-01-22 20:10:01,336]\u001b[0m Trial 282 finished with value: 0.14207469647337065 and parameters: {'num_leaves': 20, 'max_depth': 28, 'learning_rate': 0.19727533881502912, 'n_estimators': 12, 'min_split_gain': 0.02228958883176729, 'min_child_samples': 8, 'reg_alpha': 0.45513193963489407, 'reg_lambda': 0.2552294480342488}. Best is trial 153 with value: 0.04681221426654529.\u001b[0m\n",
      "\u001b[32m[I 2022-01-22 20:10:08,704]\u001b[0m Trial 283 finished with value: 0.06327537964886018 and parameters: {'num_leaves': 22, 'max_depth': 13, 'learning_rate': 0.0012850696152902886, 'n_estimators': 29, 'min_split_gain': 0.032188166815581024, 'min_child_samples': 10, 'reg_alpha': 0.8228440565667925, 'reg_lambda': 0.30283476208934174}. Best is trial 153 with value: 0.04681221426654529.\u001b[0m\n",
      "\u001b[32m[I 2022-01-22 20:10:14,051]\u001b[0m Trial 284 finished with value: 0.09572742943158775 and parameters: {'num_leaves': 18, 'max_depth': 21, 'learning_rate': 0.07548070769555601, 'n_estimators': 16, 'min_split_gain': 0.018844406912796905, 'min_child_samples': 6, 'reg_alpha': 0.7695774127989813, 'reg_lambda': 0.435469027984433}. Best is trial 153 with value: 0.04681221426654529.\u001b[0m\n",
      "\u001b[32m[I 2022-01-22 20:10:20,718]\u001b[0m Trial 285 finished with value: 0.15548799307180408 and parameters: {'num_leaves': 25, 'max_depth': 14, 'learning_rate': 0.13024651507867366, 'n_estimators': 46, 'min_split_gain': 0.01635351920409047, 'min_child_samples': 7, 'reg_alpha': 0.6500826572430808, 'reg_lambda': 0.3307366669228595}. Best is trial 153 with value: 0.04681221426654529.\u001b[0m\n"
     ]
    },
    {
     "name": "stderr",
     "output_type": "stream",
     "text": [
      "\u001b[32m[I 2022-01-22 20:10:28,820]\u001b[0m Trial 286 finished with value: 0.06016625646251228 and parameters: {'num_leaves': 21, 'max_depth': 16, 'learning_rate': 0.002498032651807389, 'n_estimators': 34, 'min_split_gain': 0.028841638076863536, 'min_child_samples': 13, 'reg_alpha': 0.5443275458469556, 'reg_lambda': 0.3443195748516418}. Best is trial 153 with value: 0.04681221426654529.\u001b[0m\n",
      "\u001b[32m[I 2022-01-22 20:10:33,742]\u001b[0m Trial 287 finished with value: 0.15319777914735558 and parameters: {'num_leaves': 23, 'max_depth': 24, 'learning_rate': 0.28877547199895515, 'n_estimators': 21, 'min_split_gain': 0.02676534235019488, 'min_child_samples': 12, 'reg_alpha': 0.3929689127378211, 'reg_lambda': 0.28643237997835413}. Best is trial 153 with value: 0.04681221426654529.\u001b[0m\n",
      "\u001b[32m[I 2022-01-22 20:10:40,183]\u001b[0m Trial 288 finished with value: 0.12363190406327135 and parameters: {'num_leaves': 24, 'max_depth': 15, 'learning_rate': 0.07364967993295858, 'n_estimators': 26, 'min_split_gain': 0.024013175304637948, 'min_child_samples': 9, 'reg_alpha': 0.8466337922134708, 'reg_lambda': 0.3794363741342699}. Best is trial 153 with value: 0.04681221426654529.\u001b[0m\n",
      "\u001b[32m[I 2022-01-22 20:10:46,643]\u001b[0m Trial 289 finished with value: 0.062171938059253785 and parameters: {'num_leaves': 22, 'max_depth': 21, 'learning_rate': 0.002940980104250133, 'n_estimators': 18, 'min_split_gain': 0.021305836838396305, 'min_child_samples': 5, 'reg_alpha': 0.4230098320676685, 'reg_lambda': 0.3133300331305754}. Best is trial 153 with value: 0.04681221426654529.\u001b[0m\n",
      "\u001b[32m[I 2022-01-22 20:10:52,157]\u001b[0m Trial 290 finished with value: 0.154507809189769 and parameters: {'num_leaves': 21, 'max_depth': 23, 'learning_rate': 0.2034811737834839, 'n_estimators': 38, 'min_split_gain': 0.030208709339873213, 'min_child_samples': 10, 'reg_alpha': 0.5940149886869575, 'reg_lambda': 0.2668264793616168}. Best is trial 153 with value: 0.04681221426654529.\u001b[0m\n",
      "\u001b[32m[I 2022-01-22 20:10:57,827]\u001b[0m Trial 291 finished with value: 0.14963688293064684 and parameters: {'num_leaves': 20, 'max_depth': 22, 'learning_rate': 0.13975793172827655, 'n_estimators': 31, 'min_split_gain': 0.05507584754587891, 'min_child_samples': 4, 'reg_alpha': 0.8697859410152257, 'reg_lambda': 0.3492838684802714}. Best is trial 153 with value: 0.04681221426654529.\u001b[0m\n",
      "\u001b[32m[I 2022-01-22 20:11:04,111]\u001b[0m Trial 292 finished with value: 0.06021864848632147 and parameters: {'num_leaves': 25, 'max_depth': 15, 'learning_rate': 0.0041824817222101945, 'n_estimators': 20, 'min_split_gain': 0.03540092680135184, 'min_child_samples': 9, 'reg_alpha': 0.44413858176747756, 'reg_lambda': 0.32046620529783104}. Best is trial 153 with value: 0.04681221426654529.\u001b[0m\n",
      "\u001b[32m[I 2022-01-22 20:11:08,589]\u001b[0m Trial 293 finished with value: 0.08955984755990191 and parameters: {'num_leaves': 3, 'max_depth': 26, 'learning_rate': 0.06653491423021554, 'n_estimators': 25, 'min_split_gain': 0.026052198215168108, 'min_child_samples': 8, 'reg_alpha': 0.7906188236799605, 'reg_lambda': 0.17601211380536957}. Best is trial 153 with value: 0.04681221426654529.\u001b[0m\n",
      "\u001b[32m[I 2022-01-22 20:11:15,595]\u001b[0m Trial 294 finished with value: 6.738085392387858e+18 and parameters: {'num_leaves': 26, 'max_depth': 19, 'learning_rate': 3.788880626132473, 'n_estimators': 22, 'min_split_gain': 0.02825334051431248, 'min_child_samples': 11, 'reg_alpha': 0.40575595963366473, 'reg_lambda': 0.2969725043522876}. Best is trial 153 with value: 0.04681221426654529.\u001b[0m\n",
      "\u001b[32m[I 2022-01-22 20:11:19,493]\u001b[0m Trial 295 finished with value: 0.06481915499397503 and parameters: {'num_leaves': 2, 'max_depth': 17, 'learning_rate': 0.0011082309667155982, 'n_estimators': 19, 'min_split_gain': 0.014006584609089616, 'min_child_samples': 3, 'reg_alpha': 0.35921623056697227, 'reg_lambda': 0.23893654170572126}. Best is trial 153 with value: 0.04681221426654529.\u001b[0m\n",
      "\u001b[32m[I 2022-01-22 20:11:25,755]\u001b[0m Trial 296 finished with value: 0.15051060962102272 and parameters: {'num_leaves': 23, 'max_depth': 26, 'learning_rate': 0.12288781944960031, 'n_estimators': 28, 'min_split_gain': 0.03289456591219758, 'min_child_samples': 9, 'reg_alpha': 0.7452324227511412, 'reg_lambda': 0.27572478979298576}. Best is trial 153 with value: 0.04681221426654529.\u001b[0m\n",
      "\u001b[32m[I 2022-01-22 20:11:31,196]\u001b[0m Trial 297 finished with value: 0.15591443312676836 and parameters: {'num_leaves': 22, 'max_depth': 27, 'learning_rate': 0.227033603598987, 'n_estimators': 24, 'min_split_gain': 0.019592074428857745, 'min_child_samples': 8, 'reg_alpha': 0.8109642896170289, 'reg_lambda': 0.3255693229751061}. Best is trial 153 with value: 0.04681221426654529.\u001b[0m\n",
      "\u001b[32m[I 2022-01-22 20:11:38,528]\u001b[0m Trial 298 finished with value: 0.133733251991463 and parameters: {'num_leaves': 19, 'max_depth': 23, 'learning_rate': 0.06763939101762469, 'n_estimators': 34, 'min_split_gain': 0.022783651740610072, 'min_child_samples': 10, 'reg_alpha': 0.38251816010013845, 'reg_lambda': 0.3619838986237599}. Best is trial 153 with value: 0.04681221426654529.\u001b[0m\n",
      "\u001b[32m[I 2022-01-22 20:11:43,720]\u001b[0m Trial 299 finished with value: 0.14194005818234953 and parameters: {'num_leaves': 24, 'max_depth': 25, 'learning_rate': 0.14885870633494663, 'n_estimators': 17, 'min_split_gain': 0.08015486876767958, 'min_child_samples': 11, 'reg_alpha': 0.8988912428700707, 'reg_lambda': 0.21366298772967085}. Best is trial 153 with value: 0.04681221426654529.\u001b[0m\n",
      "\u001b[32m[I 2022-01-22 20:11:52,273]\u001b[0m Trial 300 finished with value: 0.05501158034641789 and parameters: {'num_leaves': 21, 'max_depth': 24, 'learning_rate': 0.00747852485132952, 'n_estimators': 30, 'min_split_gain': 0.030699564205128014, 'min_child_samples': 7, 'reg_alpha': 0.23099565298654948, 'reg_lambda': 0.25352705830443034}. Best is trial 153 with value: 0.04681221426654529.\u001b[0m\n",
      "\u001b[32m[I 2022-01-22 20:12:01,058]\u001b[0m Trial 301 finished with value: 0.06017392642078024 and parameters: {'num_leaves': 23, 'max_depth': 13, 'learning_rate': 0.002809816744545047, 'n_estimators': 29, 'min_split_gain': 0.031426520323526067, 'min_child_samples': 7, 'reg_alpha': 0.2092150835789158, 'reg_lambda': 0.24321325009316572}. Best is trial 153 with value: 0.04681221426654529.\u001b[0m\n",
      "\u001b[32m[I 2022-01-22 20:12:10,215]\u001b[0m Trial 302 finished with value: 0.06190641853793725 and parameters: {'num_leaves': 21, 'max_depth': 24, 'learning_rate': 0.0020385330222446084, 'n_estimators': 27, 'min_split_gain': 0.017697518010284068, 'min_child_samples': 6, 'reg_alpha': 0.1748557960278127, 'reg_lambda': 0.22243243626331294}. Best is trial 153 with value: 0.04681221426654529.\u001b[0m\n",
      "\u001b[32m[I 2022-01-22 20:12:16,504]\u001b[0m Trial 303 finished with value: 0.11806157760738693 and parameters: {'num_leaves': 22, 'max_depth': 24, 'learning_rate': 0.07932170851985892, 'n_estimators': 22, 'min_split_gain': 0.025187157831348436, 'min_child_samples': 7, 'reg_alpha': 0.25283387391288786, 'reg_lambda': 0.2570647395196044}. Best is trial 153 with value: 0.04681221426654529.\u001b[0m\n",
      "\u001b[32m[I 2022-01-22 20:12:22,389]\u001b[0m Trial 304 finished with value: 0.15750734176547118 and parameters: {'num_leaves': 20, 'max_depth': 25, 'learning_rate': 0.18620729261950678, 'n_estimators': 30, 'min_split_gain': 0.034625763670952825, 'min_child_samples': 6, 'reg_alpha': 0.23958088869081057, 'reg_lambda': 0.45205604018407175}. Best is trial 153 with value: 0.04681221426654529.\u001b[0m\n",
      "\u001b[32m[I 2022-01-22 20:12:34,374]\u001b[0m Trial 305 finished with value: 0.05907455519174743 and parameters: {'num_leaves': 22, 'max_depth': 12, 'learning_rate': 0.002016713754807843, 'n_estimators': 50, 'min_split_gain': 0.027456215618685508, 'min_child_samples': 8, 'reg_alpha': 0.1919892552692544, 'reg_lambda': 0.3395960348750726}. Best is trial 153 with value: 0.04681221426654529.\u001b[0m\n",
      "\u001b[32m[I 2022-01-22 20:12:38,151]\u001b[0m Trial 306 finished with value: 0.07950174813724757 and parameters: {'num_leaves': 2, 'max_depth': 24, 'learning_rate': 0.2894612355080305, 'n_estimators': 14, 'min_split_gain': 0.021675331608050147, 'min_child_samples': 4, 'reg_alpha': 0.21347913162126342, 'reg_lambda': 0.3054247848736983}. Best is trial 153 with value: 0.04681221426654529.\u001b[0m\n",
      "\u001b[32m[I 2022-01-22 20:12:44,080]\u001b[0m Trial 307 finished with value: 0.13581052099088023 and parameters: {'num_leaves': 24, 'max_depth': 23, 'learning_rate': 0.12616814906260101, 'n_estimators': 19, 'min_split_gain': 0.03071343226292493, 'min_child_samples': 5, 'reg_alpha': 0.2723178723452211, 'reg_lambda': 0.40363513811097235}. Best is trial 153 with value: 0.04681221426654529.\u001b[0m\n"
     ]
    },
    {
     "name": "stderr",
     "output_type": "stream",
     "text": [
      "\u001b[32m[I 2022-01-22 20:13:00,342]\u001b[0m Trial 308 finished with value: 0.05863781802683308 and parameters: {'num_leaves': 25, 'max_depth': 25, 'learning_rate': 0.001247538699892155, 'n_estimators': 89, 'min_split_gain': 0.024224416817674076, 'min_child_samples': 7, 'reg_alpha': 0.6694705801543168, 'reg_lambda': 0.37294281205667024}. Best is trial 153 with value: 0.04681221426654529.\u001b[0m\n",
      "\u001b[32m[I 2022-01-22 20:13:08,438]\u001b[0m Trial 309 finished with value: 2973967976.2852755 and parameters: {'num_leaves': 26, 'max_depth': 10, 'learning_rate': 2.67057176373722, 'n_estimators': 23, 'min_split_gain': 0.026833012279319186, 'min_child_samples': 8, 'reg_alpha': 0.23228714614904455, 'reg_lambda': 0.2581935664557116}. Best is trial 153 with value: 0.04681221426654529.\u001b[0m\n",
      "\u001b[32m[I 2022-01-22 20:13:14,822]\u001b[0m Trial 310 finished with value: 0.1252580769453539 and parameters: {'num_leaves': 21, 'max_depth': 20, 'learning_rate': 0.09399876012499728, 'n_estimators': 21, 'min_split_gain': 0.02047717772587263, 'min_child_samples': 7, 'reg_alpha': 0.30136383803215017, 'reg_lambda': 0.3218710152074594}. Best is trial 153 with value: 0.04681221426654529.\u001b[0m\n",
      "\u001b[32m[I 2022-01-22 20:13:20,573]\u001b[0m Trial 311 finished with value: 0.08962565596366792 and parameters: {'num_leaves': 23, 'max_depth': 23, 'learning_rate': 0.06974950797352164, 'n_estimators': 16, 'min_split_gain': 0.02933814387501904, 'min_child_samples': 8, 'reg_alpha': 0.4760394506911366, 'reg_lambda': 0.3475863904043258}. Best is trial 153 with value: 0.04681221426654529.\u001b[0m\n",
      "\u001b[32m[I 2022-01-22 20:13:26,320]\u001b[0m Trial 312 finished with value: 0.1558361410980879 and parameters: {'num_leaves': 22, 'max_depth': 24, 'learning_rate': 0.21072757221186947, 'n_estimators': 26, 'min_split_gain': 0.023101609109505664, 'min_child_samples': 9, 'reg_alpha': 0.22037380671884427, 'reg_lambda': 0.2959719066034201}. Best is trial 153 with value: 0.04681221426654529.\u001b[0m\n",
      "\u001b[32m[I 2022-01-22 20:13:35,866]\u001b[0m Trial 313 finished with value: 0.15011046498884956 and parameters: {'num_leaves': 21, 'max_depth': 26, 'learning_rate': 0.06699155475359755, 'n_estimators': 56, 'min_split_gain': 0.025849193507124665, 'min_child_samples': 18, 'reg_alpha': 0.8218569153358168, 'reg_lambda': 0.226519208934337}. Best is trial 153 with value: 0.04681221426654529.\u001b[0m\n",
      "\u001b[32m[I 2022-01-22 20:13:40,812]\u001b[0m Trial 314 finished with value: 0.22482178036910752 and parameters: {'num_leaves': 20, 'max_depth': 27, 'learning_rate': 1.7961038847723667, 'n_estimators': 20, 'min_split_gain': 0.03379630798798345, 'min_child_samples': 4, 'reg_alpha': 0.8503366030281355, 'reg_lambda': 0.2742937576176496}. Best is trial 153 with value: 0.04681221426654529.\u001b[0m\n",
      "\u001b[32m[I 2022-01-22 20:13:47,111]\u001b[0m Trial 315 finished with value: 0.05737003484776232 and parameters: {'num_leaves': 22, 'max_depth': 22, 'learning_rate': 0.005801191469055486, 'n_estimators': 24, 'min_split_gain': 0.031658206921608, 'min_child_samples': 12, 'reg_alpha': 0.7943613562794732, 'reg_lambda': 0.3321077498231277}. Best is trial 153 with value: 0.04681221426654529.\u001b[0m\n",
      "\u001b[32m[I 2022-01-22 20:13:52,907]\u001b[0m Trial 316 finished with value: 0.14975292286309413 and parameters: {'num_leaves': 23, 'max_depth': 22, 'learning_rate': 0.15047428439541144, 'n_estimators': 24, 'min_split_gain': 0.03192711860123777, 'min_child_samples': 5, 'reg_alpha': 0.7978782654457701, 'reg_lambda': 0.36363328793296973}. Best is trial 153 with value: 0.04681221426654529.\u001b[0m\n",
      "\u001b[32m[I 2022-01-22 20:14:00,396]\u001b[0m Trial 317 finished with value: 0.0567802316294366 and parameters: {'num_leaves': 22, 'max_depth': 21, 'learning_rate': 0.005488570577631433, 'n_estimators': 28, 'min_split_gain': 0.016553161975060977, 'min_child_samples': 8, 'reg_alpha': 0.7770609669029845, 'reg_lambda': 0.34491248498213123}. Best is trial 153 with value: 0.04681221426654529.\u001b[0m\n",
      "\u001b[32m[I 2022-01-22 20:14:06,931]\u001b[0m Trial 318 finished with value: 0.12770899744820846 and parameters: {'num_leaves': 22, 'max_depth': 21, 'learning_rate': 0.08019962002338804, 'n_estimators': 26, 'min_split_gain': 0.019004452542067844, 'min_child_samples': 8, 'reg_alpha': 0.7645536160185714, 'reg_lambda': 0.3862135629297135}. Best is trial 153 with value: 0.04681221426654529.\u001b[0m\n",
      "\u001b[32m[I 2022-01-22 20:14:13,822]\u001b[0m Trial 319 finished with value: 0.0632751810152446 and parameters: {'num_leaves': 23, 'max_depth': 21, 'learning_rate': 0.0015493246846594918, 'n_estimators': 24, 'min_split_gain': 0.016122263943825117, 'min_child_samples': 8, 'reg_alpha': 0.7739749290459491, 'reg_lambda': 0.3560157789559017}. Best is trial 153 with value: 0.04681221426654529.\u001b[0m\n",
      "\u001b[32m[I 2022-01-22 20:14:19,401]\u001b[0m Trial 320 finished with value: 0.1556298347779011 and parameters: {'num_leaves': 22, 'max_depth': 20, 'learning_rate': 0.25944147484939156, 'n_estimators': 30, 'min_split_gain': 0.011807881476351118, 'min_child_samples': 9, 'reg_alpha': 0.7838886938654472, 'reg_lambda': 0.3358490155923793}. Best is trial 153 with value: 0.04681221426654529.\u001b[0m\n",
      "\u001b[32m[I 2022-01-22 20:14:26,215]\u001b[0m Trial 321 finished with value: 0.14903468010685517 and parameters: {'num_leaves': 24, 'max_depth': 22, 'learning_rate': 0.15985117393540021, 'n_estimators': 22, 'min_split_gain': 0.015227916565425796, 'min_child_samples': 7, 'reg_alpha': 0.7279822665633311, 'reg_lambda': 0.3167875093543527}. Best is trial 153 with value: 0.04681221426654529.\u001b[0m\n",
      "\u001b[32m[I 2022-01-22 20:14:34,705]\u001b[0m Trial 322 finished with value: 0.06443364836646487 and parameters: {'num_leaves': 23, 'max_depth': 21, 'learning_rate': 0.0008180215301862226, 'n_estimators': 28, 'min_split_gain': 0.018031157844489165, 'min_child_samples': 8, 'reg_alpha': 0.7435095721902131, 'reg_lambda': 0.1947313118718799}. Best is trial 153 with value: 0.04681221426654529.\u001b[0m\n",
      "\u001b[32m[I 2022-01-22 20:14:42,512]\u001b[0m Trial 323 finished with value: 0.06276646813414268 and parameters: {'num_leaves': 22, 'max_depth': 22, 'learning_rate': 0.001685144828800833, 'n_estimators': 26, 'min_split_gain': 0.021055195632061968, 'min_child_samples': 14, 'reg_alpha': 0.7581340747736351, 'reg_lambda': 0.33815502926603563}. Best is trial 153 with value: 0.04681221426654529.\u001b[0m\n",
      "\u001b[32m[I 2022-01-22 20:14:52,241]\u001b[0m Trial 324 finished with value: 7.814067209189866e+19 and parameters: {'num_leaves': 21, 'max_depth': 20, 'learning_rate': 3.158803783236633, 'n_estimators': 31, 'min_split_gain': 0.037988227039102124, 'min_child_samples': 9, 'reg_alpha': 0.4923863021518292, 'reg_lambda': 0.37889956674630776}. Best is trial 153 with value: 0.04681221426654529.\u001b[0m\n",
      "\u001b[32m[I 2022-01-22 20:14:57,941]\u001b[0m Trial 325 finished with value: 0.14466061523870088 and parameters: {'num_leaves': 25, 'max_depth': 20, 'learning_rate': 0.35800583993374135, 'n_estimators': 24, 'min_split_gain': 0.020469642521028585, 'min_child_samples': 9, 'reg_alpha': 0.7964571857238227, 'reg_lambda': 0.24781902386846016}. Best is trial 153 with value: 0.04681221426654529.\u001b[0m\n",
      "\u001b[32m[I 2022-01-22 20:15:05,488]\u001b[0m Trial 326 finished with value: 0.15318230160395133 and parameters: {'num_leaves': 22, 'max_depth': 28, 'learning_rate': 0.11433560299417046, 'n_estimators': 64, 'min_split_gain': 0.02340006490124858, 'min_child_samples': 8, 'reg_alpha': 0.784384882453955, 'reg_lambda': 0.3580495514208228}. Best is trial 153 with value: 0.04681221426654529.\u001b[0m\n",
      "\u001b[32m[I 2022-01-22 20:15:11,479]\u001b[0m Trial 327 finished with value: 0.10736148606028291 and parameters: {'num_leaves': 24, 'max_depth': 23, 'learning_rate': 0.06971019367221508, 'n_estimators': 21, 'min_split_gain': 0.018240791814590682, 'min_child_samples': 15, 'reg_alpha': 0.7637760153654015, 'reg_lambda': 0.41404255320202094}. Best is trial 153 with value: 0.04681221426654529.\u001b[0m\n",
      "\u001b[32m[I 2022-01-22 20:15:17,015]\u001b[0m Trial 328 finished with value: 0.15491282309038196 and parameters: {'num_leaves': 8, 'max_depth': 19, 'learning_rate': 0.19999988172228095, 'n_estimators': 32, 'min_split_gain': 0.012669357990139345, 'min_child_samples': 8, 'reg_alpha': 0.6100039498533606, 'reg_lambda': 0.4989360925172421}. Best is trial 153 with value: 0.04681221426654529.\u001b[0m\n",
      "\u001b[32m[I 2022-01-22 20:15:24,452]\u001b[0m Trial 329 finished with value: 0.131989521028644 and parameters: {'num_leaves': 21, 'max_depth': 21, 'learning_rate': 0.060827712626870374, 'n_estimators': 36, 'min_split_gain': 0.016761649890826968, 'min_child_samples': 7, 'reg_alpha': 0.8060094472173331, 'reg_lambda': 0.31507692453783176}. Best is trial 153 with value: 0.04681221426654529.\u001b[0m\n"
     ]
    },
    {
     "name": "stderr",
     "output_type": "stream",
     "text": [
      "\u001b[32m[I 2022-01-22 20:15:32,747]\u001b[0m Trial 330 finished with value: 0.06160041764447034 and parameters: {'num_leaves': 23, 'max_depth': 26, 'learning_rate': 0.002674160658500402, 'n_estimators': 23, 'min_split_gain': 0.032658425879224136, 'min_child_samples': 9, 'reg_alpha': 0.46724282940016965, 'reg_lambda': 0.34498386719136265}. Best is trial 153 with value: 0.04681221426654529.\u001b[0m\n",
      "\u001b[32m[I 2022-01-22 20:15:40,563]\u001b[0m Trial 331 finished with value: 0.06208245177633664 and parameters: {'num_leaves': 22, 'max_depth': 13, 'learning_rate': 0.0018843034410901153, 'n_estimators': 29, 'min_split_gain': 0.022208693953739877, 'min_child_samples': 13, 'reg_alpha': 0.5835787322993979, 'reg_lambda': 0.30687038821947893}. Best is trial 153 with value: 0.04681221426654529.\u001b[0m\n",
      "\u001b[32m[I 2022-01-22 20:15:46,385]\u001b[0m Trial 332 finished with value: 0.14337392077118344 and parameters: {'num_leaves': 23, 'max_depth': 22, 'learning_rate': 0.12185142771587402, 'n_estimators': 21, 'min_split_gain': 0.03582285006404463, 'min_child_samples': 12, 'reg_alpha': 0.7003774379199406, 'reg_lambda': 0.327708772980311}. Best is trial 153 with value: 0.04681221426654529.\u001b[0m\n",
      "\u001b[32m[I 2022-01-22 20:15:53,245]\u001b[0m Trial 333 finished with value: 0.05978561018756071 and parameters: {'num_leaves': 21, 'max_depth': 29, 'learning_rate': 0.003577638835384465, 'n_estimators': 25, 'min_split_gain': 0.024973154484260643, 'min_child_samples': 3, 'reg_alpha': 0.6299473900595987, 'reg_lambda': 0.47455842064048215}. Best is trial 153 with value: 0.04681221426654529.\u001b[0m\n",
      "\u001b[32m[I 2022-01-22 20:15:59,612]\u001b[0m Trial 334 finished with value: 0.1504699416262749 and parameters: {'num_leaves': 22, 'max_depth': 25, 'learning_rate': 0.2094349447160811, 'n_estimators': 53, 'min_split_gain': 0.014315769657459645, 'min_child_samples': 10, 'reg_alpha': 0.8339700831968256, 'reg_lambda': 0.2791262813058179}. Best is trial 153 with value: 0.04681221426654529.\u001b[0m\n",
      "\u001b[32m[I 2022-01-22 20:16:05,241]\u001b[0m Trial 335 finished with value: 0.1326795405982723 and parameters: {'num_leaves': 25, 'max_depth': 24, 'learning_rate': 0.11578822195978558, 'n_estimators': 19, 'min_split_gain': 0.028457479171770213, 'min_child_samples': 16, 'reg_alpha': 0.5677067169378901, 'reg_lambda': 0.2181386434212641}. Best is trial 153 with value: 0.04681221426654529.\u001b[0m\n",
      "\u001b[32m[I 2022-01-22 20:16:13,369]\u001b[0m Trial 336 finished with value: 0.14164056157332414 and parameters: {'num_leaves': 24, 'max_depth': 27, 'learning_rate': 0.07137975669674015, 'n_estimators': 41, 'min_split_gain': 0.019769883806057827, 'min_child_samples': 8, 'reg_alpha': 0.5276529360118432, 'reg_lambda': 0.39088227109423357}. Best is trial 153 with value: 0.04681221426654529.\u001b[0m\n",
      "\u001b[32m[I 2022-01-22 20:16:21,256]\u001b[0m Trial 337 finished with value: 0.06145444052144729 and parameters: {'num_leaves': 22, 'max_depth': 14, 'learning_rate': 0.0023539549232764667, 'n_estimators': 27, 'min_split_gain': 0.031184228197971547, 'min_child_samples': 7, 'reg_alpha': 0.45042758976082203, 'reg_lambda': 0.23593135013225247}. Best is trial 153 with value: 0.04681221426654529.\u001b[0m\n",
      "\u001b[32m[I 2022-01-22 20:16:27,182]\u001b[0m Trial 338 finished with value: 0.1499830117711233 and parameters: {'num_leaves': 23, 'max_depth': 3, 'learning_rate': 0.15002834025989611, 'n_estimators': 23, 'min_split_gain': 0.024883245295432593, 'min_child_samples': 9, 'reg_alpha': 0.7833930509328036, 'reg_lambda': 0.2622119609778224}. Best is trial 153 with value: 0.04681221426654529.\u001b[0m\n",
      "\u001b[32m[I 2022-01-22 20:16:32,931]\u001b[0m Trial 339 finished with value: 0.15311182750343053 and parameters: {'num_leaves': 21, 'max_depth': 19, 'learning_rate': 0.26310382487322365, 'n_estimators': 58, 'min_split_gain': 0.026602569836233696, 'min_child_samples': 11, 'reg_alpha': 0.8086187880108558, 'reg_lambda': 0.5469820721922821}. Best is trial 153 with value: 0.04681221426654529.\u001b[0m\n",
      "\u001b[32m[I 2022-01-22 20:16:40,778]\u001b[0m Trial 340 finished with value: 0.05997629528025409 and parameters: {'num_leaves': 22, 'max_depth': 28, 'learning_rate': 0.0027357662963743788, 'n_estimators': 32, 'min_split_gain': 0.0963572190609816, 'min_child_samples': 8, 'reg_alpha': 0.4342261615669892, 'reg_lambda': 0.29524401203591}. Best is trial 153 with value: 0.04681221426654529.\u001b[0m\n",
      "\u001b[32m[I 2022-01-22 20:16:47,051]\u001b[0m Trial 341 finished with value: 0.1130792840129704 and parameters: {'num_leaves': 26, 'max_depth': 25, 'learning_rate': 0.08186057275793555, 'n_estimators': 20, 'min_split_gain': 0.023347211811403763, 'min_child_samples': 10, 'reg_alpha': 0.8270192839236633, 'reg_lambda': 0.35431598336265574}. Best is trial 153 with value: 0.04681221426654529.\u001b[0m\n",
      "\u001b[32m[I 2022-01-22 20:16:53,097]\u001b[0m Trial 342 finished with value: 0.06215982510216165 and parameters: {'num_leaves': 24, 'max_depth': 23, 'learning_rate': 0.002895123875977939, 'n_estimators': 18, 'min_split_gain': 0.029844595240999125, 'min_child_samples': 6, 'reg_alpha': 0.7513062445049898, 'reg_lambda': 0.32923212082421965}. Best is trial 153 with value: 0.04681221426654529.\u001b[0m\n",
      "\u001b[32m[I 2022-01-22 20:16:58,924]\u001b[0m Trial 343 finished with value: 0.15351236364717166 and parameters: {'num_leaves': 21, 'max_depth': 11, 'learning_rate': 0.17665215835635006, 'n_estimators': 22, 'min_split_gain': 0.021601820935754627, 'min_child_samples': 9, 'reg_alpha': 0.7743897618286266, 'reg_lambda': 0.314298326011009}. Best is trial 153 with value: 0.04681221426654529.\u001b[0m\n",
      "\u001b[32m[I 2022-01-22 20:17:09,052]\u001b[0m Trial 344 finished with value: 0.06620845240495993 and parameters: {'num_leaves': 23, 'max_depth': 26, 'learning_rate': 6.465520656382621e-05, 'n_estimators': 48, 'min_split_gain': 0.027721327644322672, 'min_child_samples': 12, 'reg_alpha': 0.4248299326195788, 'reg_lambda': 0.2017832634577557}. Best is trial 153 with value: 0.04681221426654529.\u001b[0m\n",
      "\u001b[32m[I 2022-01-22 20:17:16,066]\u001b[0m Trial 345 finished with value: 0.13251507052372627 and parameters: {'num_leaves': 25, 'max_depth': 20, 'learning_rate': 0.06533220443715035, 'n_estimators': 35, 'min_split_gain': 0.03395113963075395, 'min_child_samples': 9, 'reg_alpha': 0.8769507966455988, 'reg_lambda': 0.15194145418142538}. Best is trial 153 with value: 0.04681221426654529.\u001b[0m\n",
      "\u001b[32m[I 2022-01-22 20:17:23,062]\u001b[0m Trial 346 finished with value: 0.06307914636402312 and parameters: {'num_leaves': 21, 'max_depth': 12, 'learning_rate': 0.001417327502008495, 'n_estimators': 28, 'min_split_gain': 0.0174423935916034, 'min_child_samples': 7, 'reg_alpha': 0.7275999439617963, 'reg_lambda': 0.3649639372143728}. Best is trial 153 with value: 0.04681221426654529.\u001b[0m\n",
      "\u001b[32m[I 2022-01-22 20:17:28,800]\u001b[0m Trial 347 finished with value: 0.15160867775847836 and parameters: {'num_leaves': 22, 'max_depth': 24, 'learning_rate': 0.145404853250921, 'n_estimators': 25, 'min_split_gain': 0.0262326440523195, 'min_child_samples': 8, 'reg_alpha': 0.7958231236954779, 'reg_lambda': 0.3333489412293906}. Best is trial 153 with value: 0.04681221426654529.\u001b[0m\n",
      "\u001b[32m[I 2022-01-22 20:17:34,514]\u001b[0m Trial 348 finished with value: 0.10547989832229171 and parameters: {'num_leaves': 20, 'max_depth': 14, 'learning_rate': 0.07097842865306742, 'n_estimators': 20, 'min_split_gain': 0.020347280643748522, 'min_child_samples': 11, 'reg_alpha': 0.852286046819547, 'reg_lambda': 0.28811517531351377}. Best is trial 153 with value: 0.04681221426654529.\u001b[0m\n",
      "\u001b[32m[I 2022-01-22 20:17:40,412]\u001b[0m Trial 349 finished with value: 0.06612746343533968 and parameters: {'num_leaves': 22, 'max_depth': 21, 'learning_rate': 0.00023580412366246313, 'n_estimators': 17, 'min_split_gain': 0.02396594097205662, 'min_child_samples': 3, 'reg_alpha': 0.596857918432207, 'reg_lambda': 0.17886483548707374}. Best is trial 153 with value: 0.04681221426654529.\u001b[0m\n",
      "\u001b[32m[I 2022-01-22 20:17:45,892]\u001b[0m Trial 350 finished with value: 0.15514489650025975 and parameters: {'num_leaves': 23, 'max_depth': 27, 'learning_rate': 0.21988333949217378, 'n_estimators': 31, 'min_split_gain': 0.030817937375072407, 'min_child_samples': 10, 'reg_alpha': 0.2478839748567741, 'reg_lambda': 0.25944433750227447}. Best is trial 153 with value: 0.04681221426654529.\u001b[0m\n",
      "\u001b[32m[I 2022-01-22 20:17:50,741]\u001b[0m Trial 351 finished with value: 0.1521725575602569 and parameters: {'num_leaves': 21, 'max_depth': 25, 'learning_rate': 0.32327446167226115, 'n_estimators': 23, 'min_split_gain': 0.02801609432335603, 'min_child_samples': 8, 'reg_alpha': 0.8165699827192869, 'reg_lambda': 0.3086259174627825}. Best is trial 153 with value: 0.04681221426654529.\u001b[0m\n"
     ]
    },
    {
     "name": "stderr",
     "output_type": "stream",
     "text": [
      "\u001b[32m[I 2022-01-22 20:18:00,428]\u001b[0m Trial 352 finished with value: 0.0649325933850067 and parameters: {'num_leaves': 24, 'max_depth': 23, 'learning_rate': 0.0004598041339848036, 'n_estimators': 37, 'min_split_gain': 0.04521393002123891, 'min_child_samples': 9, 'reg_alpha': 0.1376801177033862, 'reg_lambda': 0.3473182436066279}. Best is trial 153 with value: 0.04681221426654529.\u001b[0m\n",
      "\u001b[32m[I 2022-01-22 20:18:06,544]\u001b[0m Trial 353 finished with value: 0.14187835476990895 and parameters: {'num_leaves': 23, 'max_depth': 22, 'learning_rate': 0.12249577368851297, 'n_estimators': 21, 'min_split_gain': 0.02216479462293604, 'min_child_samples': 7, 'reg_alpha': 0.19323618259990158, 'reg_lambda': 0.3798600638189065}. Best is trial 153 with value: 0.04681221426654529.\u001b[0m\n",
      "\u001b[32m[I 2022-01-22 20:18:12,889]\u001b[0m Trial 354 finished with value: 0.11538958455806216 and parameters: {'num_leaves': 20, 'max_depth': 18, 'learning_rate': 0.06550156763121505, 'n_estimators': 26, 'min_split_gain': 0.02527953549689417, 'min_child_samples': 10, 'reg_alpha': 0.5423227556384665, 'reg_lambda': 0.24063582466933636}. Best is trial 153 with value: 0.04681221426654529.\u001b[0m\n",
      "\u001b[32m[I 2022-01-22 20:18:18,515]\u001b[0m Trial 355 finished with value: 0.15626720596549656 and parameters: {'num_leaves': 22, 'max_depth': 24, 'learning_rate': 0.1765224191692266, 'n_estimators': 33, 'min_split_gain': 0.029622111915760963, 'min_child_samples': 4, 'reg_alpha': 0.5140787747553396, 'reg_lambda': 0.2783384167108425}. Best is trial 153 with value: 0.04681221426654529.\u001b[0m\n",
      "\u001b[32m[I 2022-01-22 20:18:26,196]\u001b[0m Trial 356 finished with value: 188004758.7879925 and parameters: {'num_leaves': 21, 'max_depth': 21, 'learning_rate': 2.419994347098911, 'n_estimators': 30, 'min_split_gain': 0.018925599877513778, 'min_child_samples': 13, 'reg_alpha': 0.6432747697820849, 'reg_lambda': 0.31870294364169244}. Best is trial 153 with value: 0.04681221426654529.\u001b[0m\n",
      "\u001b[32m[I 2022-01-22 20:18:31,975]\u001b[0m Trial 357 finished with value: 0.10617790952107056 and parameters: {'num_leaves': 26, 'max_depth': 13, 'learning_rate': 0.07659923062754873, 'n_estimators': 19, 'min_split_gain': 0.03247512052632169, 'min_child_samples': 12, 'reg_alpha': 0.41381834923057126, 'reg_lambda': 0.29471062905726647}. Best is trial 153 with value: 0.04681221426654529.\u001b[0m\n",
      "\u001b[32m[I 2022-01-22 20:18:37,677]\u001b[0m Trial 358 finished with value: 0.13402889874766305 and parameters: {'num_leaves': 25, 'max_depth': 26, 'learning_rate': 0.13755099807209475, 'n_estimators': 16, 'min_split_gain': 0.016529715869975044, 'min_child_samples': 8, 'reg_alpha': 0.22527085648242673, 'reg_lambda': 0.33753463430268693}. Best is trial 153 with value: 0.04681221426654529.\u001b[0m\n",
      "\u001b[32m[I 2022-01-22 20:18:42,867]\u001b[0m Trial 359 finished with value: 0.14794925430517072 and parameters: {'num_leaves': 16, 'max_depth': 23, 'learning_rate': 0.27049047337269694, 'n_estimators': 28, 'min_split_gain': 0.04148691448128486, 'min_child_samples': 6, 'reg_alpha': 0.45690512750777196, 'reg_lambda': 0.2138557415737404}. Best is trial 153 with value: 0.04681221426654529.\u001b[0m\n",
      "\u001b[32m[I 2022-01-22 20:18:49,485]\u001b[0m Trial 360 finished with value: 0.11829777132066549 and parameters: {'num_leaves': 22, 'max_depth': 22, 'learning_rate': 0.07257839645133302, 'n_estimators': 24, 'min_split_gain': 0.03686283726204961, 'min_child_samples': 9, 'reg_alpha': 0.8053912411722876, 'reg_lambda': 0.2708183559888325}. Best is trial 153 with value: 0.04681221426654529.\u001b[0m\n",
      "\u001b[32m[I 2022-01-22 20:19:01,611]\u001b[0m Trial 361 finished with value: 0.054693948720159986 and parameters: {'num_leaves': 23, 'max_depth': 26, 'learning_rate': 0.005550334555718019, 'n_estimators': 55, 'min_split_gain': 0.023277963515561526, 'min_child_samples': 10, 'reg_alpha': 0.48772104528089033, 'reg_lambda': 0.36654772115648976}. Best is trial 153 with value: 0.04681221426654529.\u001b[0m\n",
      "\u001b[32m[I 2022-01-22 20:19:07,328]\u001b[0m Trial 362 finished with value: 0.06533190335328024 and parameters: {'num_leaves': 24, 'max_depth': 26, 'learning_rate': 0.0008561686988010717, 'n_estimators': 15, 'min_split_gain': 0.02286742564793422, 'min_child_samples': 10, 'reg_alpha': 0.47504019459229946, 'reg_lambda': 0.3696359501006766}. Best is trial 153 with value: 0.04681221426654529.\u001b[0m\n",
      "\u001b[32m[I 2022-01-22 20:19:14,139]\u001b[0m Trial 363 finished with value: 0.15382220828145496 and parameters: {'num_leaves': 24, 'max_depth': 27, 'learning_rate': 0.14384244269270566, 'n_estimators': 55, 'min_split_gain': 0.020322651934488845, 'min_child_samples': 9, 'reg_alpha': 0.48481161561327807, 'reg_lambda': 0.37493211015566524}. Best is trial 153 with value: 0.04681221426654529.\u001b[0m\n",
      "\u001b[32m[I 2022-01-22 20:19:23,462]\u001b[0m Trial 364 finished with value: 0.14913533704246867 and parameters: {'num_leaves': 19, 'max_depth': 25, 'learning_rate': 0.06165211687943575, 'n_estimators': 54, 'min_split_gain': 0.02389650426025565, 'min_child_samples': 10, 'reg_alpha': 0.4459645697258755, 'reg_lambda': 0.40929116207014493}. Best is trial 153 with value: 0.04681221426654529.\u001b[0m\n",
      "\u001b[32m[I 2022-01-22 20:19:30,333]\u001b[0m Trial 365 finished with value: 0.15064947817914442 and parameters: {'num_leaves': 23, 'max_depth': 26, 'learning_rate': 0.21624508615286792, 'n_estimators': 51, 'min_split_gain': 0.02599827495637576, 'min_child_samples': 9, 'reg_alpha': 0.4998275999689835, 'reg_lambda': 0.39199226675624643}. Best is trial 153 with value: 0.04681221426654529.\u001b[0m\n",
      "\u001b[32m[I 2022-01-22 20:19:43,257]\u001b[0m Trial 366 finished with value: 0.05490918196091872 and parameters: {'num_leaves': 23, 'max_depth': 25, 'learning_rate': 0.004645829440457555, 'n_estimators': 54, 'min_split_gain': 0.02224681372100105, 'min_child_samples': 10, 'reg_alpha': 0.462934546444105, 'reg_lambda': 0.356317574630172}. Best is trial 153 with value: 0.04681221426654529.\u001b[0m\n",
      "\u001b[32m[I 2022-01-22 20:19:55,091]\u001b[0m Trial 367 finished with value: 0.05594943524033135 and parameters: {'num_leaves': 24, 'max_depth': 25, 'learning_rate': 0.006958579801378366, 'n_estimators': 59, 'min_split_gain': 0.021343574231668914, 'min_child_samples': 9, 'reg_alpha': 0.46628784889511726, 'reg_lambda': 0.35746759363865566}. Best is trial 153 with value: 0.04681221426654529.\u001b[0m\n",
      "\u001b[32m[I 2022-01-22 20:20:02,677]\u001b[0m Trial 368 finished with value: 0.15591670477209302 and parameters: {'num_leaves': 24, 'max_depth': 25, 'learning_rate': 0.13885260278314096, 'n_estimators': 60, 'min_split_gain': 0.018941108150584966, 'min_child_samples': 9, 'reg_alpha': 0.4902922580468413, 'reg_lambda': 0.42419309191494425}. Best is trial 153 with value: 0.04681221426654529.\u001b[0m\n",
      "\u001b[32m[I 2022-01-22 20:20:14,362]\u001b[0m Trial 369 finished with value: 0.05578610530674237 and parameters: {'num_leaves': 23, 'max_depth': 25, 'learning_rate': 0.0035085262535125396, 'n_estimators': 56, 'min_split_gain': 0.021899476873410546, 'min_child_samples': 20, 'reg_alpha': 0.4690121972499754, 'reg_lambda': 0.3611438000531139}. Best is trial 153 with value: 0.04681221426654529.\u001b[0m\n",
      "\u001b[32m[I 2022-01-22 20:20:19,170]\u001b[0m Trial 370 finished with value: 0.16192801383358807 and parameters: {'num_leaves': 23, 'max_depth': 25, 'learning_rate': 0.8673589692428387, 'n_estimators': 58, 'min_split_gain': 0.022177677789563494, 'min_child_samples': 23, 'reg_alpha': 0.4729340831576039, 'reg_lambda': 0.3588063771686374}. Best is trial 153 with value: 0.04681221426654529.\u001b[0m\n",
      "\u001b[32m[I 2022-01-22 20:20:28,695]\u001b[0m Trial 371 finished with value: 0.1516197616323072 and parameters: {'num_leaves': 24, 'max_depth': 25, 'learning_rate': 0.0744710446464404, 'n_estimators': 56, 'min_split_gain': 0.020679194552085913, 'min_child_samples': 21, 'reg_alpha': 0.4732775775392246, 'reg_lambda': 0.3883028136470477}. Best is trial 153 with value: 0.04681221426654529.\u001b[0m\n",
      "\u001b[32m[I 2022-01-22 20:20:38,404]\u001b[0m Trial 372 finished with value: 0.14852912201770224 and parameters: {'num_leaves': 23, 'max_depth': 24, 'learning_rate': 0.06707233568036058, 'n_estimators': 55, 'min_split_gain': 0.017992812737123744, 'min_child_samples': 19, 'reg_alpha': 0.49702835469621903, 'reg_lambda': 0.35263577435978305}. Best is trial 153 with value: 0.04681221426654529.\u001b[0m\n",
      "\u001b[32m[I 2022-01-22 20:20:49,427]\u001b[0m Trial 373 finished with value: 0.055182513577379494 and parameters: {'num_leaves': 17, 'max_depth': 26, 'learning_rate': 0.00601981849824283, 'n_estimators': 60, 'min_split_gain': 0.01536463254973253, 'min_child_samples': 24, 'reg_alpha': 0.4606771220511355, 'reg_lambda': 0.36858361321159466}. Best is trial 153 with value: 0.04681221426654529.\u001b[0m\n"
     ]
    },
    {
     "name": "stderr",
     "output_type": "stream",
     "text": [
      "\u001b[32m[I 2022-01-22 20:21:02,081]\u001b[0m Trial 374 finished with value: 0.06169513702574268 and parameters: {'num_leaves': 25, 'max_depth': 26, 'learning_rate': 0.0010041313190656473, 'n_estimators': 60, 'min_split_gain': 0.014289167578112088, 'min_child_samples': 20, 'reg_alpha': 0.46286031811964634, 'reg_lambda': 0.39288217328445774}. Best is trial 153 with value: 0.04681221426654529.\u001b[0m\n",
      "\u001b[32m[I 2022-01-22 20:21:08,529]\u001b[0m Trial 375 finished with value: 0.14989515678012832 and parameters: {'num_leaves': 18, 'max_depth': 25, 'learning_rate': 0.2133044869929815, 'n_estimators': 62, 'min_split_gain': 0.0212467939920985, 'min_child_samples': 23, 'reg_alpha': 0.4534068196570455, 'reg_lambda': 0.36876070853433635}. Best is trial 153 with value: 0.04681221426654529.\u001b[0m\n",
      "\u001b[32m[I 2022-01-22 20:21:19,394]\u001b[0m Trial 376 finished with value: 0.054730395399542255 and parameters: {'num_leaves': 25, 'max_depth': 27, 'learning_rate': 0.004875725109864268, 'n_estimators': 58, 'min_split_gain': 0.019360352799676045, 'min_child_samples': 25, 'reg_alpha': 0.43821348470737537, 'reg_lambda': 0.40532009299922}. Best is trial 153 with value: 0.04681221426654529.\u001b[0m\n",
      "\u001b[32m[I 2022-01-22 20:21:26,332]\u001b[0m Trial 377 finished with value: 0.15528972478721026 and parameters: {'num_leaves': 17, 'max_depth': 27, 'learning_rate': 0.13896413855957268, 'n_estimators': 64, 'min_split_gain': 0.019276911378624466, 'min_child_samples': 26, 'reg_alpha': 0.4360569382351267, 'reg_lambda': 0.4437285908773012}. Best is trial 153 with value: 0.04681221426654529.\u001b[0m\n",
      "\u001b[32m[I 2022-01-22 20:21:37,650]\u001b[0m Trial 378 finished with value: 0.05671082020079727 and parameters: {'num_leaves': 25, 'max_depth': 26, 'learning_rate': 0.002849976879701009, 'n_estimators': 57, 'min_split_gain': 0.016266274374098395, 'min_child_samples': 24, 'reg_alpha': 0.4629671270164062, 'reg_lambda': 0.4084594313616076}. Best is trial 153 with value: 0.04681221426654529.\u001b[0m\n",
      "\u001b[32m[I 2022-01-22 20:21:49,462]\u001b[0m Trial 379 finished with value: 0.05558079056554686 and parameters: {'num_leaves': 26, 'max_depth': 26, 'learning_rate': 0.003482233416673237, 'n_estimators': 59, 'min_split_gain': 0.021453138688511585, 'min_child_samples': 25, 'reg_alpha': 0.4482455284521022, 'reg_lambda': 0.40288409510267553}. Best is trial 153 with value: 0.04681221426654529.\u001b[0m\n",
      "\u001b[32m[I 2022-01-22 20:21:57,294]\u001b[0m Trial 380 finished with value: 0.15569907491577759 and parameters: {'num_leaves': 26, 'max_depth': 28, 'learning_rate': 0.11011682890245347, 'n_estimators': 61, 'min_split_gain': 0.009594909702412313, 'min_child_samples': 23, 'reg_alpha': 0.4345915896187709, 'reg_lambda': 0.42564987336157944}. Best is trial 153 with value: 0.04681221426654529.\u001b[0m\n",
      "\u001b[32m[I 2022-01-22 20:22:03,109]\u001b[0m Trial 381 finished with value: 0.15801740498156727 and parameters: {'num_leaves': 27, 'max_depth': 27, 'learning_rate': 0.303321671429381, 'n_estimators': 58, 'min_split_gain': 0.02248832561827282, 'min_child_samples': 25, 'reg_alpha': 0.44893081855162403, 'reg_lambda': 0.41381930219312346}. Best is trial 153 with value: 0.04681221426654529.\u001b[0m\n",
      "\u001b[32m[I 2022-01-22 20:22:14,827]\u001b[0m Trial 382 finished with value: 0.05492701799654853 and parameters: {'num_leaves': 26, 'max_depth': 26, 'learning_rate': 0.00372579632682608, 'n_estimators': 67, 'min_split_gain': 0.018263192895115642, 'min_child_samples': 25, 'reg_alpha': 0.48261252536771726, 'reg_lambda': 0.39880325135512135}. Best is trial 153 with value: 0.04681221426654529.\u001b[0m\n",
      "\u001b[32m[I 2022-01-22 20:22:25,585]\u001b[0m Trial 383 finished with value: 0.15440810096267799 and parameters: {'num_leaves': 27, 'max_depth': 26, 'learning_rate': 0.0730277536173184, 'n_estimators': 76, 'min_split_gain': 0.014927267602961525, 'min_child_samples': 25, 'reg_alpha': 0.4901604588769029, 'reg_lambda': 0.43639199062260264}. Best is trial 153 with value: 0.04681221426654529.\u001b[0m\n",
      "\u001b[32m[I 2022-01-22 20:22:32,567]\u001b[0m Trial 384 finished with value: 0.15796381251591238 and parameters: {'num_leaves': 26, 'max_depth': 27, 'learning_rate': 0.18798429914800796, 'n_estimators': 67, 'min_split_gain': 0.018522858923613647, 'min_child_samples': 25, 'reg_alpha': 0.5046913825758171, 'reg_lambda': 0.3914449458681092}. Best is trial 153 with value: 0.04681221426654529.\u001b[0m\n",
      "\u001b[32m[I 2022-01-22 20:22:41,692]\u001b[0m Trial 385 finished with value: 0.1512392700841924 and parameters: {'num_leaves': 28, 'max_depth': 26, 'learning_rate': 0.07834035633136599, 'n_estimators': 59, 'min_split_gain': 0.021494765501969982, 'min_child_samples': 24, 'reg_alpha': 0.47286889339186927, 'reg_lambda': 0.4239350816096435}. Best is trial 153 with value: 0.04681221426654529.\u001b[0m\n",
      "\u001b[32m[I 2022-01-22 20:22:57,400]\u001b[0m Trial 386 finished with value: 7.569576667803967e+47 and parameters: {'num_leaves': 26, 'max_depth': 25, 'learning_rate': 3.473598981537546, 'n_estimators': 62, 'min_split_gain': 0.012155634494080034, 'min_child_samples': 27, 'reg_alpha': 0.44214734621218127, 'reg_lambda': 0.3770029486793537}. Best is trial 153 with value: 0.04681221426654529.\u001b[0m\n",
      "\u001b[32m[I 2022-01-22 20:23:09,414]\u001b[0m Trial 387 finished with value: 0.05801083602259219 and parameters: {'num_leaves': 15, 'max_depth': 25, 'learning_rate': 0.0018082051689884311, 'n_estimators': 71, 'min_split_gain': 0.0198556282489623, 'min_child_samples': 25, 'reg_alpha': 0.48781066341289536, 'reg_lambda': 0.406677098528704}. Best is trial 153 with value: 0.04681221426654529.\u001b[0m\n",
      "\u001b[32m[I 2022-01-22 20:23:19,792]\u001b[0m Trial 388 finished with value: 0.06423384327286043 and parameters: {'num_leaves': 26, 'max_depth': 24, 'learning_rate': 0.00045290189248515904, 'n_estimators': 57, 'min_split_gain': 0.016847971002667557, 'min_child_samples': 26, 'reg_alpha': 0.467539213569518, 'reg_lambda': 0.3973953375924504}. Best is trial 153 with value: 0.04681221426654529.\u001b[0m\n",
      "\u001b[32m[I 2022-01-22 20:23:33,493]\u001b[0m Trial 389 finished with value: 0.05638390877444863 and parameters: {'num_leaves': 26, 'max_depth': 26, 'learning_rate': 0.0026607937749732694, 'n_estimators': 65, 'min_split_gain': 0.019562074227715883, 'min_child_samples': 24, 'reg_alpha': 0.42924792058033884, 'reg_lambda': 0.460450380884454}. Best is trial 153 with value: 0.04681221426654529.\u001b[0m\n",
      "\u001b[32m[I 2022-01-22 20:23:40,413]\u001b[0m Trial 390 finished with value: 0.15698540495780444 and parameters: {'num_leaves': 25, 'max_depth': 27, 'learning_rate': 0.1611879865384134, 'n_estimators': 59, 'min_split_gain': 0.023153446285077754, 'min_child_samples': 26, 'reg_alpha': 0.515644308849402, 'reg_lambda': 0.37091739675263025}. Best is trial 153 with value: 0.04681221426654529.\u001b[0m\n",
      "\u001b[32m[I 2022-01-22 20:23:47,422]\u001b[0m Trial 391 finished with value: 0.1537914150086842 and parameters: {'num_leaves': 27, 'max_depth': 25, 'learning_rate': 0.12604840632045136, 'n_estimators': 82, 'min_split_gain': 0.02135911122337327, 'min_child_samples': 25, 'reg_alpha': 0.48310798651734954, 'reg_lambda': 0.37703445717847345}. Best is trial 153 with value: 0.04681221426654529.\u001b[0m\n",
      "\u001b[32m[I 2022-01-22 20:23:52,738]\u001b[0m Trial 392 finished with value: 0.14730195007849153 and parameters: {'num_leaves': 3, 'max_depth': 28, 'learning_rate': 0.25035635004245227, 'n_estimators': 57, 'min_split_gain': 0.02418602751536606, 'min_child_samples': 25, 'reg_alpha': 0.45915512425807076, 'reg_lambda': 0.3880737254704013}. Best is trial 153 with value: 0.04681221426654529.\u001b[0m\n",
      "\u001b[32m[I 2022-01-22 20:24:03,142]\u001b[0m Trial 393 finished with value: 0.06582607344936378 and parameters: {'num_leaves': 25, 'max_depth': 26, 'learning_rate': 0.00011946607715780915, 'n_estimators': 61, 'min_split_gain': 0.01750854123195677, 'min_child_samples': 25, 'reg_alpha': 0.43955372030372075, 'reg_lambda': 0.40543977720902485}. Best is trial 153 with value: 0.04681221426654529.\u001b[0m\n",
      "\u001b[32m[I 2022-01-22 20:24:13,265]\u001b[0m Trial 394 finished with value: 0.0613737897417596 and parameters: {'num_leaves': 14, 'max_depth': 24, 'learning_rate': 0.0011774623037326517, 'n_estimators': 55, 'min_split_gain': 0.0195798424959753, 'min_child_samples': 27, 'reg_alpha': 0.45054366870697143, 'reg_lambda': 0.3616885130248885}. Best is trial 153 with value: 0.04681221426654529.\u001b[0m\n",
      "\u001b[32m[I 2022-01-22 20:24:21,994]\u001b[0m Trial 395 finished with value: 0.15420768221877248 and parameters: {'num_leaves': 24, 'max_depth': 27, 'learning_rate': 0.07970865725256975, 'n_estimators': 68, 'min_split_gain': 0.01549371346402165, 'min_child_samples': 26, 'reg_alpha': 0.40943831417954357, 'reg_lambda': 0.5239103027319485}. Best is trial 153 with value: 0.04681221426654529.\u001b[0m\n"
     ]
    },
    {
     "name": "stderr",
     "output_type": "stream",
     "text": [
      "\u001b[32m[I 2022-01-22 20:24:26,872]\u001b[0m Trial 396 finished with value: 0.12278210578761001 and parameters: {'num_leaves': 2, 'max_depth': 25, 'learning_rate': 0.18177695882153033, 'n_estimators': 63, 'min_split_gain': 0.022948382093937944, 'min_child_samples': 20, 'reg_alpha': 0.508534221598855, 'reg_lambda': 0.3481254967362957}. Best is trial 153 with value: 0.04681221426654529.\u001b[0m\n",
      "\u001b[32m[I 2022-01-22 20:24:35,520]\u001b[0m Trial 397 finished with value: 0.1515646842245572 and parameters: {'num_leaves': 27, 'max_depth': 26, 'learning_rate': 0.07374721615068579, 'n_estimators': 53, 'min_split_gain': 0.0212063262060646, 'min_child_samples': 21, 'reg_alpha': 0.47677563645411614, 'reg_lambda': 0.38049658718738094}. Best is trial 153 with value: 0.04681221426654529.\u001b[0m\n",
      "\u001b[32m[I 2022-01-22 20:24:44,378]\u001b[0m Trial 398 finished with value: 0.15179412634253792 and parameters: {'num_leaves': 25, 'max_depth': 24, 'learning_rate': 0.07197720298893504, 'n_estimators': 59, 'min_split_gain': 0.01836116335948794, 'min_child_samples': 24, 'reg_alpha': 0.4223946187521166, 'reg_lambda': 0.2152261381437461}. Best is trial 153 with value: 0.04681221426654529.\u001b[0m\n",
      "\u001b[32m[I 2022-01-22 20:24:55,886]\u001b[0m Trial 399 finished with value: 0.06336983175982426 and parameters: {'num_leaves': 26, 'max_depth': 29, 'learning_rate': 0.0006540234517430918, 'n_estimators': 56, 'min_split_gain': 0.013650632022965374, 'min_child_samples': 25, 'reg_alpha': 0.45376209185597605, 'reg_lambda': 0.19478676739976086}. Best is trial 153 with value: 0.04681221426654529.\u001b[0m\n",
      "\u001b[32m[I 2022-01-22 20:25:01,755]\u001b[0m Trial 400 finished with value: 0.1512620321921902 and parameters: {'num_leaves': 4, 'max_depth': 26, 'learning_rate': 0.12383697092438123, 'n_estimators': 54, 'min_split_gain': 0.02403584244460351, 'min_child_samples': 24, 'reg_alpha': 0.4243531988159149, 'reg_lambda': 0.3556101194883823}. Best is trial 153 with value: 0.04681221426654529.\u001b[0m\n",
      "\u001b[32m[I 2022-01-22 20:25:08,381]\u001b[0m Trial 401 finished with value: 0.1522907826794428 and parameters: {'num_leaves': 24, 'max_depth': 27, 'learning_rate': 0.21872573923300623, 'n_estimators': 57, 'min_split_gain': 0.021816344955707345, 'min_child_samples': 26, 'reg_alpha': 0.4868943215671322, 'reg_lambda': 0.23564909773725728}. Best is trial 153 with value: 0.04681221426654529.\u001b[0m\n",
      "\u001b[32m[I 2022-01-22 20:25:24,761]\u001b[0m Trial 402 finished with value: 0.058237876701811214 and parameters: {'num_leaves': 26, 'max_depth': 25, 'learning_rate': 0.004938215045606764, 'n_estimators': 100, 'min_split_gain': 0.0246546568918627, 'min_child_samples': 25, 'reg_alpha': 0.4651099680780465, 'reg_lambda': 0.40915681647789587}. Best is trial 153 with value: 0.04681221426654529.\u001b[0m\n",
      "\u001b[32m[I 2022-01-22 20:25:29,475]\u001b[0m Trial 403 finished with value: 0.13055370276737258 and parameters: {'num_leaves': 2, 'max_depth': 28, 'learning_rate': 0.3580717019877677, 'n_estimators': 61, 'min_split_gain': 0.019358427344135763, 'min_child_samples': 26, 'reg_alpha': 0.4312780727698984, 'reg_lambda': 0.44517955830250866}. Best is trial 153 with value: 0.04681221426654529.\u001b[0m\n",
      "\u001b[32m[I 2022-01-22 20:25:45,674]\u001b[0m Trial 404 finished with value: 0.06417647830655615 and parameters: {'num_leaves': 17, 'max_depth': 26, 'learning_rate': 0.000368673247471976, 'n_estimators': 72, 'min_split_gain': 0.017153171243296964, 'min_child_samples': 17, 'reg_alpha': 0.3975122323591389, 'reg_lambda': 0.35801255552591693}. Best is trial 153 with value: 0.04681221426654529.\u001b[0m\n",
      "\u001b[32m[I 2022-01-22 20:25:52,973]\u001b[0m Trial 405 finished with value: 0.15484279803022172 and parameters: {'num_leaves': 25, 'max_depth': 24, 'learning_rate': 0.13724780240547116, 'n_estimators': 58, 'min_split_gain': 0.022716960370225664, 'min_child_samples': 3, 'reg_alpha': 0.5207065437826367, 'reg_lambda': 0.32740262724535574}. Best is trial 153 with value: 0.04681221426654529.\u001b[0m\n",
      "\u001b[32m[I 2022-01-22 20:26:07,830]\u001b[0m Trial 406 finished with value: 0.05475263984739898 and parameters: {'num_leaves': 24, 'max_depth': 25, 'learning_rate': 0.0036886762255091514, 'n_estimators': 74, 'min_split_gain': 0.025265786005809955, 'min_child_samples': 24, 'reg_alpha': 0.4473550338851534, 'reg_lambda': 0.37662832959754927}. Best is trial 153 with value: 0.04681221426654529.\u001b[0m\n",
      "\u001b[32m[I 2022-01-22 20:26:22,807]\u001b[0m Trial 407 finished with value: 0.06554868886873735 and parameters: {'num_leaves': 24, 'max_depth': 25, 'learning_rate': 0.00013225046939370835, 'n_estimators': 79, 'min_split_gain': 0.026001419495406852, 'min_child_samples': 23, 'reg_alpha': 0.4506644239006296, 'reg_lambda': 0.3841818980174726}. Best is trial 153 with value: 0.04681221426654529.\u001b[0m\n",
      "\u001b[32m[I 2022-01-22 20:26:31,522]\u001b[0m Trial 408 finished with value: 0.15130529237368062 and parameters: {'num_leaves': 24, 'max_depth': 25, 'learning_rate': 0.08022604226532308, 'n_estimators': 52, 'min_split_gain': 0.025139101532573163, 'min_child_samples': 24, 'reg_alpha': 0.4741422531105246, 'reg_lambda': 0.36896927018572795}. Best is trial 153 with value: 0.04681221426654529.\u001b[0m\n",
      "\u001b[32m[I 2022-01-22 20:26:38,192]\u001b[0m Trial 409 finished with value: 0.14901886279485 and parameters: {'num_leaves': 27, 'max_depth': 24, 'learning_rate': 0.22285012465350268, 'n_estimators': 84, 'min_split_gain': 0.020845339805106115, 'min_child_samples': 22, 'reg_alpha': 0.4175250112272807, 'reg_lambda': 0.42168202858565446}. Best is trial 153 with value: 0.04681221426654529.\u001b[0m\n",
      "\u001b[32m[I 2022-01-22 20:26:43,947]\u001b[0m Trial 410 finished with value: 0.14612003853185573 and parameters: {'num_leaves': 25, 'max_depth': 25, 'learning_rate': 1.5911269598381539, 'n_estimators': 74, 'min_split_gain': 0.018626247281525052, 'min_child_samples': 25, 'reg_alpha': 0.4478659852148527, 'reg_lambda': 0.3942730356325201}. Best is trial 153 with value: 0.04681221426654529.\u001b[0m\n",
      "\u001b[32m[I 2022-01-22 20:26:57,904]\u001b[0m Trial 411 finished with value: 0.06058790269378934 and parameters: {'num_leaves': 24, 'max_depth': 24, 'learning_rate': 0.0011776245754575856, 'n_estimators': 66, 'min_split_gain': 0.024908336974227837, 'min_child_samples': 22, 'reg_alpha': 0.48660311863171557, 'reg_lambda': 0.3724623633789103}. Best is trial 153 with value: 0.04681221426654529.\u001b[0m\n",
      "\u001b[32m[I 2022-01-22 20:27:05,272]\u001b[0m Trial 412 finished with value: 0.1539863307543919 and parameters: {'num_leaves': 25, 'max_depth': 26, 'learning_rate': 0.12126559239019084, 'n_estimators': 60, 'min_split_gain': 0.01492940189912628, 'min_child_samples': 25, 'reg_alpha': 0.46330391180314456, 'reg_lambda': 0.3432779841526585}. Best is trial 153 with value: 0.04681221426654529.\u001b[0m\n",
      "\u001b[32m[I 2022-01-22 20:27:14,169]\u001b[0m Trial 413 finished with value: 0.1509294773243834 and parameters: {'num_leaves': 24, 'max_depth': 24, 'learning_rate': 0.06949300536607998, 'n_estimators': 55, 'min_split_gain': 0.022746739718677435, 'min_child_samples': 24, 'reg_alpha': 0.4432095317064187, 'reg_lambda': 0.34387552764439494}. Best is trial 153 with value: 0.04681221426654529.\u001b[0m\n",
      "\u001b[32m[I 2022-01-22 20:27:20,731]\u001b[0m Trial 414 finished with value: 0.15761630560821474 and parameters: {'num_leaves': 23, 'max_depth': 25, 'learning_rate': 0.17530475840066248, 'n_estimators': 76, 'min_split_gain': 0.02052863932678187, 'min_child_samples': 30, 'reg_alpha': 0.41251328983152724, 'reg_lambda': 0.3213910865408277}. Best is trial 153 with value: 0.04681221426654529.\u001b[0m\n",
      "\u001b[32m[I 2022-01-22 20:27:33,842]\u001b[0m Trial 415 finished with value: 0.058461098427813905 and parameters: {'num_leaves': 25, 'max_depth': 26, 'learning_rate': 0.0018537747325312209, 'n_estimators': 64, 'min_split_gain': 0.02694735157318596, 'min_child_samples': 24, 'reg_alpha': 0.49491472595483355, 'reg_lambda': 0.5637576229595898}. Best is trial 153 with value: 0.04681221426654529.\u001b[0m\n",
      "\u001b[32m[I 2022-01-22 20:27:40,547]\u001b[0m Trial 416 finished with value: 0.14543729617444764 and parameters: {'num_leaves': 23, 'max_depth': 25, 'learning_rate': 0.2842040329051875, 'n_estimators': 59, 'min_split_gain': 0.023945930201826747, 'min_child_samples': 22, 'reg_alpha': 0.4342281106299286, 'reg_lambda': 0.3965075425999008}. Best is trial 153 with value: 0.04681221426654529.\u001b[0m\n",
      "\u001b[32m[I 2022-01-22 20:27:50,671]\u001b[0m Trial 417 finished with value: 0.15406762245015035 and parameters: {'num_leaves': 26, 'max_depth': 26, 'learning_rate': 0.06945846564486596, 'n_estimators': 74, 'min_split_gain': 0.01650091798490705, 'min_child_samples': 24, 'reg_alpha': 0.38382832148707235, 'reg_lambda': 0.36289435289479544}. Best is trial 153 with value: 0.04681221426654529.\u001b[0m\n"
     ]
    },
    {
     "name": "stderr",
     "output_type": "stream",
     "text": [
      "\u001b[32m[I 2022-01-22 20:27:56,922]\u001b[0m Trial 418 finished with value: 0.138708695943536 and parameters: {'num_leaves': 3, 'max_depth': 25, 'learning_rate': 0.13790437968626928, 'n_estimators': 70, 'min_split_gain': 0.026266867504385415, 'min_child_samples': 17, 'reg_alpha': 0.3198975497208372, 'reg_lambda': 0.3792309359497464}. Best is trial 153 with value: 0.04681221426654529.\u001b[0m\n",
      "\u001b[32m[I 2022-01-22 20:28:06,100]\u001b[0m Trial 419 finished with value: 0.1497788915056503 and parameters: {'num_leaves': 24, 'max_depth': 24, 'learning_rate': 0.07230263081025005, 'n_estimators': 50, 'min_split_gain': 0.021610025513133627, 'min_child_samples': 23, 'reg_alpha': 0.508507845336441, 'reg_lambda': 0.3348591180800907}. Best is trial 153 with value: 0.04681221426654529.\u001b[0m\n",
      "\u001b[32m[I 2022-01-22 20:28:17,992]\u001b[0m Trial 420 finished with value: 0.05585568235725171 and parameters: {'num_leaves': 23, 'max_depth': 27, 'learning_rate': 0.00708362476753249, 'n_estimators': 57, 'min_split_gain': 0.01818302013363574, 'min_child_samples': 26, 'reg_alpha': 0.46465460734659436, 'reg_lambda': 0.30165671634858654}. Best is trial 153 with value: 0.04681221426654529.\u001b[0m\n",
      "\u001b[32m[I 2022-01-22 20:28:24,389]\u001b[0m Trial 421 finished with value: 0.15848210971162233 and parameters: {'num_leaves': 16, 'max_depth': 27, 'learning_rate': 0.18906351944200211, 'n_estimators': 56, 'min_split_gain': 0.018305987615038887, 'min_child_samples': 25, 'reg_alpha': 0.46240607313192933, 'reg_lambda': 0.4281427928992122}. Best is trial 153 with value: 0.04681221426654529.\u001b[0m\n",
      "\u001b[32m[I 2022-01-22 20:28:29,519]\u001b[0m Trial 422 finished with value: 0.168625421161907 and parameters: {'num_leaves': 24, 'max_depth': 30, 'learning_rate': 1.319435522000317, 'n_estimators': 54, 'min_split_gain': 0.01685771840132906, 'min_child_samples': 26, 'reg_alpha': 0.47753749195658846, 'reg_lambda': 0.4032066480307236}. Best is trial 153 with value: 0.04681221426654529.\u001b[0m\n",
      "\u001b[32m[I 2022-01-22 20:28:40,537]\u001b[0m Trial 423 finished with value: 0.06229862387797781 and parameters: {'num_leaves': 23, 'max_depth': 28, 'learning_rate': 0.0008270709616722298, 'n_estimators': 62, 'min_split_gain': 0.013847006937752688, 'min_child_samples': 26, 'reg_alpha': 0.4476640925886268, 'reg_lambda': 0.4728391126976096}. Best is trial 153 with value: 0.04681221426654529.\u001b[0m\n",
      "\u001b[32m[I 2022-01-22 20:28:52,163]\u001b[0m Trial 424 finished with value: 0.05924849066051454 and parameters: {'num_leaves': 23, 'max_depth': 27, 'learning_rate': 0.0017771690685283365, 'n_estimators': 57, 'min_split_gain': 0.02008499495396588, 'min_child_samples': 27, 'reg_alpha': 0.4656795277267697, 'reg_lambda': 0.3110275567672298}. Best is trial 153 with value: 0.04681221426654529.\u001b[0m\n",
      "\u001b[32m[I 2022-01-22 20:29:02,798]\u001b[0m Trial 425 finished with value: 0.06372286494433198 and parameters: {'num_leaves': 25, 'max_depth': 27, 'learning_rate': 0.0005460335530769172, 'n_estimators': 59, 'min_split_gain': 0.01795193108110861, 'min_child_samples': 27, 'reg_alpha': 0.4911167916086023, 'reg_lambda': 0.3555366936210972}. Best is trial 153 with value: 0.04681221426654529.\u001b[0m\n",
      "\u001b[32m[I 2022-01-22 20:29:07,565]\u001b[0m Trial 426 finished with value: 0.09738436644533628 and parameters: {'num_leaves': 2, 'max_depth': 26, 'learning_rate': 0.11432700381287168, 'n_estimators': 53, 'min_split_gain': 0.012742559077783846, 'min_child_samples': 18, 'reg_alpha': 0.4296179949150424, 'reg_lambda': 0.32461325269978286}. Best is trial 153 with value: 0.04681221426654529.\u001b[0m\n",
      "\u001b[32m[I 2022-01-22 20:29:17,268]\u001b[0m Trial 427 finished with value: 0.15521349289542707 and parameters: {'num_leaves': 24, 'max_depth': 28, 'learning_rate': 0.08309093241907346, 'n_estimators': 57, 'min_split_gain': 0.015229913385898934, 'min_child_samples': 26, 'reg_alpha': 0.40563765905186877, 'reg_lambda': 0.3806450840116405}. Best is trial 153 with value: 0.04681221426654529.\u001b[0m\n",
      "\u001b[32m[I 2022-01-22 20:29:23,657]\u001b[0m Trial 428 finished with value: 0.15385284240901584 and parameters: {'num_leaves': 25, 'max_depth': 23, 'learning_rate': 0.2415637705307601, 'n_estimators': 69, 'min_split_gain': 0.019493413589759777, 'min_child_samples': 25, 'reg_alpha': 0.4381930768256515, 'reg_lambda': 0.3478860280646515}. Best is trial 153 with value: 0.04681221426654529.\u001b[0m\n",
      "\u001b[32m[I 2022-01-22 20:29:28,872]\u001b[0m Trial 429 finished with value: 0.156010257616222 and parameters: {'num_leaves': 18, 'max_depth': 26, 'learning_rate': 0.7395107229749542, 'n_estimators': 61, 'min_split_gain': 0.011181485701382596, 'min_child_samples': 25, 'reg_alpha': 0.46823334200697014, 'reg_lambda': 0.30486648862535615}. Best is trial 153 with value: 0.04681221426654529.\u001b[0m\n",
      "\u001b[32m[I 2022-01-22 20:29:42,563]\u001b[0m Trial 430 finished with value: 0.060749912121780276 and parameters: {'num_leaves': 23, 'max_depth': 26, 'learning_rate': 0.0009494492858671717, 'n_estimators': 79, 'min_split_gain': 0.021528272987499236, 'min_child_samples': 26, 'reg_alpha': 0.5050844714303586, 'reg_lambda': 0.36684375959399496}. Best is trial 153 with value: 0.04681221426654529.\u001b[0m\n",
      "\u001b[32m[I 2022-01-22 20:29:48,001]\u001b[0m Trial 431 finished with value: 0.15614960621038743 and parameters: {'num_leaves': 26, 'max_depth': 27, 'learning_rate': 0.4359297041675083, 'n_estimators': 52, 'min_split_gain': 0.018020394618264258, 'min_child_samples': 10, 'reg_alpha': 0.4258138099102545, 'reg_lambda': 0.2560036647733238}. Best is trial 153 with value: 0.04681221426654529.\u001b[0m\n",
      "\u001b[32m[I 2022-01-22 20:29:55,051]\u001b[0m Trial 432 finished with value: 0.15581048332295797 and parameters: {'num_leaves': 28, 'max_depth': 29, 'learning_rate': 0.14450411581320546, 'n_estimators': 55, 'min_split_gain': 0.026735327647785204, 'min_child_samples': 24, 'reg_alpha': 0.278352310159326, 'reg_lambda': 0.3382885481845464}. Best is trial 153 with value: 0.04681221426654529.\u001b[0m\n",
      "\u001b[32m[I 2022-01-22 20:30:04,125]\u001b[0m Trial 433 finished with value: 0.14947951751412747 and parameters: {'num_leaves': 24, 'max_depth': 23, 'learning_rate': 0.07190297741333258, 'n_estimators': 59, 'min_split_gain': 0.061643196629597226, 'min_child_samples': 24, 'reg_alpha': 0.5365013847782063, 'reg_lambda': 0.5069890945322479}. Best is trial 153 with value: 0.04681221426654529.\u001b[0m\n",
      "\u001b[32m[I 2022-01-22 20:30:15,553]\u001b[0m Trial 434 finished with value: 0.1528513130047818 and parameters: {'num_leaves': 23, 'max_depth': 25, 'learning_rate': 0.06451017712853126, 'n_estimators': 57, 'min_split_gain': 0.02017253382729331, 'min_child_samples': 10, 'reg_alpha': 0.032131181522564445, 'reg_lambda': 0.3898815640497208}. Best is trial 153 with value: 0.04681221426654529.\u001b[0m\n",
      "\u001b[32m[I 2022-01-22 20:30:22,440]\u001b[0m Trial 435 finished with value: 0.1550276953206146 and parameters: {'num_leaves': 25, 'max_depth': 24, 'learning_rate': 0.18182155871678915, 'n_estimators': 67, 'min_split_gain': 0.024285580710400382, 'min_child_samples': 19, 'reg_alpha': 0.480266480072311, 'reg_lambda': 0.4186694139932624}. Best is trial 153 with value: 0.04681221426654529.\u001b[0m\n",
      "\u001b[32m[I 2022-01-22 20:30:35,218]\u001b[0m Trial 436 finished with value: 0.059855605302492836 and parameters: {'num_leaves': 12, 'max_depth': 26, 'learning_rate': 0.0014280790346086897, 'n_estimators': 63, 'min_split_gain': 0.022299340133295355, 'min_child_samples': 9, 'reg_alpha': 0.44615772221758965, 'reg_lambda': 0.2942132237114162}. Best is trial 153 with value: 0.04681221426654529.\u001b[0m\n",
      "\u001b[32m[I 2022-01-22 20:30:46,880]\u001b[0m Trial 437 finished with value: 0.05526712842845621 and parameters: {'num_leaves': 24, 'max_depth': 28, 'learning_rate': 0.003992761448949597, 'n_estimators': 55, 'min_split_gain': 0.016289009729813096, 'min_child_samples': 9, 'reg_alpha': 0.39401506639862827, 'reg_lambda': 0.3563193419179107}. Best is trial 153 with value: 0.04681221426654529.\u001b[0m\n",
      "\u001b[32m[I 2022-01-22 20:30:58,303]\u001b[0m Trial 438 finished with value: 0.06317500998592382 and parameters: {'num_leaves': 24, 'max_depth': 28, 'learning_rate': 0.0007098042061811677, 'n_estimators': 55, 'min_split_gain': 0.015174199861702722, 'min_child_samples': 28, 'reg_alpha': 0.40923093666640925, 'reg_lambda': 0.3599932155855042}. Best is trial 153 with value: 0.04681221426654529.\u001b[0m\n",
      "\u001b[32m[I 2022-01-22 20:31:11,791]\u001b[0m Trial 439 finished with value: 5702888557.6269045 and parameters: {'num_leaves': 24, 'max_depth': 29, 'learning_rate': 2.2613435964693864, 'n_estimators': 53, 'min_split_gain': 0.012417615936594227, 'min_child_samples': 10, 'reg_alpha': 0.3977686106895605, 'reg_lambda': 0.3734206062173161}. Best is trial 153 with value: 0.04681221426654529.\u001b[0m\n"
     ]
    },
    {
     "name": "stderr",
     "output_type": "stream",
     "text": [
      "\u001b[32m[I 2022-01-22 20:31:23,819]\u001b[0m Trial 440 finished with value: 0.06477410823869335 and parameters: {'num_leaves': 25, 'max_depth': 27, 'learning_rate': 0.00039346568870085585, 'n_estimators': 49, 'min_split_gain': 0.01651572160664764, 'min_child_samples': 9, 'reg_alpha': 0.37669455300038335, 'reg_lambda': 0.35014609827991555}. Best is trial 153 with value: 0.04681221426654529.\u001b[0m\n",
      "\u001b[32m[I 2022-01-22 20:31:32,403]\u001b[0m Trial 441 finished with value: 0.154483569226893 and parameters: {'num_leaves': 23, 'max_depth': 28, 'learning_rate': 0.09309405231030682, 'n_estimators': 57, 'min_split_gain': 0.015130960913007715, 'min_child_samples': 9, 'reg_alpha': 0.353070420709176, 'reg_lambda': 0.383205623221337}. Best is trial 153 with value: 0.04681221426654529.\u001b[0m\n",
      "\u001b[32m[I 2022-01-22 20:31:38,271]\u001b[0m Trial 442 finished with value: 0.16213433860038357 and parameters: {'num_leaves': 24, 'max_depth': 27, 'learning_rate': 0.3138985614896209, 'n_estimators': 60, 'min_split_gain': 0.017991837835494698, 'min_child_samples': 29, 'reg_alpha': 0.3883639654389294, 'reg_lambda': 0.3954998940447736}. Best is trial 153 with value: 0.04681221426654529.\u001b[0m\n",
      "\u001b[32m[I 2022-01-22 20:31:44,865]\u001b[0m Trial 443 finished with value: 0.1552943619976722 and parameters: {'num_leaves': 23, 'max_depth': 28, 'learning_rate': 0.1448033440343029, 'n_estimators': 51, 'min_split_gain': 0.01881816614183361, 'min_child_samples': 10, 'reg_alpha': 0.42963066965038393, 'reg_lambda': 0.31758676667394947}. Best is trial 153 with value: 0.04681221426654529.\u001b[0m\n",
      "\u001b[32m[I 2022-01-22 20:31:53,936]\u001b[0m Trial 444 finished with value: 0.15359721883689248 and parameters: {'num_leaves': 26, 'max_depth': 27, 'learning_rate': 0.07336355769319362, 'n_estimators': 55, 'min_split_gain': 0.0160931432095911, 'min_child_samples': 27, 'reg_alpha': 0.45707906874113846, 'reg_lambda': 0.4409917158222111}. Best is trial 153 with value: 0.04681221426654529.\u001b[0m\n",
      "\u001b[32m[I 2022-01-22 20:31:59,923]\u001b[0m Trial 445 finished with value: 0.14741627853875494 and parameters: {'num_leaves': 24, 'max_depth': 26, 'learning_rate': 0.23062812349338008, 'n_estimators': 59, 'min_split_gain': 0.01996671305663865, 'min_child_samples': 26, 'reg_alpha': 0.40012002784896794, 'reg_lambda': 0.40862894030393127}. Best is trial 153 with value: 0.04681221426654529.\u001b[0m\n",
      "\u001b[32m[I 2022-01-22 20:32:06,642]\u001b[0m Trial 446 finished with value: 0.15608731803428816 and parameters: {'num_leaves': 23, 'max_depth': 28, 'learning_rate': 0.15143645910363862, 'n_estimators': 54, 'min_split_gain': 0.013056681976323424, 'min_child_samples': 28, 'reg_alpha': 0.4193784464868042, 'reg_lambda': 0.3660117795111293}. Best is trial 153 with value: 0.04681221426654529.\u001b[0m\n",
      "\u001b[32m[I 2022-01-22 20:32:16,572]\u001b[0m Trial 447 finished with value: 0.1521609023836479 and parameters: {'num_leaves': 26, 'max_depth': 23, 'learning_rate': 0.06452460066743751, 'n_estimators': 58, 'min_split_gain': 0.0211788056434477, 'min_child_samples': 9, 'reg_alpha': 0.46023138818482107, 'reg_lambda': 0.2559953391342946}. Best is trial 153 with value: 0.04681221426654529.\u001b[0m\n",
      "\u001b[32m[I 2022-01-22 20:32:26,342]\u001b[0m Trial 448 finished with value: 0.1540668924900449 and parameters: {'num_leaves': 11, 'max_depth': 24, 'learning_rate': 0.06834897543047369, 'n_estimators': 56, 'min_split_gain': 0.016620558576761434, 'min_child_samples': 25, 'reg_alpha': 0.3636128152017847, 'reg_lambda': 0.2330400394213696}. Best is trial 153 with value: 0.04681221426654529.\u001b[0m\n",
      "\u001b[32m[I 2022-01-22 20:32:37,987]\u001b[0m Trial 449 finished with value: 0.06353722803318103 and parameters: {'num_leaves': 25, 'max_depth': 7, 'learning_rate': 0.0005672686780119453, 'n_estimators': 61, 'min_split_gain': 0.01911535170132719, 'min_child_samples': 10, 'reg_alpha': 0.49745647292776424, 'reg_lambda': 0.34555453855758483}. Best is trial 153 with value: 0.04681221426654529.\u001b[0m\n",
      "\u001b[32m[I 2022-01-22 20:32:44,741]\u001b[0m Trial 450 finished with value: 0.15436718231427674 and parameters: {'num_leaves': 27, 'max_depth': 29, 'learning_rate': 0.15296322598302525, 'n_estimators': 53, 'min_split_gain': 0.02260927538220455, 'min_child_samples': 9, 'reg_alpha': 0.4397753111255474, 'reg_lambda': 0.3280452902560436}. Best is trial 153 with value: 0.04681221426654529.\u001b[0m\n",
      "\u001b[32m[I 2022-01-22 20:32:50,457]\u001b[0m Trial 451 finished with value: 0.14482014582991848 and parameters: {'num_leaves': 24, 'max_depth': -1, 'learning_rate': 0.25425741432822746, 'n_estimators': 62, 'min_split_gain': 0.017799802488491168, 'min_child_samples': 10, 'reg_alpha': 0.48158210193885326, 'reg_lambda': 0.2732188637832353}. Best is trial 153 with value: 0.04681221426654529.\u001b[0m\n",
      "\u001b[32m[I 2022-01-22 20:32:56,228]\u001b[0m Trial 452 finished with value: 0.07513656035769423 and parameters: {'num_leaves': 2, 'max_depth': 27, 'learning_rate': 0.06970613517251713, 'n_estimators': 58, 'min_split_gain': 0.027797978698940476, 'min_child_samples': 23, 'reg_alpha': 0.5185939202222052, 'reg_lambda': 0.3617255047204042}. Best is trial 153 with value: 0.04681221426654529.\u001b[0m\n",
      "\u001b[32m[I 2022-01-22 20:33:03,481]\u001b[0m Trial 453 finished with value: 0.15207888583940443 and parameters: {'num_leaves': 25, 'max_depth': 26, 'learning_rate': 0.1320779240163048, 'n_estimators': 56, 'min_split_gain': 0.020436561025452524, 'min_child_samples': 9, 'reg_alpha': 0.41606796972152443, 'reg_lambda': 0.3824680537302816}. Best is trial 153 with value: 0.04681221426654529.\u001b[0m\n",
      "\u001b[32m[I 2022-01-22 20:33:17,088]\u001b[0m Trial 454 finished with value: 0.0549582305749591 and parameters: {'num_leaves': 23, 'max_depth': 25, 'learning_rate': 0.005756368685842755, 'n_estimators': 60, 'min_split_gain': 0.014045966033857903, 'min_child_samples': 8, 'reg_alpha': 0.37633628656798584, 'reg_lambda': 0.48973916811530305}. Best is trial 153 with value: 0.04681221426654529.\u001b[0m\n",
      "\u001b[32m[I 2022-01-22 20:33:30,481]\u001b[0m Trial 455 finished with value: 0.05468856999691309 and parameters: {'num_leaves': 23, 'max_depth': 24, 'learning_rate': 0.004657655733067622, 'n_estimators': 64, 'min_split_gain': 0.010237188790006499, 'min_child_samples': 25, 'reg_alpha': 0.334006740269989, 'reg_lambda': 0.51027753710879}. Best is trial 153 with value: 0.04681221426654529.\u001b[0m\n",
      "\u001b[32m[I 2022-01-22 20:33:37,492]\u001b[0m Trial 456 finished with value: 0.1585657353023703 and parameters: {'num_leaves': 23, 'max_depth': 23, 'learning_rate': 0.19983932308860508, 'n_estimators': 63, 'min_split_gain': 0.011880245080265712, 'min_child_samples': 26, 'reg_alpha': 0.3241168943094587, 'reg_lambda': 0.4919915510140511}. Best is trial 153 with value: 0.04681221426654529.\u001b[0m\n",
      "\u001b[32m[I 2022-01-22 20:33:49,443]\u001b[0m Trial 457 finished with value: 0.056175350584714616 and parameters: {'num_leaves': 23, 'max_depth': 24, 'learning_rate': 0.006484440341729749, 'n_estimators': 65, 'min_split_gain': 0.010278136438304967, 'min_child_samples': 25, 'reg_alpha': 0.36992983577854766, 'reg_lambda': 0.5320569012066654}. Best is trial 153 with value: 0.04681221426654529.\u001b[0m\n",
      "\u001b[32m[I 2022-01-22 20:33:58,804]\u001b[0m Trial 458 finished with value: 0.15303216843992826 and parameters: {'num_leaves': 28, 'max_depth': 23, 'learning_rate': 0.07369658134194522, 'n_estimators': 67, 'min_split_gain': 0.015322332727838284, 'min_child_samples': 24, 'reg_alpha': 0.338962887617543, 'reg_lambda': 0.4429014711418015}. Best is trial 153 with value: 0.04681221426654529.\u001b[0m\n",
      "\u001b[32m[I 2022-01-22 20:34:13,427]\u001b[0m Trial 459 finished with value: 0.05512286551618329 and parameters: {'num_leaves': 23, 'max_depth': 24, 'learning_rate': 0.005520211164619132, 'n_estimators': 65, 'min_split_gain': 0.008777642278874037, 'min_child_samples': 25, 'reg_alpha': 0.3718880723772887, 'reg_lambda': 0.5016053931969843}. Best is trial 153 with value: 0.04681221426654529.\u001b[0m\n",
      "\u001b[32m[I 2022-01-22 20:34:21,438]\u001b[0m Trial 460 finished with value: 0.15662769424101208 and parameters: {'num_leaves': 23, 'max_depth': 24, 'learning_rate': 0.12789110489646466, 'n_estimators': 64, 'min_split_gain': 0.010002326115697874, 'min_child_samples': 26, 'reg_alpha': 0.3296995706669885, 'reg_lambda': 0.5150244369456253}. Best is trial 153 with value: 0.04681221426654529.\u001b[0m\n",
      "\u001b[32m[I 2022-01-22 20:34:31,017]\u001b[0m Trial 461 finished with value: 0.15357915482507414 and parameters: {'num_leaves': 24, 'max_depth': 24, 'learning_rate': 0.06906315858242001, 'n_estimators': 66, 'min_split_gain': 0.005898148722525329, 'min_child_samples': 25, 'reg_alpha': 0.3928319325897357, 'reg_lambda': 0.4825573493303754}. Best is trial 153 with value: 0.04681221426654529.\u001b[0m\n"
     ]
    },
    {
     "name": "stderr",
     "output_type": "stream",
     "text": [
      "\u001b[32m[I 2022-01-22 20:34:37,821]\u001b[0m Trial 462 finished with value: 0.15754336135040847 and parameters: {'num_leaves': 23, 'max_depth': 25, 'learning_rate': 0.20313110613622104, 'n_estimators': 65, 'min_split_gain': 0.011394032445989232, 'min_child_samples': 25, 'reg_alpha': 0.30957555708697626, 'reg_lambda': 0.48836322693820655}. Best is trial 153 with value: 0.04681221426654529.\u001b[0m\n",
      "\u001b[32m[I 2022-01-22 20:34:49,733]\u001b[0m Trial 463 finished with value: 0.055269792666547385 and parameters: {'num_leaves': 23, 'max_depth': 25, 'learning_rate': 0.005466599538391236, 'n_estimators': 68, 'min_split_gain': 0.010942047515443445, 'min_child_samples': 24, 'reg_alpha': 0.3552495696694188, 'reg_lambda': 0.4991341834572396}. Best is trial 153 with value: 0.04681221426654529.\u001b[0m\n",
      "\u001b[32m[I 2022-01-22 20:35:04,722]\u001b[0m Trial 464 finished with value: 0.05782442523687921 and parameters: {'num_leaves': 23, 'max_depth': 25, 'learning_rate': 0.007030141296773276, 'n_estimators': 69, 'min_split_gain': 0.007440788452666664, 'min_child_samples': 24, 'reg_alpha': 0.35843041102233464, 'reg_lambda': 0.5043523845028097}. Best is trial 153 with value: 0.04681221426654529.\u001b[0m\n",
      "\u001b[32m[I 2022-01-22 20:35:17,394]\u001b[0m Trial 465 finished with value: 0.057402881941511996 and parameters: {'num_leaves': 24, 'max_depth': 24, 'learning_rate': 0.0020814603694169886, 'n_estimators': 68, 'min_split_gain': 0.009018571788645622, 'min_child_samples': 23, 'reg_alpha': 0.3351950968496467, 'reg_lambda': 0.5290430352792702}. Best is trial 153 with value: 0.04681221426654529.\u001b[0m\n",
      "\u001b[32m[I 2022-01-22 20:35:25,734]\u001b[0m Trial 466 finished with value: 0.15572659619988743 and parameters: {'num_leaves': 14, 'max_depth': 25, 'learning_rate': 0.12891930662060191, 'n_estimators': 72, 'min_split_gain': 0.008745814819265053, 'min_child_samples': 24, 'reg_alpha': 0.3461049414032977, 'reg_lambda': 0.464078865851913}. Best is trial 153 with value: 0.04681221426654529.\u001b[0m\n",
      "\u001b[32m[I 2022-01-22 20:35:30,491]\u001b[0m Trial 467 finished with value: 0.060257074520652765 and parameters: {'num_leaves': 2, 'max_depth': 25, 'learning_rate': 0.0012982431572292038, 'n_estimators': 67, 'min_split_gain': 0.003067848352110836, 'min_child_samples': 24, 'reg_alpha': 0.37297066970988374, 'reg_lambda': 0.5064690676399272}. Best is trial 153 with value: 0.04681221426654529.\u001b[0m\n",
      "\u001b[32m[I 2022-01-22 20:35:35,662]\u001b[0m Trial 468 finished with value: 0.18425707521134885 and parameters: {'num_leaves': 3, 'max_depth': 24, 'learning_rate': 1.1225941994562243, 'n_estimators': 65, 'min_split_gain': 0.007990313756350297, 'min_child_samples': 25, 'reg_alpha': 0.3879411547281632, 'reg_lambda': 0.5472635117598195}. Best is trial 153 with value: 0.04681221426654529.\u001b[0m\n",
      "\u001b[32m[I 2022-01-22 20:35:47,786]\u001b[0m Trial 469 finished with value: 0.06389309083152246 and parameters: {'num_leaves': 23, 'max_depth': 25, 'learning_rate': 0.0004346272826954295, 'n_estimators': 69, 'min_split_gain': 0.009778579531076213, 'min_child_samples': 25, 'reg_alpha': 0.35554878433800297, 'reg_lambda': 0.4941397598260507}. Best is trial 153 with value: 0.04681221426654529.\u001b[0m\n",
      "\u001b[32m[I 2022-01-22 20:35:59,847]\u001b[0m Trial 470 finished with value: 0.06547817798453219 and parameters: {'num_leaves': 24, 'max_depth': 24, 'learning_rate': 0.00017711335137571976, 'n_estimators': 63, 'min_split_gain': 0.0052592117827813915, 'min_child_samples': 23, 'reg_alpha': 0.35983063384307795, 'reg_lambda': 0.4721704484187773}. Best is trial 153 with value: 0.04681221426654529.\u001b[0m\n",
      "\u001b[32m[I 2022-01-22 20:36:05,713]\u001b[0m Trial 471 finished with value: 0.15568832623907009 and parameters: {'num_leaves': 25, 'max_depth': 25, 'learning_rate': 0.3473373762669164, 'n_estimators': 71, 'min_split_gain': 0.011436443050084715, 'min_child_samples': 22, 'reg_alpha': 0.3765090088327003, 'reg_lambda': 0.5167057879782113}. Best is trial 153 with value: 0.04681221426654529.\u001b[0m\n",
      "\u001b[32m[I 2022-01-22 20:36:14,476]\u001b[0m Trial 472 finished with value: 0.15531436581440128 and parameters: {'num_leaves': 23, 'max_depth': 24, 'learning_rate': 0.1268835245638558, 'n_estimators': 66, 'min_split_gain': 0.00609506283136208, 'min_child_samples': 25, 'reg_alpha': 0.34046810637063896, 'reg_lambda': 0.48775379813567465}. Best is trial 153 with value: 0.04681221426654529.\u001b[0m\n",
      "\u001b[32m[I 2022-01-22 20:36:26,660]\u001b[0m Trial 473 finished with value: 0.06345878532678927 and parameters: {'num_leaves': 24, 'max_depth': 23, 'learning_rate': 0.0005728846759101127, 'n_estimators': 62, 'min_split_gain': 0.013111352714057826, 'min_child_samples': 24, 'reg_alpha': 0.3756998671337096, 'reg_lambda': 0.5315363955663063}. Best is trial 153 with value: 0.04681221426654529.\u001b[0m\n",
      "\u001b[32m[I 2022-01-22 20:36:32,572]\u001b[0m Trial 474 finished with value: 0.1485978157902265 and parameters: {'num_leaves': 26, 'max_depth': 26, 'learning_rate': 0.2662411240096718, 'n_estimators': 64, 'min_split_gain': 0.01257680153727377, 'min_child_samples': 24, 'reg_alpha': 0.38274988132218046, 'reg_lambda': 0.5162593301426195}. Best is trial 153 with value: 0.04681221426654529.\u001b[0m\n",
      "\u001b[32m[I 2022-01-22 20:36:41,708]\u001b[0m Trial 475 finished with value: 0.15506198882506717 and parameters: {'num_leaves': 24, 'max_depth': 24, 'learning_rate': 0.07961751179787564, 'n_estimators': 61, 'min_split_gain': 0.0070699066155450584, 'min_child_samples': 25, 'reg_alpha': 0.3513145525765231, 'reg_lambda': 0.45758528613468147}. Best is trial 153 with value: 0.04681221426654529.\u001b[0m\n",
      "\u001b[32m[I 2022-01-22 20:36:47,625]\u001b[0m Trial 476 finished with value: 0.15175848870718445 and parameters: {'num_leaves': 4, 'max_depth': 25, 'learning_rate': 0.19296983227091796, 'n_estimators': 73, 'min_split_gain': 0.010066223604151114, 'min_child_samples': 23, 'reg_alpha': 0.3128091405786428, 'reg_lambda': 0.4904754037182903}. Best is trial 153 with value: 0.04681221426654529.\u001b[0m\n",
      "\u001b[32m[I 2022-01-22 20:36:57,296]\u001b[0m Trial 477 finished with value: 0.15568555395069356 and parameters: {'num_leaves': 23, 'max_depth': 30, 'learning_rate': 0.0831786052948907, 'n_estimators': 68, 'min_split_gain': 0.01362098759398439, 'min_child_samples': 4, 'reg_alpha': 0.3936175790285463, 'reg_lambda': 0.50457360426102}. Best is trial 153 with value: 0.04681221426654529.\u001b[0m\n",
      "\u001b[32m[I 2022-01-22 20:37:06,147]\u001b[0m Trial 478 finished with value: 0.15513347800654567 and parameters: {'num_leaves': 23, 'max_depth': 26, 'learning_rate': 0.080894150684098, 'n_estimators': 65, 'min_split_gain': 0.008596926990023698, 'min_child_samples': 24, 'reg_alpha': 0.3589253902777553, 'reg_lambda': 0.5602074158272357}. Best is trial 153 with value: 0.04681221426654529.\u001b[0m\n",
      "\u001b[32m[I 2022-01-22 20:37:16,666]\u001b[0m Trial 479 finished with value: 6.226418634901517e+36 and parameters: {'num_leaves': 7, 'max_depth': 23, 'learning_rate': 2.856859932997643, 'n_estimators': 70, 'min_split_gain': 0.013762432039199418, 'min_child_samples': 24, 'reg_alpha': 0.39931566672820407, 'reg_lambda': 0.40412787879632805}. Best is trial 153 with value: 0.04681221426654529.\u001b[0m\n",
      "\u001b[32m[I 2022-01-22 20:37:23,709]\u001b[0m Trial 480 finished with value: 0.15727096588139783 and parameters: {'num_leaves': 25, 'max_depth': 25, 'learning_rate': 0.17330513934916705, 'n_estimators': 61, 'min_split_gain': 0.011607418857006856, 'min_child_samples': 25, 'reg_alpha': 0.37441689810450346, 'reg_lambda': 0.4719134084763347}. Best is trial 153 with value: 0.04681221426654529.\u001b[0m\n",
      "\u001b[32m[I 2022-01-22 20:37:36,682]\u001b[0m Trial 481 finished with value: 0.056124134521548824 and parameters: {'num_leaves': 24, 'max_depth': 18, 'learning_rate': 0.002690815462627312, 'n_estimators': 67, 'min_split_gain': 0.009674787253380838, 'min_child_samples': 16, 'reg_alpha': 0.3299001544696569, 'reg_lambda': 0.5328173748005359}. Best is trial 153 with value: 0.04681221426654529.\u001b[0m\n",
      "\u001b[32m[I 2022-01-22 20:37:46,675]\u001b[0m Trial 482 finished with value: 0.15391908208120095 and parameters: {'num_leaves': 26, 'max_depth': 26, 'learning_rate': 0.07887030729177177, 'n_estimators': 63, 'min_split_gain': 0.007573737378283821, 'min_child_samples': 8, 'reg_alpha': 0.40869940833207813, 'reg_lambda': 0.499726767722811}. Best is trial 153 with value: 0.04681221426654529.\u001b[0m\n",
      "\u001b[32m[I 2022-01-22 20:37:55,346]\u001b[0m Trial 483 finished with value: 0.1544367121160177 and parameters: {'num_leaves': 25, 'max_depth': 24, 'learning_rate': 0.14421357527251247, 'n_estimators': 66, 'min_split_gain': 0.014018726686517297, 'min_child_samples': 19, 'reg_alpha': 0.36673339225688584, 'reg_lambda': 0.5131606934556477}. Best is trial 153 with value: 0.04681221426654529.\u001b[0m\n"
     ]
    },
    {
     "name": "stderr",
     "output_type": "stream",
     "text": [
      "\u001b[32m[I 2022-01-22 20:38:05,124]\u001b[0m Trial 484 finished with value: 0.1540664659758028 and parameters: {'num_leaves': 9, 'max_depth': 13, 'learning_rate': 0.05990613532860598, 'n_estimators': 77, 'min_split_gain': 0.014711032198973403, 'min_child_samples': 25, 'reg_alpha': 0.40186689099955675, 'reg_lambda': 0.4794604607827426}. Best is trial 153 with value: 0.04681221426654529.\u001b[0m\n",
      "\u001b[32m[I 2022-01-22 20:38:11,517]\u001b[0m Trial 485 finished with value: 0.1583044415923947 and parameters: {'num_leaves': 24, 'max_depth': 14, 'learning_rate': 0.22796660248175155, 'n_estimators': 61, 'min_split_gain': 0.012803282796720735, 'min_child_samples': 8, 'reg_alpha': 0.2877202411734592, 'reg_lambda': 0.4637226499366529}. Best is trial 153 with value: 0.04681221426654529.\u001b[0m\n",
      "\u001b[32m[I 2022-01-22 20:38:17,151]\u001b[0m Trial 486 finished with value: 0.13984520470647147 and parameters: {'num_leaves': 3, 'max_depth': 25, 'learning_rate': 0.13875713996518926, 'n_estimators': 64, 'min_split_gain': 0.016291883046716985, 'min_child_samples': 24, 'reg_alpha': 0.342830076879585, 'reg_lambda': 0.4265703852156666}. Best is trial 153 with value: 0.04681221426654529.\u001b[0m\n",
      "\u001b[32m[I 2022-01-22 20:38:20,866]\u001b[0m Trial 487 finished with value: 0.0612246652081223 and parameters: {'num_leaves': 2, 'max_depth': 23, 'learning_rate': 0.0071500266955678935, 'n_estimators': 10, 'min_split_gain': 0.010518176802348457, 'min_child_samples': 7, 'reg_alpha': 0.2673709159406665, 'reg_lambda': 0.5141737267396853}. Best is trial 153 with value: 0.04681221426654529.\u001b[0m\n",
      "\u001b[32m[I 2022-01-22 20:38:33,397]\u001b[0m Trial 488 finished with value: 0.054738291654600695 and parameters: {'num_leaves': 27, 'max_depth': 26, 'learning_rate': 0.005460065282333919, 'n_estimators': 59, 'min_split_gain': 0.004552783479246477, 'min_child_samples': 8, 'reg_alpha': 0.2954096110909187, 'reg_lambda': 0.5932487874939498}. Best is trial 153 with value: 0.04681221426654529.\u001b[0m\n",
      "\u001b[32m[I 2022-01-22 20:38:39,567]\u001b[0m Trial 489 finished with value: 0.15798084214955146 and parameters: {'num_leaves': 27, 'max_depth': 26, 'learning_rate': 0.2920314444272122, 'n_estimators': 60, 'min_split_gain': 0.010234429623165656, 'min_child_samples': 8, 'reg_alpha': 0.32167246152245904, 'reg_lambda': 0.5855803988701592}. Best is trial 153 with value: 0.04681221426654529.\u001b[0m\n",
      "\u001b[32m[I 2022-01-22 20:38:48,991]\u001b[0m Trial 490 finished with value: 0.1542009609683635 and parameters: {'num_leaves': 27, 'max_depth': 27, 'learning_rate': 0.07538613262444513, 'n_estimators': 59, 'min_split_gain': 0.012515000991912426, 'min_child_samples': 7, 'reg_alpha': 0.2949409152036701, 'reg_lambda': 0.6046070234277572}. Best is trial 153 with value: 0.04681221426654529.\u001b[0m\n",
      "\u001b[32m[I 2022-01-22 20:38:57,919]\u001b[0m Trial 491 finished with value: 0.16053182658063683 and parameters: {'num_leaves': 27, 'max_depth': 29, 'learning_rate': 0.18676875591685688, 'n_estimators': 61, 'min_split_gain': 0.00032932257114848176, 'min_child_samples': 8, 'reg_alpha': 0.30065798448835845, 'reg_lambda': 0.55351998687657}. Best is trial 153 with value: 0.04681221426654529.\u001b[0m\n",
      "\u001b[32m[I 2022-01-22 20:39:08,824]\u001b[0m Trial 492 finished with value: 0.1547252273758342 and parameters: {'num_leaves': 28, 'max_depth': 26, 'learning_rate': 0.07616642204191168, 'n_estimators': 62, 'min_split_gain': 0.00524361538644795, 'min_child_samples': 9, 'reg_alpha': 0.3831739496533172, 'reg_lambda': 0.5397412957125255}. Best is trial 153 with value: 0.04681221426654529.\u001b[0m\n",
      "\u001b[32m[I 2022-01-22 20:39:23,785]\u001b[0m Trial 493 finished with value: 0.05955231615836108 and parameters: {'num_leaves': 27, 'max_depth': 28, 'learning_rate': 0.0015070470412995953, 'n_estimators': 63, 'min_split_gain': 0.006527261041648731, 'min_child_samples': 7, 'reg_alpha': 0.2969026198091148, 'reg_lambda': 0.6495952531882937}. Best is trial 153 with value: 0.04681221426654529.\u001b[0m\n",
      "\u001b[32m[I 2022-01-22 20:39:39,168]\u001b[0m Trial 494 finished with value: 0.06289632569748192 and parameters: {'num_leaves': 26, 'max_depth': 27, 'learning_rate': 0.0006204591458780105, 'n_estimators': 68, 'min_split_gain': 0.0028655642388402272, 'min_child_samples': 8, 'reg_alpha': 0.2515330702900303, 'reg_lambda': 0.5748630008761993}. Best is trial 153 with value: 0.04681221426654529.\u001b[0m\n",
      "\u001b[32m[I 2022-01-22 20:39:55,116]\u001b[0m Trial 495 finished with value: 0.05884918072993069 and parameters: {'num_leaves': 29, 'max_depth': 26, 'learning_rate': 0.0014406386041097285, 'n_estimators': 74, 'min_split_gain': 0.005068079462595268, 'min_child_samples': 9, 'reg_alpha': 0.27692027800983143, 'reg_lambda': 0.49388920281729065}. Best is trial 153 with value: 0.04681221426654529.\u001b[0m\n",
      "\u001b[32m[I 2022-01-22 20:40:09,460]\u001b[0m Trial 496 finished with value: 1.0038177175868871e+43 and parameters: {'num_leaves': 25, 'max_depth': 26, 'learning_rate': 3.3258907339827912, 'n_estimators': 60, 'min_split_gain': 0.007138103321207672, 'min_child_samples': 8, 'reg_alpha': 0.32003194578178806, 'reg_lambda': 0.6399440984771978}. Best is trial 153 with value: 0.04681221426654529.\u001b[0m\n",
      "\u001b[32m[I 2022-01-22 20:40:18,307]\u001b[0m Trial 497 finished with value: 0.1541489967608989 and parameters: {'num_leaves': 26, 'max_depth': 25, 'learning_rate': 0.139824230809673, 'n_estimators': 86, 'min_split_gain': 0.0012530335241703141, 'min_child_samples': 4, 'reg_alpha': 0.3406765903214439, 'reg_lambda': 0.716085266251554}. Best is trial 153 with value: 0.04681221426654529.\u001b[0m\n",
      "\u001b[32m[I 2022-01-22 20:40:28,205]\u001b[0m Trial 498 finished with value: 0.15490515833213767 and parameters: {'num_leaves': 26, 'max_depth': 24, 'learning_rate': 0.07488487502825128, 'n_estimators': 70, 'min_split_gain': 0.008668454190466787, 'min_child_samples': 6, 'reg_alpha': 0.36511704734891026, 'reg_lambda': 0.4723998767959652}. Best is trial 153 with value: 0.04681221426654529.\u001b[0m\n",
      "\u001b[32m[I 2022-01-22 20:40:42,617]\u001b[0m Trial 499 finished with value: 0.05514403587917702 and parameters: {'num_leaves': 15, 'max_depth': 27, 'learning_rate': 0.003532562421207179, 'n_estimators': 65, 'min_split_gain': 0.0020655157389636767, 'min_child_samples': 9, 'reg_alpha': 0.3893425264270973, 'reg_lambda': 0.6354643915050724}. Best is trial 153 with value: 0.04681221426654529.\u001b[0m\n",
      "\u001b[32m[I 2022-01-22 20:40:56,963]\u001b[0m Trial 500 finished with value: 0.05728858310884271 and parameters: {'num_leaves': 18, 'max_depth': 27, 'learning_rate': 0.0022801975891208795, 'n_estimators': 64, 'min_split_gain': 0.011083365996998853, 'min_child_samples': 9, 'reg_alpha': 0.3850318870250219, 'reg_lambda': 0.6468468726186924}. Best is trial 153 with value: 0.04681221426654529.\u001b[0m\n",
      "\u001b[32m[I 2022-01-22 20:41:11,810]\u001b[0m Trial 501 finished with value: 0.05544295854713712 and parameters: {'num_leaves': 19, 'max_depth': 26, 'learning_rate': 0.0032262036748267843, 'n_estimators': 66, 'min_split_gain': 0.00022056010871414084, 'min_child_samples': 9, 'reg_alpha': 0.4145935752109894, 'reg_lambda': 0.6818019848097601}. Best is trial 153 with value: 0.04681221426654529.\u001b[0m\n",
      "\u001b[32m[I 2022-01-22 20:41:16,744]\u001b[0m Trial 502 finished with value: 0.12729883116644683 and parameters: {'num_leaves': 2, 'max_depth': 14, 'learning_rate': 0.24838639049827138, 'n_estimators': 67, 'min_split_gain': 0.0012428706737113624, 'min_child_samples': 9, 'reg_alpha': 0.4115011480961519, 'reg_lambda': 0.6649038937445214}. Best is trial 153 with value: 0.04681221426654529.\u001b[0m\n",
      "\u001b[32m[I 2022-01-22 20:41:24,578]\u001b[0m Trial 503 finished with value: 0.1565458743139053 and parameters: {'num_leaves': 19, 'max_depth': 15, 'learning_rate': 0.1413796935577143, 'n_estimators': 66, 'min_split_gain': 0.0030205856813246054, 'min_child_samples': 10, 'reg_alpha': 0.39905290486602174, 'reg_lambda': 0.6576553664949158}. Best is trial 153 with value: 0.04681221426654529.\u001b[0m\n",
      "\u001b[32m[I 2022-01-22 20:41:36,063]\u001b[0m Trial 504 finished with value: 0.15397743455171134 and parameters: {'num_leaves': 17, 'max_depth': 25, 'learning_rate': 0.07259562405368876, 'n_estimators': 66, 'min_split_gain': 0.0014981798147515038, 'min_child_samples': 8, 'reg_alpha': 0.37307009009792524, 'reg_lambda': 0.6875264495054586}. Best is trial 153 with value: 0.04681221426654529.\u001b[0m\n",
      "\u001b[32m[I 2022-01-22 20:41:44,229]\u001b[0m Trial 505 finished with value: 0.15741324947518479 and parameters: {'num_leaves': 15, 'max_depth': 23, 'learning_rate': 0.13064457799287443, 'n_estimators': 68, 'min_split_gain': 0.0031256931149376476, 'min_child_samples': 9, 'reg_alpha': 0.38855498047995757, 'reg_lambda': 0.6194424987339832}. Best is trial 153 with value: 0.04681221426654529.\u001b[0m\n"
     ]
    },
    {
     "name": "stderr",
     "output_type": "stream",
     "text": [
      "\u001b[32m[I 2022-01-22 20:42:00,177]\u001b[0m Trial 506 finished with value: 1.1151291373409179e+53 and parameters: {'num_leaves': 19, 'max_depth': 26, 'learning_rate': 3.6037858742363262, 'n_estimators': 65, 'min_split_gain': 0.0037860317886989087, 'min_child_samples': 10, 'reg_alpha': 0.3501115236570609, 'reg_lambda': 0.5934154928410996}. Best is trial 153 with value: 0.04681221426654529.\u001b[0m\n",
      "\u001b[32m[I 2022-01-22 20:42:12,420]\u001b[0m Trial 507 finished with value: 0.15337704418166107 and parameters: {'num_leaves': 17, 'max_depth': 27, 'learning_rate': 0.06926335334133481, 'n_estimators': 72, 'min_split_gain': 0.0003122159603803076, 'min_child_samples': 9, 'reg_alpha': 0.41749177137679494, 'reg_lambda': 0.7024407082664166}. Best is trial 153 with value: 0.04681221426654529.\u001b[0m\n",
      "\u001b[32m[I 2022-01-22 20:42:26,249]\u001b[0m Trial 508 finished with value: 0.054872146152892674 and parameters: {'num_leaves': 19, 'max_depth': 24, 'learning_rate': 0.004770055499519258, 'n_estimators': 70, 'min_split_gain': 0.00303028515522064, 'min_child_samples': 8, 'reg_alpha': 0.3667242730864377, 'reg_lambda': 0.7182203343383228}. Best is trial 153 with value: 0.04681221426654529.\u001b[0m\n",
      "\u001b[32m[I 2022-01-22 20:42:34,840]\u001b[0m Trial 509 finished with value: 0.15553528267902145 and parameters: {'num_leaves': 16, 'max_depth': 24, 'learning_rate': 0.1996731927679799, 'n_estimators': 70, 'min_split_gain': 0.0003093734441793301, 'min_child_samples': 8, 'reg_alpha': 0.35390516458019544, 'reg_lambda': 0.677607582784373}. Best is trial 153 with value: 0.04681221426654529.\u001b[0m\n",
      "\u001b[32m[I 2022-01-22 20:42:40,991]\u001b[0m Trial 510 finished with value: 0.1550091604614632 and parameters: {'num_leaves': 19, 'max_depth': 24, 'learning_rate': 0.5815722685874871, 'n_estimators': 71, 'min_split_gain': 0.003365916402694245, 'min_child_samples': 7, 'reg_alpha': 0.3674712388421509, 'reg_lambda': 0.7408581298882455}. Best is trial 153 with value: 0.04681221426654529.\u001b[0m\n"
     ]
    },
    {
     "ename": "KeyboardInterrupt",
     "evalue": "",
     "output_type": "error",
     "traceback": [
      "\u001b[1;31m---------------------------------------------------------------------------\u001b[0m",
      "\u001b[1;31mKeyboardInterrupt\u001b[0m                         Traceback (most recent call last)",
      "\u001b[1;32m~\\AppData\\Local\\Temp/ipykernel_6248/1600513838.py\u001b[0m in \u001b[0;36m<module>\u001b[1;34m\u001b[0m\n\u001b[0;32m     29\u001b[0m \u001b[1;33m\u001b[0m\u001b[0m\n\u001b[0;32m     30\u001b[0m \u001b[0mstudy\u001b[0m \u001b[1;33m=\u001b[0m \u001b[0moptuna\u001b[0m\u001b[1;33m.\u001b[0m\u001b[0mcreate_study\u001b[0m\u001b[1;33m(\u001b[0m\u001b[0mdirection\u001b[0m \u001b[1;33m=\u001b[0m \u001b[1;34m'minimize'\u001b[0m \u001b[1;33m)\u001b[0m\u001b[1;33m\u001b[0m\u001b[1;33m\u001b[0m\u001b[0m\n\u001b[1;32m---> 31\u001b[1;33m \u001b[0mstudy\u001b[0m\u001b[1;33m.\u001b[0m\u001b[0moptimize\u001b[0m\u001b[1;33m(\u001b[0m\u001b[0mobjective\u001b[0m\u001b[1;33m,\u001b[0m \u001b[0mn_trials\u001b[0m\u001b[1;33m=\u001b[0m\u001b[1;36m1000\u001b[0m\u001b[1;33m)\u001b[0m\u001b[1;33m\u001b[0m\u001b[1;33m\u001b[0m\u001b[0m\n\u001b[0m\u001b[0;32m     32\u001b[0m \u001b[1;33m\u001b[0m\u001b[0m\n\u001b[0;32m     33\u001b[0m \u001b[0mget_ipython\u001b[0m\u001b[1;33m(\u001b[0m\u001b[1;33m)\u001b[0m\u001b[1;33m.\u001b[0m\u001b[0msystem\u001b[0m\u001b[1;33m(\u001b[0m\u001b[1;34m'telegram-send \"Job\\'s_Done\"'\u001b[0m\u001b[1;33m)\u001b[0m\u001b[1;33m\u001b[0m\u001b[1;33m\u001b[0m\u001b[0m\n",
      "\u001b[1;32mC:\\ProgramData\\Anaconda3\\lib\\site-packages\\optuna\\study.py\u001b[0m in \u001b[0;36moptimize\u001b[1;34m(self, func, n_trials, timeout, n_jobs, catch, callbacks, gc_after_trial, show_progress_bar)\u001b[0m\n\u001b[0;32m    399\u001b[0m             )\n\u001b[0;32m    400\u001b[0m \u001b[1;33m\u001b[0m\u001b[0m\n\u001b[1;32m--> 401\u001b[1;33m         _optimize(\n\u001b[0m\u001b[0;32m    402\u001b[0m             \u001b[0mstudy\u001b[0m\u001b[1;33m=\u001b[0m\u001b[0mself\u001b[0m\u001b[1;33m,\u001b[0m\u001b[1;33m\u001b[0m\u001b[1;33m\u001b[0m\u001b[0m\n\u001b[0;32m    403\u001b[0m             \u001b[0mfunc\u001b[0m\u001b[1;33m=\u001b[0m\u001b[0mfunc\u001b[0m\u001b[1;33m,\u001b[0m\u001b[1;33m\u001b[0m\u001b[1;33m\u001b[0m\u001b[0m\n",
      "\u001b[1;32mC:\\ProgramData\\Anaconda3\\lib\\site-packages\\optuna\\_optimize.py\u001b[0m in \u001b[0;36m_optimize\u001b[1;34m(study, func, n_trials, timeout, n_jobs, catch, callbacks, gc_after_trial, show_progress_bar)\u001b[0m\n\u001b[0;32m     63\u001b[0m     \u001b[1;32mtry\u001b[0m\u001b[1;33m:\u001b[0m\u001b[1;33m\u001b[0m\u001b[1;33m\u001b[0m\u001b[0m\n\u001b[0;32m     64\u001b[0m         \u001b[1;32mif\u001b[0m \u001b[0mn_jobs\u001b[0m \u001b[1;33m==\u001b[0m \u001b[1;36m1\u001b[0m\u001b[1;33m:\u001b[0m\u001b[1;33m\u001b[0m\u001b[1;33m\u001b[0m\u001b[0m\n\u001b[1;32m---> 65\u001b[1;33m             _optimize_sequential(\n\u001b[0m\u001b[0;32m     66\u001b[0m                 \u001b[0mstudy\u001b[0m\u001b[1;33m,\u001b[0m\u001b[1;33m\u001b[0m\u001b[1;33m\u001b[0m\u001b[0m\n\u001b[0;32m     67\u001b[0m                 \u001b[0mfunc\u001b[0m\u001b[1;33m,\u001b[0m\u001b[1;33m\u001b[0m\u001b[1;33m\u001b[0m\u001b[0m\n",
      "\u001b[1;32mC:\\ProgramData\\Anaconda3\\lib\\site-packages\\optuna\\_optimize.py\u001b[0m in \u001b[0;36m_optimize_sequential\u001b[1;34m(study, func, n_trials, timeout, catch, callbacks, gc_after_trial, reseed_sampler_rng, time_start, progress_bar)\u001b[0m\n\u001b[0;32m    160\u001b[0m \u001b[1;33m\u001b[0m\u001b[0m\n\u001b[0;32m    161\u001b[0m         \u001b[1;32mtry\u001b[0m\u001b[1;33m:\u001b[0m\u001b[1;33m\u001b[0m\u001b[1;33m\u001b[0m\u001b[0m\n\u001b[1;32m--> 162\u001b[1;33m             \u001b[0mtrial\u001b[0m \u001b[1;33m=\u001b[0m \u001b[0m_run_trial\u001b[0m\u001b[1;33m(\u001b[0m\u001b[0mstudy\u001b[0m\u001b[1;33m,\u001b[0m \u001b[0mfunc\u001b[0m\u001b[1;33m,\u001b[0m \u001b[0mcatch\u001b[0m\u001b[1;33m)\u001b[0m\u001b[1;33m\u001b[0m\u001b[1;33m\u001b[0m\u001b[0m\n\u001b[0m\u001b[0;32m    163\u001b[0m         \u001b[1;32mexcept\u001b[0m \u001b[0mException\u001b[0m\u001b[1;33m:\u001b[0m\u001b[1;33m\u001b[0m\u001b[1;33m\u001b[0m\u001b[0m\n\u001b[0;32m    164\u001b[0m             \u001b[1;32mraise\u001b[0m\u001b[1;33m\u001b[0m\u001b[1;33m\u001b[0m\u001b[0m\n",
      "\u001b[1;32mC:\\ProgramData\\Anaconda3\\lib\\site-packages\\optuna\\_optimize.py\u001b[0m in \u001b[0;36m_run_trial\u001b[1;34m(study, func, catch)\u001b[0m\n\u001b[0;32m    214\u001b[0m \u001b[1;33m\u001b[0m\u001b[0m\n\u001b[0;32m    215\u001b[0m     \u001b[1;32mtry\u001b[0m\u001b[1;33m:\u001b[0m\u001b[1;33m\u001b[0m\u001b[1;33m\u001b[0m\u001b[0m\n\u001b[1;32m--> 216\u001b[1;33m         \u001b[0mvalue_or_values\u001b[0m \u001b[1;33m=\u001b[0m \u001b[0mfunc\u001b[0m\u001b[1;33m(\u001b[0m\u001b[0mtrial\u001b[0m\u001b[1;33m)\u001b[0m\u001b[1;33m\u001b[0m\u001b[1;33m\u001b[0m\u001b[0m\n\u001b[0m\u001b[0;32m    217\u001b[0m     \u001b[1;32mexcept\u001b[0m \u001b[0mexceptions\u001b[0m\u001b[1;33m.\u001b[0m\u001b[0mTrialPruned\u001b[0m \u001b[1;32mas\u001b[0m \u001b[0me\u001b[0m\u001b[1;33m:\u001b[0m\u001b[1;33m\u001b[0m\u001b[1;33m\u001b[0m\u001b[0m\n\u001b[0;32m    218\u001b[0m         \u001b[1;31m# TODO(mamu): Handle multi-objective cases.\u001b[0m\u001b[1;33m\u001b[0m\u001b[1;33m\u001b[0m\u001b[1;33m\u001b[0m\u001b[0m\n",
      "\u001b[1;32m~\\AppData\\Local\\Temp/ipykernel_6248/1600513838.py\u001b[0m in \u001b[0;36mobjective\u001b[1;34m(trial)\u001b[0m\n\u001b[0;32m     24\u001b[0m                                 reg_alpha=reg_alpha, reg_lambda =reg_lambda  )\n\u001b[0;32m     25\u001b[0m \u001b[1;33m\u001b[0m\u001b[0m\n\u001b[1;32m---> 26\u001b[1;33m     \u001b[0mlgb_reg\u001b[0m\u001b[1;33m.\u001b[0m\u001b[0mfit\u001b[0m\u001b[1;33m(\u001b[0m\u001b[0mX_train\u001b[0m\u001b[1;33m,\u001b[0m\u001b[0my_train\u001b[0m\u001b[1;33m)\u001b[0m\u001b[1;33m\u001b[0m\u001b[1;33m\u001b[0m\u001b[0m\n\u001b[0m\u001b[0;32m     27\u001b[0m     \u001b[0my_pred\u001b[0m \u001b[1;33m=\u001b[0m \u001b[0mlgb_reg\u001b[0m\u001b[1;33m.\u001b[0m\u001b[0mpredict\u001b[0m\u001b[1;33m(\u001b[0m\u001b[0mX_test\u001b[0m\u001b[1;33m)\u001b[0m\u001b[1;33m\u001b[0m\u001b[1;33m\u001b[0m\u001b[0m\n\u001b[0;32m     28\u001b[0m     \u001b[1;32mreturn\u001b[0m \u001b[0mmean_squared_error\u001b[0m\u001b[1;33m(\u001b[0m\u001b[0my_test\u001b[0m\u001b[1;33m,\u001b[0m\u001b[0my_pred\u001b[0m\u001b[1;33m)\u001b[0m\u001b[1;33m\u001b[0m\u001b[1;33m\u001b[0m\u001b[0m\n",
      "\u001b[1;32mC:\\ProgramData\\Anaconda3\\lib\\site-packages\\lightgbm\\sklearn.py\u001b[0m in \u001b[0;36mfit\u001b[1;34m(self, X, y, sample_weight, init_score, eval_set, eval_names, eval_sample_weight, eval_init_score, eval_metric, early_stopping_rounds, verbose, feature_name, categorical_feature, callbacks, init_model)\u001b[0m\n\u001b[0;32m    816\u001b[0m             callbacks=None, init_model=None):\n\u001b[0;32m    817\u001b[0m         \u001b[1;34m\"\"\"Docstring is inherited from the LGBMModel.\"\"\"\u001b[0m\u001b[1;33m\u001b[0m\u001b[1;33m\u001b[0m\u001b[0m\n\u001b[1;32m--> 818\u001b[1;33m         super().fit(X, y, sample_weight=sample_weight, init_score=init_score,\n\u001b[0m\u001b[0;32m    819\u001b[0m                     \u001b[0meval_set\u001b[0m\u001b[1;33m=\u001b[0m\u001b[0meval_set\u001b[0m\u001b[1;33m,\u001b[0m \u001b[0meval_names\u001b[0m\u001b[1;33m=\u001b[0m\u001b[0meval_names\u001b[0m\u001b[1;33m,\u001b[0m \u001b[0meval_sample_weight\u001b[0m\u001b[1;33m=\u001b[0m\u001b[0meval_sample_weight\u001b[0m\u001b[1;33m,\u001b[0m\u001b[1;33m\u001b[0m\u001b[1;33m\u001b[0m\u001b[0m\n\u001b[0;32m    820\u001b[0m                     \u001b[0meval_init_score\u001b[0m\u001b[1;33m=\u001b[0m\u001b[0meval_init_score\u001b[0m\u001b[1;33m,\u001b[0m \u001b[0meval_metric\u001b[0m\u001b[1;33m=\u001b[0m\u001b[0meval_metric\u001b[0m\u001b[1;33m,\u001b[0m\u001b[1;33m\u001b[0m\u001b[1;33m\u001b[0m\u001b[0m\n",
      "\u001b[1;32mC:\\ProgramData\\Anaconda3\\lib\\site-packages\\lightgbm\\sklearn.py\u001b[0m in \u001b[0;36mfit\u001b[1;34m(self, X, y, sample_weight, init_score, group, eval_set, eval_names, eval_sample_weight, eval_class_weight, eval_init_score, eval_group, eval_metric, early_stopping_rounds, verbose, feature_name, categorical_feature, callbacks, init_model)\u001b[0m\n\u001b[0;32m    681\u001b[0m             \u001b[0minit_model\u001b[0m \u001b[1;33m=\u001b[0m \u001b[0minit_model\u001b[0m\u001b[1;33m.\u001b[0m\u001b[0mbooster_\u001b[0m\u001b[1;33m\u001b[0m\u001b[1;33m\u001b[0m\u001b[0m\n\u001b[0;32m    682\u001b[0m \u001b[1;33m\u001b[0m\u001b[0m\n\u001b[1;32m--> 683\u001b[1;33m         self._Booster = train(params, train_set,\n\u001b[0m\u001b[0;32m    684\u001b[0m                               \u001b[0mself\u001b[0m\u001b[1;33m.\u001b[0m\u001b[0mn_estimators\u001b[0m\u001b[1;33m,\u001b[0m \u001b[0mvalid_sets\u001b[0m\u001b[1;33m=\u001b[0m\u001b[0mvalid_sets\u001b[0m\u001b[1;33m,\u001b[0m \u001b[0mvalid_names\u001b[0m\u001b[1;33m=\u001b[0m\u001b[0meval_names\u001b[0m\u001b[1;33m,\u001b[0m\u001b[1;33m\u001b[0m\u001b[1;33m\u001b[0m\u001b[0m\n\u001b[0;32m    685\u001b[0m                               \u001b[0mearly_stopping_rounds\u001b[0m\u001b[1;33m=\u001b[0m\u001b[0mearly_stopping_rounds\u001b[0m\u001b[1;33m,\u001b[0m\u001b[1;33m\u001b[0m\u001b[1;33m\u001b[0m\u001b[0m\n",
      "\u001b[1;32mC:\\ProgramData\\Anaconda3\\lib\\site-packages\\lightgbm\\engine.py\u001b[0m in \u001b[0;36mtrain\u001b[1;34m(params, train_set, num_boost_round, valid_sets, valid_names, fobj, feval, init_model, feature_name, categorical_feature, early_stopping_rounds, evals_result, verbose_eval, learning_rates, keep_training_booster, callbacks)\u001b[0m\n\u001b[0;32m    247\u001b[0m                                     evaluation_result_list=None))\n\u001b[0;32m    248\u001b[0m \u001b[1;33m\u001b[0m\u001b[0m\n\u001b[1;32m--> 249\u001b[1;33m         \u001b[0mbooster\u001b[0m\u001b[1;33m.\u001b[0m\u001b[0mupdate\u001b[0m\u001b[1;33m(\u001b[0m\u001b[0mfobj\u001b[0m\u001b[1;33m=\u001b[0m\u001b[0mfobj\u001b[0m\u001b[1;33m)\u001b[0m\u001b[1;33m\u001b[0m\u001b[1;33m\u001b[0m\u001b[0m\n\u001b[0m\u001b[0;32m    250\u001b[0m \u001b[1;33m\u001b[0m\u001b[0m\n\u001b[0;32m    251\u001b[0m         \u001b[0mevaluation_result_list\u001b[0m \u001b[1;33m=\u001b[0m \u001b[1;33m[\u001b[0m\u001b[1;33m]\u001b[0m\u001b[1;33m\u001b[0m\u001b[1;33m\u001b[0m\u001b[0m\n",
      "\u001b[1;32mC:\\ProgramData\\Anaconda3\\lib\\site-packages\\lightgbm\\basic.py\u001b[0m in \u001b[0;36mupdate\u001b[1;34m(self, train_set, fobj)\u001b[0m\n\u001b[0;32m   2641\u001b[0m             \u001b[1;32mif\u001b[0m \u001b[0mself\u001b[0m\u001b[1;33m.\u001b[0m\u001b[0m__set_objective_to_none\u001b[0m\u001b[1;33m:\u001b[0m\u001b[1;33m\u001b[0m\u001b[1;33m\u001b[0m\u001b[0m\n\u001b[0;32m   2642\u001b[0m                 \u001b[1;32mraise\u001b[0m \u001b[0mLightGBMError\u001b[0m\u001b[1;33m(\u001b[0m\u001b[1;34m'Cannot update due to null objective function.'\u001b[0m\u001b[1;33m)\u001b[0m\u001b[1;33m\u001b[0m\u001b[1;33m\u001b[0m\u001b[0m\n\u001b[1;32m-> 2643\u001b[1;33m             _safe_call(_LIB.LGBM_BoosterUpdateOneIter(\n\u001b[0m\u001b[0;32m   2644\u001b[0m                 \u001b[0mself\u001b[0m\u001b[1;33m.\u001b[0m\u001b[0mhandle\u001b[0m\u001b[1;33m,\u001b[0m\u001b[1;33m\u001b[0m\u001b[1;33m\u001b[0m\u001b[0m\n\u001b[0;32m   2645\u001b[0m                 ctypes.byref(is_finished)))\n",
      "\u001b[1;31mKeyboardInterrupt\u001b[0m: "
     ]
    }
   ],
   "source": [
    "# hyper parameters for LGBMRegressor\n",
    "\n",
    "def objective(trial):       \n",
    "    num_leaves = trial.suggest_int('num_leaves', 2, 30,step=1 )\n",
    "    max_depth = trial.suggest_int('max_depth', -1, 30,step=1 )\n",
    "    learning_rate = trial.suggest_uniform('learning_rate', 0, 4)\n",
    "    n_estimators = trial.suggest_int('n_estimators', 10, 100,step=1 )\n",
    "    \n",
    "    # Регуляризаторы:\n",
    "    min_split_gain = trial.suggest_uniform('min_split_gain', 0, .1)\n",
    "    min_child_samples = trial.suggest_int('min_child_samples', 3, 30,step=1 )\n",
    "    reg_alpha = trial.suggest_uniform('reg_alpha', 0, .9 ) # L1 регуляризатор\n",
    "    reg_lambda = trial.suggest_uniform('reg_lambda', 0, .9 ) # L2 регуляризатор\n",
    "    \n",
    "    # Bootstrap - OFF (subsample_freq=0)   \n",
    "    \n",
    "    lgb_reg = LGBMRegressor(boosting_type='gbdt', num_leaves=num_leaves, max_depth= max_depth,\n",
    "                                learning_rate= learning_rate, n_estimators=n_estimators,n_jobs = -1, \n",
    "                                min_split_gain=min_split_gain, min_child_samples=min_child_samples,\n",
    "                                subsample_freq = 0, objective='regression',\n",
    "                                reg_alpha=reg_alpha, reg_lambda =reg_lambda  )\n",
    "\n",
    "    lgb_reg.fit(X_train,y_train)\n",
    "    y_pred = lgb_reg.predict(X_test)\n",
    "    return mean_squared_error(y_test,y_pred)\n",
    "\n",
    "study = optuna.create_study(direction = 'minimize' )\n",
    "study.optimize(objective, n_trials=1000)\n",
    "\n",
    "!telegram-send \"Job's_Done\" \n",
    "\n",
    "\n",
    "lgb_reg_params = study.best_params"
   ]
  },
  {
   "cell_type": "code",
   "execution_count": 64,
   "metadata": {
    "ExecuteTime": {
     "end_time": "2022-01-22T17:44:49.554219Z",
     "start_time": "2022-01-22T17:44:49.547218Z"
    }
   },
   "outputs": [],
   "source": [
    "with open('../models/ML_algo_params/lgb_reg_params.pickle' , 'wb') as f:\n",
    "    pickle.dump(lgb_reg_params,f)\n",
    "f.close() "
   ]
  },
  {
   "cell_type": "code",
   "execution_count": null,
   "metadata": {
    "ExecuteTime": {
     "end_time": "2022-01-22T17:45:33.070269Z",
     "start_time": "2022-01-22T17:45:01.181884Z"
    }
   },
   "outputs": [],
   "source": [
    "# hyper parameters for RandomForestRegressor \n",
    "\n",
    "def objective(trial):\n",
    "    max_leaf_nodes  = trial.suggest_int('max_leaf_nodes', 2, 30,step=1 )\n",
    "    max_depth = trial.suggest_int('max_depth', 3, 500,step=1 )\n",
    "    n_estimators = trial.suggest_int('n_estimators', 10, 100,step=1 )\n",
    "\n",
    "    # Регуляризаторы:\n",
    "    min_impurity_decrease = trial.suggest_uniform('min_impurity_decrease', 0, .1)\n",
    "    ccp_alpha  = trial.suggest_uniform('ccp_alpha', 0, .9 ) # L1 регуляризатор\n",
    "    \n",
    "    # Bootstrap - OFF. \n",
    "    \n",
    "    rf = RandomForestRegressor(n_estimators=n_estimators, criterion='squared_error', max_depth=max_depth, n_jobs=-1,\n",
    "                                    min_impurity_decrease=min_impurity_decrease,bootstrap=False,\n",
    "                                    max_leaf_nodes =max_leaf_nodes , ccp_alpha =ccp_alpha)\n",
    "    rf.fit(X_train,y_train)\n",
    "    y_pred = rf.predict(X_test)\n",
    "    return mean_squared_error(y_test,y_pred)\n",
    "\n",
    "study = optuna.create_study(direction = 'minimize' )\n",
    "study.optimize(objective, n_trials=1000)\n",
    "\n",
    "!telegram-send \"Job's_Done\" \n",
    "\n",
    "rf_params = study.best_params"
   ]
  },
  {
   "cell_type": "code",
   "execution_count": 67,
   "metadata": {
    "ExecuteTime": {
     "end_time": "2022-01-22T17:45:49.369201Z",
     "start_time": "2022-01-22T17:45:49.362201Z"
    }
   },
   "outputs": [],
   "source": [
    "with open('../models/ML_algo_params/rf_params.pickle' , 'wb') as f:\n",
    "    pickle.dump(rf_params,f)\n",
    "f.close() "
   ]
  },
  {
   "cell_type": "code",
   "execution_count": null,
   "metadata": {
    "ExecuteTime": {
     "end_time": "2022-01-22T17:47:22.220613Z",
     "start_time": "2022-01-22T17:47:05.795575Z"
    }
   },
   "outputs": [],
   "source": [
    "# hyper parameters for XGBRegressor \n",
    "\n",
    "def objective(trial):\n",
    "    n_estimators = trial.suggest_int('n_estimators', 10, 100,step=1 )\n",
    "    max_depth = trial.suggest_int('max_depth', 3, 500,step=1 )\n",
    "    learning_rate = trial.suggest_uniform('learning_rate', 0, 4)\n",
    "\n",
    "    # Регуляризаторы:\n",
    "    min_impurity_decrease = trial.suggest_uniform('min_impurity_decrease', 0, .1)\n",
    "    ccp_alpha  = trial.suggest_uniform('ccp_alpha', 0, .9 ) # L1 регуляризатор\n",
    "    \n",
    "    # Регуляризаторы:\n",
    "    gamma = trial.suggest_uniform('gamma', 0.001, .1) #Minimum loss reduction required\n",
    "    min_child_weight = trial.suggest_uniform('min_child_weight', 3, 30) #Minimum sum of instance needed in a child\n",
    "    reg_alpha = trial.suggest_uniform('reg_alpha', 0, .9 ) # L1 регуляризатор\n",
    "    reg_lambda = trial.suggest_uniform('reg_lambda', 0, .9 ) # L2 регуляризатор\n",
    "    \n",
    "    # Bootstrap - OFF. subsample =1 #Subsample ratio \n",
    "    \n",
    "    xgb_reg = XGBRegressor(n_estimators=n_estimators, max_depth=max_depth, \n",
    "                           objective='reg:squarederror', n_jobs=-1,random_state =255,\n",
    "                          subsample =1,reg_alpha=reg_alpha,reg_lambda=reg_lambda,\n",
    "                          gamma=gamma,min_child_weight=min_child_weight,\n",
    "                          learning_rate=learning_rate )\n",
    "    \n",
    "    xgb_reg.fit(X_train,y_train)\n",
    "    y_pred = xgb_reg.predict(X_test)\n",
    "    return mean_squared_error(y_test,y_pred)\n",
    "\n",
    "study = optuna.create_study(direction = 'minimize' )\n",
    "study.optimize(objective, n_trials=500)\n",
    "\n",
    "!telegram-send \"Job's_Done\" \n",
    "\n",
    "xgb_reg_params = study.best_params"
   ]
  },
  {
   "cell_type": "code",
   "execution_count": 73,
   "metadata": {
    "ExecuteTime": {
     "end_time": "2022-01-22T17:47:49.122152Z",
     "start_time": "2022-01-22T17:47:49.115151Z"
    }
   },
   "outputs": [],
   "source": [
    "with open('../models/ML_algo_params/xgb_reg_params.pickle' , 'wb') as f:\n",
    "    pickle.dump(xgb_reg_params,f)\n",
    "f.close()"
   ]
  },
  {
   "cell_type": "code",
   "execution_count": null,
   "metadata": {
    "ExecuteTime": {
     "end_time": "2022-01-22T17:48:01.045834Z",
     "start_time": "2022-01-22T17:47:59.533747Z"
    }
   },
   "outputs": [],
   "source": [
    "# hyper parameters for DecisionTreeRegressor \n",
    "\n",
    "def objective(trial):\n",
    "    max_leaf_nodes  = trial.suggest_int('max_leaf_nodes', 2, 30,step=1 )\n",
    "    max_depth = trial.suggest_int('max_depth', 3, 500,step=1 )\n",
    "\n",
    "    # Регуляризаторы:\n",
    "    min_weight_fraction_leaf = trial.suggest_uniform('min_weight_fraction_leaf', 0, .1)\n",
    "    min_impurity_decrease = trial.suggest_uniform('min_impurity_decrease', 0, .1)\n",
    "    ccp_alpha  = trial.suggest_uniform('ccp_alpha', 0, .9 ) # L1 регуляризатор\n",
    "        \n",
    "    dt = DecisionTreeRegressor(criterion='squared_error' , splitter='best',\n",
    "                               max_depth=max_depth , min_weight_fraction_leaf=min_weight_fraction_leaf,\n",
    "                                random_state=255 , max_leaf_nodes=max_leaf_nodes,\n",
    "                                min_impurity_decrease=min_impurity_decrease , ccp_alpha=ccp_alpha)\n",
    "    \n",
    "    dt.fit(X_train,y_train)\n",
    "    y_pred = dt.predict(X_test)\n",
    "    return mean_squared_error(y_test,y_pred)\n",
    "\n",
    "study = optuna.create_study(direction = 'minimize' )\n",
    "study.optimize(objective, n_trials=300)\n",
    "\n",
    "!telegram-send \"Job's_Done\" \n",
    "\n",
    "dt_params = study.best_params"
   ]
  },
  {
   "cell_type": "code",
   "execution_count": 75,
   "metadata": {
    "ExecuteTime": {
     "end_time": "2022-01-22T17:48:11.479431Z",
     "start_time": "2022-01-22T17:48:11.472430Z"
    }
   },
   "outputs": [],
   "source": [
    "with open('../models/ML_algo_params/dt_params.pickle' , 'wb') as f:\n",
    "    pickle.dump(dt_params,f)\n",
    "f.close()"
   ]
  },
  {
   "cell_type": "markdown",
   "metadata": {},
   "source": [
    "###  Make Train function:"
   ]
  },
  {
   "cell_type": "code",
   "execution_count": 80,
   "metadata": {
    "ExecuteTime": {
     "end_time": "2022-01-22T17:51:35.503100Z",
     "start_time": "2022-01-22T17:51:35.496100Z"
    }
   },
   "outputs": [],
   "source": [
    "def HuberLoss(y_true,y_pred,delta=1):\n",
    "    Loss = 0.\n",
    "    d_x = y_true-y_pred\n",
    "    Loss += np.sum(0.5 * (d_x[d_x < delta] )**2)\n",
    "    Loss += np.sum(delta * (d_x[d_x > delta] - 0.5*delta) )\n",
    "    return Loss/len(y_true)   "
   ]
  },
  {
   "cell_type": "code",
   "execution_count": 81,
   "metadata": {
    "ExecuteTime": {
     "end_time": "2022-01-22T17:51:36.613163Z",
     "start_time": "2022-01-22T17:51:36.606163Z"
    }
   },
   "outputs": [],
   "source": [
    "def train_estimator(estimator):\n",
    "    for i in train_datasets:\n",
    "        X = pd.read_parquet(path_features[i])\n",
    "        y = np.fromfile(path_target[i])    \n",
    "        estimator.fit(X,y)\n",
    "    return estimator"
   ]
  },
  {
   "cell_type": "code",
   "execution_count": 82,
   "metadata": {
    "ExecuteTime": {
     "end_time": "2022-01-22T17:51:37.689225Z",
     "start_time": "2022-01-22T17:51:37.680225Z"
    }
   },
   "outputs": [],
   "source": [
    "def test_estimator(estimator):\n",
    "    MSE_score = 0.\n",
    "    HuberLoss_score = 0.\n",
    "\n",
    "    for i in test_datasets:\n",
    "        X = pd.read_parquet(path_features[i])\n",
    "        y = np.fromfile(path_target[i])    \n",
    "        \n",
    "        y_pred = estimator.predict(X)\n",
    "        \n",
    "        MSE_score += mean_squared_error(y,y_pred)\n",
    "        HuberLoss_score += HuberLoss(y,y_pred)\n",
    "\n",
    "    MSE_score /= len(test_datasets)\n",
    "    HuberLoss_score /= len(test_datasets)\n",
    "    \n",
    "    return MSE_score, HuberLoss_score"
   ]
  },
  {
   "cell_type": "markdown",
   "metadata": {},
   "source": [
    "### Train ML Algoritms with the best hyper params:"
   ]
  },
  {
   "cell_type": "code",
   "execution_count": 97,
   "metadata": {
    "ExecuteTime": {
     "end_time": "2022-01-22T18:04:14.849534Z",
     "start_time": "2022-01-22T18:04:14.840533Z"
    }
   },
   "outputs": [],
   "source": [
    "algoritms = [{'name': 'DecisionTree' , 'model':DecisionTreeRegressor()  ,'params': 'dt_params'  },\n",
    "             {'name': 'RandomForest' , 'model':RandomForestRegressor()  ,'params': 'rf_params' },\n",
    "             {'name': 'XGBRegressor' , 'model':XGBRegressor()  ,'params': 'xgb_reg_params' },\n",
    "             {'name': 'LGBMRegressor' , 'model':LGBMRegressor()  ,'params': 'lgb_reg_params'  },\n",
    "             {'name': 'LR' , 'model':LinearRegression()  ,'params': 'lr_params'  }]"
   ]
  },
  {
   "cell_type": "code",
   "execution_count": null,
   "metadata": {
    "ExecuteTime": {
     "end_time": "2022-01-22T18:17:40.921352Z",
     "start_time": "2022-01-22T18:13:10.332202Z"
    }
   },
   "outputs": [],
   "source": [
    "algo_results = {}\n",
    "\n",
    "for algo in algoritms:\n",
    "    \n",
    "    #loading best params\n",
    "    with open(f'../models/ML_algo_params/{algo[\"params\"]}.pickle' , 'rb') as f:\n",
    "        params = pickle.load(f)\n",
    "    f.close()\n",
    "    \n",
    "    #making estimator\n",
    "    est = algo['model'].set_params(**params)\n",
    "    \n",
    "    #train and storing results\n",
    "    train_estimator(est)\n",
    "    \n",
    "    #save estimator for future use:\n",
    "    with open(f'../models/ML_fitted_models/{algo[\"name\"]}.pickle','wb') as f:\n",
    "        pickle.dump(est ,f  )\n",
    "    f.close()\n",
    "    \n",
    "    algo_results[algo['name']] = test_estimator(est)"
   ]
  },
  {
   "cell_type": "code",
   "execution_count": 118,
   "metadata": {
    "ExecuteTime": {
     "end_time": "2022-01-22T18:21:48.579517Z",
     "start_time": "2022-01-22T18:21:48.566516Z"
    }
   },
   "outputs": [
    {
     "data": {
      "text/html": [
       "<div>\n",
       "<style scoped>\n",
       "    .dataframe tbody tr th:only-of-type {\n",
       "        vertical-align: middle;\n",
       "    }\n",
       "\n",
       "    .dataframe tbody tr th {\n",
       "        vertical-align: top;\n",
       "    }\n",
       "\n",
       "    .dataframe thead th {\n",
       "        text-align: right;\n",
       "    }\n",
       "</style>\n",
       "<table border=\"1\" class=\"dataframe\">\n",
       "  <thead>\n",
       "    <tr style=\"text-align: right;\">\n",
       "      <th></th>\n",
       "      <th>MSE_Loss</th>\n",
       "      <th>HuberLoss</th>\n",
       "    </tr>\n",
       "  </thead>\n",
       "  <tbody>\n",
       "    <tr>\n",
       "      <th>DecisionTree</th>\n",
       "      <td>0.097623</td>\n",
       "      <td>0.048812</td>\n",
       "    </tr>\n",
       "    <tr>\n",
       "      <th>RandomForest</th>\n",
       "      <td>0.097429</td>\n",
       "      <td>0.048715</td>\n",
       "    </tr>\n",
       "    <tr>\n",
       "      <th>XGBRegressor</th>\n",
       "      <td>0.214949</td>\n",
       "      <td>0.106837</td>\n",
       "    </tr>\n",
       "    <tr>\n",
       "      <th>LGBMRegressor</th>\n",
       "      <td>0.076177</td>\n",
       "      <td>0.038088</td>\n",
       "    </tr>\n",
       "    <tr>\n",
       "      <th>LR</th>\n",
       "      <td>72.072907</td>\n",
       "      <td>19.054029</td>\n",
       "    </tr>\n",
       "  </tbody>\n",
       "</table>\n",
       "</div>"
      ],
      "text/plain": [
       "                MSE_Loss  HuberLoss\n",
       "DecisionTree    0.097623   0.048812\n",
       "RandomForest    0.097429   0.048715\n",
       "XGBRegressor    0.214949   0.106837\n",
       "LGBMRegressor   0.076177   0.038088\n",
       "LR             72.072907  19.054029"
      ]
     },
     "execution_count": 118,
     "metadata": {},
     "output_type": "execute_result"
    }
   ],
   "source": [
    "df_algo_results = pd.DataFrame(algo_results,index=['MSE_Loss','HuberLoss']).T\n",
    "df_algo_results"
   ]
  },
  {
   "cell_type": "code",
   "execution_count": 128,
   "metadata": {
    "ExecuteTime": {
     "end_time": "2022-01-22T18:31:16.444997Z",
     "start_time": "2022-01-22T18:31:14.762901Z"
    },
    "scrolled": false
   },
   "outputs": [
    {
     "data": {
      "text/plain": [
       "<Figure size 1152x576 with 0 Axes>"
      ]
     },
     "metadata": {},
     "output_type": "display_data"
    },
    {
     "data": {
      "image/png": "[encoded data removed]",
      "text/plain": [
       "<Figure size 1152x576 with 2 Axes>"
      ]
     },
     "metadata": {
      "needs_background": "light"
     },
     "output_type": "display_data"
    }
   ],
   "source": [
    "fig = plt.figure(figsize=(16, 8))\n",
    "fig, (ax0,ax1) = plt.subplots( nrows=1, ncols=2, figsize=(16, 8) )\n",
    "\n",
    "ax0.set_title('All ML algoritms')\n",
    "sns.scatterplot(x= 'MSE_Loss' ,y='HuberLoss', data = df_algo_results,\n",
    "                hue=df_algo_results.index, ax=ax0)\n",
    "\n",
    "ax1.set_title('Best ML algoritms')\n",
    "sns.scatterplot(x= 'MSE_Loss' ,y='HuberLoss', data = df_algo_results.iloc[:-1,:],\n",
    "                hue=df_algo_results.index[:-1], ax=ax1)\n",
    "\n",
    "fig.suptitle('Figure 1. MSE and HuberLoss Results\\nThe best Algoritm in LOWER LEFT corner ')\n",
    "fig.savefig('../models/comparison/Algoritms MSE and HuberLoss Results.png')\n",
    "plt.show();\n"
   ]
  },
  {
   "cell_type": "markdown",
   "metadata": {},
   "source": [
    "#### ML part Conclusion:\n",
    "\n",
    "1. The best estimator is __LGBMRegressor__ because it has the lowest MSE and Huber loss values\n",
    "1. The second estimator is __RandomForest Regressor__ as per MSE and Huber loss values (please see the Figure 1 above)"
   ]
  },
  {
   "cell_type": "markdown",
   "metadata": {},
   "source": [
    "### NN Part¶"
   ]
  },
  {
   "cell_type": "code",
   "execution_count": 129,
   "metadata": {
    "ExecuteTime": {
     "end_time": "2022-01-22T18:47:21.108178Z",
     "start_time": "2022-01-22T18:47:21.103178Z"
    }
   },
   "outputs": [],
   "source": [
    "# torch\n",
    "import torch\n",
    "from tqdm import tqdm\n"
   ]
  },
  {
   "cell_type": "code",
   "execution_count": 220,
   "metadata": {
    "ExecuteTime": {
     "end_time": "2022-01-22T20:50:33.867897Z",
     "start_time": "2022-01-22T20:50:33.768891Z"
    }
   },
   "outputs": [
    {
     "name": "stdout",
     "output_type": "stream",
     "text": [
      "Net(\n",
      "  (linear): Linear(in_features=300, out_features=300, bias=True)\n",
      "  (emb_lvl): Embedding(2650, 300)\n",
      "  (lstm): LSTM(300, 128, batch_first=True, bidirectional=True)\n",
      "  (linear_1): Linear(in_features=128, out_features=1, bias=True)\n",
      ")\n"
     ]
    }
   ],
   "source": [
    "SEP_LEVELS = int(2.65 * 1000 )\n",
    "\n",
    "class Net(nn.Module):\n",
    "    def __init__(self):\n",
    "        super(Net,self).__init__()\n",
    "        \n",
    "        self.linear = torch.nn.Linear(300,300, bias = True, dtype=torch.float32)\n",
    "        \n",
    "        self.emb_lvl = torch.nn.Embedding(SEP_LEVELS,300)\n",
    "        #self.linear_attention = torch.nn.Linear(300,300, dtype=torch.float32)\n",
    "        \n",
    "        self.lstm = torch.nn.LSTM(input_size=300, hidden_size=128,batch_first = True, bidirectional=True) #dropout=.3,num_layers=2\n",
    "        self.linear_1 = torch.nn.Linear(in_features=128, out_features = 1, bias = True)\n",
    "        \n",
    "    def forward(self,x,previous_y):\n",
    "                        \n",
    "        # pass pipe pressures lags through Dense 300 ->300\n",
    "        after_linear = torch.nn.functional.relu( self.linear(x) )\n",
    "        \n",
    "        # get previous separator level embedding\n",
    "        previous_separator_level = round(previous_y ,3) * 1000      # previous_y = y[0]\n",
    "        previous_separator_level = int( previous_separator_level ) \n",
    "        previous_separator_level = torch.tensor( [ previous_separator_level ] )\n",
    "        previous_separator_level_emb = self.emb_lvl(previous_separator_level)     # Делаем ему размер emb = 300\n",
    "        previous_separator_level_emb = previous_separator_level_emb.reshape(1,300)\n",
    "        \n",
    "        # get attention\n",
    "        attention = after_linear * previous_separator_level_emb\n",
    "        #attention = self.linear_attention(attention)\n",
    "        attention_softmax = torch.nn.functional.softmax( attention , dim=0 )\n",
    "        \n",
    "        # multiply presure lags with attention softmax \n",
    "        final_state = x * attention_softmax\n",
    "        final_state = final_state.reshape(1,5,300)\n",
    "        \n",
    "        # LSTM\n",
    "        embeddings, (shortterm, longterm) = self.lstm(final_state)\n",
    "        longterm = torch.add(longterm[0],longterm[1])/2\n",
    "        predict = self.linear_1(longterm)\n",
    "        \n",
    "        return predict\n",
    "        \n",
    "    def fit(self, X_features, y_target):\n",
    "    \n",
    "        EPOCHS = 50 \n",
    "        criteria = torch.nn.HuberLoss()\n",
    "        ONE_EPOCH_SIZE = len(y_target) - 5\n",
    "        min_loss = 0.2\n",
    "        true_array = torch.from_numpy( y_target[5:]).float()\n",
    "        lr= 0.001\n",
    "\n",
    "        for epoch in range(EPOCHS):\n",
    "            prediction_array = torch.tensor( [] ).float()\n",
    "\n",
    "            for i in tqdm(  range(5, len(y),1 )  ):\n",
    "                y_pred_array = torch.tensor([])\n",
    "                for j in range(3):\n",
    "                    x = np.array(X_features.iloc[i-5:i,j*300:(j+1)*300]) \n",
    "                    x = torch.from_numpy(x).reshape(5,300).float()\n",
    "\n",
    "                    previous_y = y_target[i]\n",
    "\n",
    "                    y_pred = self.forward( x,previous_y )\n",
    "                    y_pred_array = torch.cat((y_pred_array,y_pred) )\n",
    "                y_pred = torch.mean(y_pred_array).reshape(-1)\n",
    "\n",
    "                prediction_array = torch.cat((prediction_array,y_pred), dim=0)\n",
    "\n",
    "            loss = criteria( prediction_array.reshape(-1), true_array)\n",
    "\n",
    "            if loss < min_loss:\n",
    "                min_loss = loss\n",
    "                torch.save(net,f'./model_loss_{loss}')\n",
    "                lr = 0.0001\n",
    "\n",
    "            loss.backward()\n",
    "\n",
    "            optimizer = torch.optim.Adam( net.parameters(), lr = lr)\n",
    "\n",
    "\n",
    "            optimizer.step() # обновляем веса модели\n",
    "            optimizer.zero_grad()  # обнуляем веса\n",
    "\n",
    "            # at the end of each epoch print the last loss\n",
    "            if epoch % 1 ==0: print(f'epoch {epoch}. MSELoss = {loss}')\n",
    "    \n",
    "    @torch.no_grad()\n",
    "    def predict(self,X_features):\n",
    "        prediction_array = np.array([0.],dtype=np.float32)\n",
    "\n",
    "        #with torch.no_grad():\n",
    "        for i in tqdm( range(5, len(X_features), 1 ) ): \n",
    "            y_pred_array = torch.tensor([])\n",
    "            for j in range(3):\n",
    "                x = np.array(X_features.iloc[i-5:i , j*300:(j+1)*300]) \n",
    "                x = torch.from_numpy(x).reshape(5,300).float()\n",
    "\n",
    "                previous_y = prediction_array[-1]\n",
    "                \n",
    "                y_pred = self.forward( x,previous_y )\n",
    "                y_pred_array = torch.cat((y_pred_array,y_pred) )\n",
    "            y_pred = abs(torch.mean(y_pred_array))\n",
    "\n",
    "            prediction_array = np.append( prediction_array, y_pred.numpy() )\n",
    "        return prediction_array[1:]\n",
    "     \n",
    "        \n",
    "        \n",
    "        \n",
    "        \n",
    "net = Net()\n",
    "print(net)"
   ]
  },
  {
   "cell_type": "code",
   "execution_count": 203,
   "metadata": {
    "ExecuteTime": {
     "end_time": "2022-01-22T20:41:25.610507Z",
     "start_time": "2022-01-22T19:54:41.235337Z"
    },
    "scrolled": true
   },
   "outputs": [
    {
     "name": "stderr",
     "output_type": "stream",
     "text": [
      "100%|██████████████████████████████████████| 1191/1191 [00:12<00:00, 96.93it/s]\n",
      "  1%|▎                                       | 10/1191 [00:00<00:12, 97.08it/s]"
     ]
    },
    {
     "name": "stdout",
     "output_type": "stream",
     "text": [
      "epoch 0. MSELoss = 0.24487340450286865\n"
     ]
    },
    {
     "name": "stderr",
     "output_type": "stream",
     "text": [
      "100%|█████████████████████████████████████| 1191/1191 [00:10<00:00, 108.99it/s]\n",
      "  1%|▏                                        | 7/1191 [00:00<00:16, 70.00it/s]"
     ]
    },
    {
     "name": "stdout",
     "output_type": "stream",
     "text": [
      "epoch 1. MSELoss = 0.22259581089019775\n"
     ]
    },
    {
     "name": "stderr",
     "output_type": "stream",
     "text": [
      "100%|██████████████████████████████████████| 1191/1191 [00:18<00:00, 65.75it/s]\n",
      "  1%|▍                                      | 12/1191 [00:00<00:10, 111.10it/s]"
     ]
    },
    {
     "name": "stdout",
     "output_type": "stream",
     "text": [
      "epoch 2. MSELoss = 0.20174194872379303\n"
     ]
    },
    {
     "name": "stderr",
     "output_type": "stream",
     "text": [
      "100%|█████████████████████████████████████| 1191/1191 [00:11<00:00, 102.88it/s]\n",
      "  1%|▎                                      | 11/1191 [00:00<00:11, 100.91it/s]"
     ]
    },
    {
     "name": "stdout",
     "output_type": "stream",
     "text": [
      "epoch 3. MSELoss = 0.18211238086223602\n"
     ]
    },
    {
     "name": "stderr",
     "output_type": "stream",
     "text": [
      "100%|█████████████████████████████████████| 1191/1191 [00:11<00:00, 103.20it/s]\n",
      "  1%|▎                                       | 10/1191 [00:00<00:12, 93.45it/s]"
     ]
    },
    {
     "name": "stdout",
     "output_type": "stream",
     "text": [
      "epoch 4. MSELoss = 0.18020781874656677\n"
     ]
    },
    {
     "name": "stderr",
     "output_type": "stream",
     "text": [
      "100%|█████████████████████████████████████| 1191/1191 [00:11<00:00, 105.10it/s]\n",
      "  1%|▎                                       | 10/1191 [00:00<00:11, 99.00it/s]"
     ]
    },
    {
     "name": "stdout",
     "output_type": "stream",
     "text": [
      "epoch 5. MSELoss = 0.17831286787986755\n"
     ]
    },
    {
     "name": "stderr",
     "output_type": "stream",
     "text": [
      "100%|█████████████████████████████████████| 1191/1191 [00:11<00:00, 104.85it/s]\n",
      "  1%|▎                                      | 11/1191 [00:00<00:11, 106.79it/s]"
     ]
    },
    {
     "name": "stdout",
     "output_type": "stream",
     "text": [
      "epoch 6. MSELoss = 0.17642764747142792\n"
     ]
    },
    {
     "name": "stderr",
     "output_type": "stream",
     "text": [
      "100%|██████████████████████████████████████| 1191/1191 [00:12<00:00, 91.75it/s]\n",
      "  1%|▎                                      | 11/1191 [00:00<00:11, 103.77it/s]"
     ]
    },
    {
     "name": "stdout",
     "output_type": "stream",
     "text": [
      "epoch 7. MSELoss = 0.17455218732357025\n"
     ]
    },
    {
     "name": "stderr",
     "output_type": "stream",
     "text": [
      "100%|██████████████████████████████████████| 1191/1191 [00:12<00:00, 97.84it/s]\n",
      "  1%|▎                                      | 11/1191 [00:00<00:11, 104.76it/s]"
     ]
    },
    {
     "name": "stdout",
     "output_type": "stream",
     "text": [
      "epoch 8. MSELoss = 0.17268647253513336\n"
     ]
    },
    {
     "name": "stderr",
     "output_type": "stream",
     "text": [
      "100%|█████████████████████████████████████| 1191/1191 [00:11<00:00, 101.49it/s]\n",
      "  1%|▎                                       | 10/1191 [00:00<00:12, 94.33it/s]"
     ]
    },
    {
     "name": "stdout",
     "output_type": "stream",
     "text": [
      "epoch 9. MSELoss = 0.1708303540945053\n"
     ]
    },
    {
     "name": "stderr",
     "output_type": "stream",
     "text": [
      "100%|█████████████████████████████████████| 1191/1191 [00:11<00:00, 101.04it/s]\n",
      "  1%|▎                                      | 11/1191 [00:00<00:11, 106.79it/s]"
     ]
    },
    {
     "name": "stdout",
     "output_type": "stream",
     "text": [
      "epoch 10. MSELoss = 0.16898372769355774\n"
     ]
    },
    {
     "name": "stderr",
     "output_type": "stream",
     "text": [
      "100%|█████████████████████████████████████| 1191/1191 [00:11<00:00, 101.68it/s]\n",
      "  1%|▎                                      | 11/1191 [00:00<00:10, 107.84it/s]"
     ]
    },
    {
     "name": "stdout",
     "output_type": "stream",
     "text": [
      "epoch 11. MSELoss = 0.167146697640419\n"
     ]
    },
    {
     "name": "stderr",
     "output_type": "stream",
     "text": [
      "100%|█████████████████████████████████████| 1191/1191 [00:11<00:00, 101.75it/s]\n",
      "  1%|▎                                       | 10/1191 [00:00<00:12, 94.33it/s]"
     ]
    },
    {
     "name": "stdout",
     "output_type": "stream",
     "text": [
      "epoch 12. MSELoss = 0.16531914472579956\n"
     ]
    },
    {
     "name": "stderr",
     "output_type": "stream",
     "text": [
      "100%|██████████████████████████████████████| 1191/1191 [00:11<00:00, 99.83it/s]\n",
      "  1%|▎                                       | 10/1191 [00:00<00:12, 96.15it/s]"
     ]
    },
    {
     "name": "stdout",
     "output_type": "stream",
     "text": [
      "epoch 13. MSELoss = 0.16350112855434418\n"
     ]
    },
    {
     "name": "stderr",
     "output_type": "stream",
     "text": [
      "100%|█████████████████████████████████████| 1191/1191 [00:11<00:00, 104.21it/s]\n",
      "  1%|▎                                      | 11/1191 [00:00<00:11, 105.76it/s]"
     ]
    },
    {
     "name": "stdout",
     "output_type": "stream",
     "text": [
      "epoch 14. MSELoss = 0.1616925150156021\n"
     ]
    },
    {
     "name": "stderr",
     "output_type": "stream",
     "text": [
      "100%|█████████████████████████████████████| 1191/1191 [00:11<00:00, 103.09it/s]\n",
      "  1%|▏                                        | 7/1191 [00:00<00:17, 69.30it/s]"
     ]
    },
    {
     "name": "stdout",
     "output_type": "stream",
     "text": [
      "epoch 15. MSELoss = 0.15989325940608978\n"
     ]
    },
    {
     "name": "stderr",
     "output_type": "stream",
     "text": [
      "100%|██████████████████████████████████████| 1191/1191 [00:12<00:00, 93.33it/s]\n",
      "  2%|▋                                      | 21/1191 [00:00<00:11, 100.78it/s]"
     ]
    },
    {
     "name": "stdout",
     "output_type": "stream",
     "text": [
      "epoch 16. MSELoss = 0.15810345113277435\n"
     ]
    },
    {
     "name": "stderr",
     "output_type": "stream",
     "text": [
      "100%|██████████████████████████████████████| 1191/1191 [00:12<00:00, 98.97it/s]\n",
      "  1%|▎                                       | 10/1191 [00:00<00:11, 99.99it/s]"
     ]
    },
    {
     "name": "stdout",
     "output_type": "stream",
     "text": [
      "epoch 17. MSELoss = 0.15632317960262299\n"
     ]
    },
    {
     "name": "stderr",
     "output_type": "stream",
     "text": [
      "100%|██████████████████████████████████████| 1191/1191 [00:12<00:00, 97.79it/s]\n",
      "  1%|▎                                      | 11/1191 [00:00<00:11, 106.79it/s]"
     ]
    },
    {
     "name": "stdout",
     "output_type": "stream",
     "text": [
      "epoch 18. MSELoss = 0.15455250442028046\n"
     ]
    },
    {
     "name": "stderr",
     "output_type": "stream",
     "text": [
      "100%|█████████████████████████████████████| 1191/1191 [00:11<00:00, 101.00it/s]\n",
      "  1%|▎                                      | 11/1191 [00:00<00:11, 105.76it/s]"
     ]
    },
    {
     "name": "stdout",
     "output_type": "stream",
     "text": [
      "epoch 19. MSELoss = 0.15279141068458557\n"
     ]
    },
    {
     "name": "stderr",
     "output_type": "stream",
     "text": [
      "100%|█████████████████████████████████████| 1191/1191 [00:11<00:00, 100.41it/s]\n",
      "  1%|▎                                      | 11/1191 [00:00<00:10, 109.99it/s]"
     ]
    },
    {
     "name": "stdout",
     "output_type": "stream",
     "text": [
      "epoch 20. MSELoss = 0.1510399729013443\n"
     ]
    },
    {
     "name": "stderr",
     "output_type": "stream",
     "text": [
      "100%|█████████████████████████████████████| 1191/1191 [00:11<00:00, 101.42it/s]\n",
      "  1%|▎                                       | 10/1191 [00:00<00:12, 95.23it/s]"
     ]
    },
    {
     "name": "stdout",
     "output_type": "stream",
     "text": [
      "epoch 21. MSELoss = 0.14929819107055664\n"
     ]
    },
    {
     "name": "stderr",
     "output_type": "stream",
     "text": [
      "100%|█████████████████████████████████████| 1191/1191 [00:11<00:00, 103.51it/s]\n",
      "  1%|▏                                        | 7/1191 [00:00<00:18, 65.42it/s]"
     ]
    },
    {
     "name": "stdout",
     "output_type": "stream",
     "text": [
      "epoch 22. MSELoss = 0.14756615459918976\n"
     ]
    },
    {
     "name": "stderr",
     "output_type": "stream",
     "text": [
      "100%|██████████████████████████████████████| 1191/1191 [00:12<00:00, 93.52it/s]\n",
      "  1%|▎                                        | 8/1191 [00:00<00:17, 69.56it/s]"
     ]
    },
    {
     "name": "stdout",
     "output_type": "stream",
     "text": [
      "epoch 23. MSELoss = 0.14584402740001678\n"
     ]
    },
    {
     "name": "stderr",
     "output_type": "stream",
     "text": [
      "100%|█████████████████████████████████████| 1191/1191 [00:11<00:00, 101.73it/s]\n",
      "  1%|▎                                       | 10/1191 [00:00<00:12, 93.45it/s]"
     ]
    },
    {
     "name": "stdout",
     "output_type": "stream",
     "text": [
      "epoch 24. MSELoss = 0.14413195848464966\n"
     ]
    },
    {
     "name": "stderr",
     "output_type": "stream",
     "text": [
      "100%|█████████████████████████████████████| 1191/1191 [00:11<00:00, 101.61it/s]\n",
      "  1%|▍                                      | 12/1191 [00:00<00:10, 117.64it/s]"
     ]
    },
    {
     "name": "stdout",
     "output_type": "stream",
     "text": [
      "epoch 25. MSELoss = 0.1424301415681839\n"
     ]
    },
    {
     "name": "stderr",
     "output_type": "stream",
     "text": [
      "100%|██████████████████████████████████████| 1191/1191 [00:12<00:00, 93.45it/s]\n",
      "  1%|▎                                        | 9/1191 [00:00<00:13, 89.10it/s]"
     ]
    },
    {
     "name": "stdout",
     "output_type": "stream",
     "text": [
      "epoch 26. MSELoss = 0.14073872566223145\n"
     ]
    },
    {
     "name": "stderr",
     "output_type": "stream",
     "text": [
      "100%|██████████████████████████████████████| 1191/1191 [00:12<00:00, 97.21it/s]\n",
      "  1%|▎                                      | 11/1191 [00:00<00:10, 107.84it/s]"
     ]
    },
    {
     "name": "stdout",
     "output_type": "stream",
     "text": [
      "epoch 27. MSELoss = 0.139057919383049\n"
     ]
    },
    {
     "name": "stderr",
     "output_type": "stream",
     "text": [
      "100%|██████████████████████████████████████| 1191/1191 [00:12<00:00, 92.72it/s]\n",
      "  1%|▎                                      | 11/1191 [00:00<00:10, 107.84it/s]"
     ]
    },
    {
     "name": "stdout",
     "output_type": "stream",
     "text": [
      "epoch 28. MSELoss = 0.1373877227306366\n"
     ]
    },
    {
     "name": "stderr",
     "output_type": "stream",
     "text": [
      "100%|██████████████████████████████████████| 1191/1191 [00:11<00:00, 99.48it/s]\n",
      "  1%|▎                                       | 10/1191 [00:00<00:12, 98.03it/s]"
     ]
    },
    {
     "name": "stdout",
     "output_type": "stream",
     "text": [
      "epoch 29. MSELoss = 0.1357281655073166\n"
     ]
    },
    {
     "name": "stderr",
     "output_type": "stream",
     "text": [
      "100%|██████████████████████████████████████| 1191/1191 [00:12<00:00, 97.03it/s]\n",
      "  1%|▎                                      | 11/1191 [00:00<00:11, 105.76it/s]"
     ]
    },
    {
     "name": "stdout",
     "output_type": "stream",
     "text": [
      "epoch 30. MSELoss = 0.13407938182353973\n"
     ]
    },
    {
     "name": "stderr",
     "output_type": "stream",
     "text": [
      "100%|█████████████████████████████████████| 1191/1191 [00:11<00:00, 101.47it/s]\n",
      "  1%|▎                                      | 11/1191 [00:00<00:11, 100.91it/s]"
     ]
    },
    {
     "name": "stdout",
     "output_type": "stream",
     "text": [
      "epoch 31. MSELoss = 0.1324414610862732\n"
     ]
    },
    {
     "name": "stderr",
     "output_type": "stream",
     "text": [
      "100%|██████████████████████████████████████| 1191/1191 [00:12<00:00, 93.14it/s]\n",
      "  1%|▎                                       | 10/1191 [00:00<00:12, 91.74it/s]"
     ]
    },
    {
     "name": "stdout",
     "output_type": "stream",
     "text": [
      "epoch 32. MSELoss = 0.13081465661525726\n"
     ]
    },
    {
     "name": "stderr",
     "output_type": "stream",
     "text": [
      "100%|█████████████████████████████████████| 1191/1191 [00:11<00:00, 103.87it/s]\n",
      "  1%|▎                                        | 9/1191 [00:00<00:13, 89.99it/s]"
     ]
    },
    {
     "name": "stdout",
     "output_type": "stream",
     "text": [
      "epoch 33. MSELoss = 0.1291990429162979\n"
     ]
    },
    {
     "name": "stderr",
     "output_type": "stream",
     "text": [
      "100%|██████████████████████████████████████| 1191/1191 [00:12<00:00, 93.09it/s]\n",
      "  1%|▎                                      | 11/1191 [00:00<00:10, 109.99it/s]"
     ]
    },
    {
     "name": "stdout",
     "output_type": "stream",
     "text": [
      "epoch 34. MSELoss = 0.12759479880332947\n"
     ]
    },
    {
     "name": "stderr",
     "output_type": "stream",
     "text": [
      "100%|█████████████████████████████████████| 1191/1191 [00:11<00:00, 101.85it/s]\n",
      "  1%|▎                                       | 10/1191 [00:00<00:11, 99.00it/s]"
     ]
    },
    {
     "name": "stdout",
     "output_type": "stream",
     "text": [
      "epoch 35. MSELoss = 0.12600217759609222\n"
     ]
    },
    {
     "name": "stderr",
     "output_type": "stream",
     "text": [
      "100%|██████████████████████████████████████| 1191/1191 [00:12<00:00, 98.89it/s]\n",
      "  1%|▎                                      | 11/1191 [00:00<00:10, 107.84it/s]"
     ]
    },
    {
     "name": "stdout",
     "output_type": "stream",
     "text": [
      "epoch 36. MSELoss = 0.12442135810852051\n"
     ]
    },
    {
     "name": "stderr",
     "output_type": "stream",
     "text": [
      "100%|█████████████████████████████████████| 1191/1191 [00:11<00:00, 104.06it/s]\n",
      "  1%|▎                                       | 10/1191 [00:00<00:12, 96.15it/s]"
     ]
    },
    {
     "name": "stdout",
     "output_type": "stream",
     "text": [
      "epoch 37. MSELoss = 0.12285255640745163\n"
     ]
    },
    {
     "name": "stderr",
     "output_type": "stream",
     "text": [
      "100%|█████████████████████████████████████| 1191/1191 [00:11<00:00, 103.36it/s]\n",
      "  1%|▍                                      | 12/1191 [00:00<00:10, 110.09it/s]"
     ]
    },
    {
     "name": "stdout",
     "output_type": "stream",
     "text": [
      "epoch 38. MSELoss = 0.12129589170217514\n"
     ]
    },
    {
     "name": "stderr",
     "output_type": "stream",
     "text": [
      "100%|█████████████████████████████████████| 1191/1191 [00:11<00:00, 103.75it/s]\n",
      "  1%|▎                                       | 10/1191 [00:00<00:11, 99.00it/s]"
     ]
    },
    {
     "name": "stdout",
     "output_type": "stream",
     "text": [
      "epoch 39. MSELoss = 0.11975138634443283\n"
     ]
    },
    {
     "name": "stderr",
     "output_type": "stream",
     "text": [
      "100%|█████████████████████████████████████| 1191/1191 [00:11<00:00, 101.20it/s]\n",
      "  1%|▎                                      | 11/1191 [00:00<00:11, 102.80it/s]"
     ]
    },
    {
     "name": "stdout",
     "output_type": "stream",
     "text": [
      "epoch 40. MSELoss = 0.11821888387203217\n"
     ]
    },
    {
     "name": "stderr",
     "output_type": "stream",
     "text": [
      "100%|█████████████████████████████████████| 1191/1191 [00:11<00:00, 102.04it/s]\n",
      "  1%|▎                                      | 11/1191 [00:00<00:10, 109.99it/s]"
     ]
    },
    {
     "name": "stdout",
     "output_type": "stream",
     "text": [
      "epoch 41. MSELoss = 0.11669834703207016\n"
     ]
    },
    {
     "name": "stderr",
     "output_type": "stream",
     "text": [
      "100%|█████████████████████████████████████| 1191/1191 [00:11<00:00, 102.29it/s]\n",
      "  1%|▎                                       | 10/1191 [00:00<00:11, 99.99it/s]"
     ]
    },
    {
     "name": "stdout",
     "output_type": "stream",
     "text": [
      "epoch 42. MSELoss = 0.11518976092338562\n"
     ]
    },
    {
     "name": "stderr",
     "output_type": "stream",
     "text": [
      "100%|██████████████████████████████████████| 1191/1191 [00:12<00:00, 98.25it/s]\n",
      "  1%|▎                                       | 10/1191 [00:00<00:12, 92.59it/s]"
     ]
    },
    {
     "name": "stdout",
     "output_type": "stream",
     "text": [
      "epoch 43. MSELoss = 0.11369309574365616\n"
     ]
    },
    {
     "name": "stderr",
     "output_type": "stream",
     "text": [
      "100%|█████████████████████████████████████| 1191/1191 [00:11<00:00, 104.05it/s]\n",
      "  1%|▎                                       | 10/1191 [00:00<00:11, 99.00it/s]"
     ]
    },
    {
     "name": "stdout",
     "output_type": "stream",
     "text": [
      "epoch 44. MSELoss = 0.11220834404230118\n"
     ]
    },
    {
     "name": "stderr",
     "output_type": "stream",
     "text": [
      "100%|██████████████████████████████████████| 1191/1191 [00:12<00:00, 96.38it/s]\n",
      "  1%|▏                                        | 6/1191 [00:00<00:22, 52.63it/s]"
     ]
    },
    {
     "name": "stdout",
     "output_type": "stream",
     "text": [
      "epoch 45. MSELoss = 0.1107356995344162\n"
     ]
    },
    {
     "name": "stderr",
     "output_type": "stream",
     "text": [
      "100%|█████████████████████████████████████| 1191/1191 [00:11<00:00, 100.53it/s]\n",
      "  1%|▎                                      | 11/1191 [00:00<00:11, 101.85it/s]"
     ]
    },
    {
     "name": "stdout",
     "output_type": "stream",
     "text": [
      "epoch 46. MSELoss = 0.10927540063858032\n"
     ]
    },
    {
     "name": "stderr",
     "output_type": "stream",
     "text": [
      "100%|█████████████████████████████████████| 1191/1191 [00:11<00:00, 100.72it/s]\n",
      "  1%|▎                                        | 9/1191 [00:00<00:13, 88.23it/s]"
     ]
    },
    {
     "name": "stdout",
     "output_type": "stream",
     "text": [
      "epoch 47. MSELoss = 0.10782772302627563\n"
     ]
    },
    {
     "name": "stderr",
     "output_type": "stream",
     "text": [
      "100%|█████████████████████████████████████| 1191/1191 [00:11<00:00, 105.02it/s]\n",
      "  1%|▎                                       | 10/1191 [00:00<00:12, 95.23it/s]"
     ]
    },
    {
     "name": "stdout",
     "output_type": "stream",
     "text": [
      "epoch 48. MSELoss = 0.10639297962188721\n"
     ]
    },
    {
     "name": "stderr",
     "output_type": "stream",
     "text": [
      "100%|█████████████████████████████████████| 1191/1191 [00:11<00:00, 105.36it/s]\n"
     ]
    },
    {
     "name": "stdout",
     "output_type": "stream",
     "text": [
      "epoch 49. MSELoss = 0.1049714908003807\n"
     ]
    }
   ],
   "source": [
    "# train\n",
    "net=Net()\n",
    "\n",
    "i = train_datasets[1]\n",
    "X = pd.read_parquet(path_features[i])\n",
    "y = np.fromfile(path_target[i]) \n",
    "\n",
    "net.fit(X, y)"
   ]
  },
  {
   "cell_type": "code",
   "execution_count": null,
   "metadata": {},
   "outputs": [],
   "source": [
    "loss = round(loss,3)\n",
    "# saving model weights\n",
    "torch.save(net.state_dict(), f'../models/NN_models_weights/Attention_weights_loss_{loss}.pth')\n",
    "\n",
    "# saving model\n",
    "torch.save(net,f'../models/NN_models/Attention_loss_{loss}.pth')"
   ]
  },
  {
   "cell_type": "code",
   "execution_count": 226,
   "metadata": {
    "ExecuteTime": {
     "end_time": "2022-01-22T21:00:07.269732Z",
     "start_time": "2022-01-22T20:59:58.088193Z"
    }
   },
   "outputs": [
    {
     "name": "stderr",
     "output_type": "stream",
     "text": [
      "100%|█████████████████████████████████████| 1191/1191 [00:08<00:00, 132.50it/s]\n"
     ]
    }
   ],
   "source": [
    "# проверка\n",
    "i = test_datasets[1]\n",
    "X = pd.read_parquet(path_features[i])\n",
    "y = np.fromfile(path_target[i]) \n",
    "\n",
    "prediction_array = net.predict( X )"
   ]
  },
  {
   "cell_type": "code",
   "execution_count": 230,
   "metadata": {
    "ExecuteTime": {
     "end_time": "2022-01-22T21:01:08.053209Z",
     "start_time": "2022-01-22T21:01:08.042208Z"
    }
   },
   "outputs": [
    {
     "data": {
      "text/plain": [
       "0.11741412718394129"
      ]
     },
     "execution_count": 230,
     "metadata": {},
     "output_type": "execute_result"
    }
   ],
   "source": [
    "y=y[:len(prediction_array)]\n",
    "mean_squared_error(y,prediction_array)"
   ]
  },
  {
   "cell_type": "code",
   "execution_count": null,
   "metadata": {
    "ExecuteTime": {
     "end_time": "2022-01-22T21:01:08.053209Z",
     "start_time": "2022-01-22T21:01:08.042208Z"
    }
   },
   "outputs": [],
   "source": []
  },
  {
   "cell_type": "markdown",
   "metadata": {},
   "source": [
    "Обучаем на всей Трейн выборке:"
   ]
  },
  {
   "cell_type": "code",
   "execution_count": 224,
   "metadata": {
    "ExecuteTime": {
     "end_time": "2022-01-22T20:52:47.895587Z",
     "start_time": "2022-01-22T20:51:57.215674Z"
    }
   },
   "outputs": [
    {
     "name": "stderr",
     "output_type": "stream",
     "text": [
      "100%|█████████████████████████████████████| 1191/1191 [00:10<00:00, 109.13it/s]\n",
      "  1%|▎                                       | 10/1191 [00:00<00:12, 91.74it/s]"
     ]
    },
    {
     "name": "stdout",
     "output_type": "stream",
     "text": [
      "epoch 0. MSELoss = 0.061288170516490936\n"
     ]
    },
    {
     "name": "stderr",
     "output_type": "stream",
     "text": [
      " 52%|███████████████████▊                  | 621/1191 [00:06<00:05, 100.77it/s]\n"
     ]
    },
    {
     "ename": "KeyboardInterrupt",
     "evalue": "",
     "output_type": "error",
     "traceback": [
      "\u001b[1;31m---------------------------------------------------------------------------\u001b[0m",
      "\u001b[1;31mKeyboardInterrupt\u001b[0m                         Traceback (most recent call last)",
      "\u001b[1;32m~\\AppData\\Local\\Temp/ipykernel_6248/2415884702.py\u001b[0m in \u001b[0;36m<module>\u001b[1;34m\u001b[0m\n\u001b[1;32m----> 1\u001b[1;33m \u001b[0mnet\u001b[0m\u001b[1;33m.\u001b[0m\u001b[0mfit\u001b[0m\u001b[1;33m(\u001b[0m\u001b[0mX\u001b[0m\u001b[1;33m,\u001b[0m\u001b[0my\u001b[0m\u001b[1;33m)\u001b[0m\u001b[1;33m\u001b[0m\u001b[1;33m\u001b[0m\u001b[0m\n\u001b[0m",
      "\u001b[1;32m~\\AppData\\Local\\Temp/ipykernel_6248/2964139498.py\u001b[0m in \u001b[0;36mfit\u001b[1;34m(self, X_features, y_target)\u001b[0m\n\u001b[0;32m     61\u001b[0m                     \u001b[0mprevious_y\u001b[0m \u001b[1;33m=\u001b[0m \u001b[0my_target\u001b[0m\u001b[1;33m[\u001b[0m\u001b[0mi\u001b[0m\u001b[1;33m]\u001b[0m\u001b[1;33m\u001b[0m\u001b[1;33m\u001b[0m\u001b[0m\n\u001b[0;32m     62\u001b[0m \u001b[1;33m\u001b[0m\u001b[0m\n\u001b[1;32m---> 63\u001b[1;33m                     \u001b[0my_pred\u001b[0m \u001b[1;33m=\u001b[0m \u001b[0mself\u001b[0m\u001b[1;33m.\u001b[0m\u001b[0mforward\u001b[0m\u001b[1;33m(\u001b[0m \u001b[0mx\u001b[0m\u001b[1;33m,\u001b[0m\u001b[0mprevious_y\u001b[0m \u001b[1;33m)\u001b[0m\u001b[1;33m\u001b[0m\u001b[1;33m\u001b[0m\u001b[0m\n\u001b[0m\u001b[0;32m     64\u001b[0m                     \u001b[0my_pred_array\u001b[0m \u001b[1;33m=\u001b[0m \u001b[0mtorch\u001b[0m\u001b[1;33m.\u001b[0m\u001b[0mcat\u001b[0m\u001b[1;33m(\u001b[0m\u001b[1;33m(\u001b[0m\u001b[0my_pred_array\u001b[0m\u001b[1;33m,\u001b[0m\u001b[0my_pred\u001b[0m\u001b[1;33m)\u001b[0m \u001b[1;33m)\u001b[0m\u001b[1;33m\u001b[0m\u001b[1;33m\u001b[0m\u001b[0m\n\u001b[0;32m     65\u001b[0m                 \u001b[0my_pred\u001b[0m \u001b[1;33m=\u001b[0m \u001b[0mtorch\u001b[0m\u001b[1;33m.\u001b[0m\u001b[0mmean\u001b[0m\u001b[1;33m(\u001b[0m\u001b[0my_pred_array\u001b[0m\u001b[1;33m)\u001b[0m\u001b[1;33m.\u001b[0m\u001b[0mreshape\u001b[0m\u001b[1;33m(\u001b[0m\u001b[1;33m-\u001b[0m\u001b[1;36m1\u001b[0m\u001b[1;33m)\u001b[0m\u001b[1;33m\u001b[0m\u001b[1;33m\u001b[0m\u001b[0m\n",
      "\u001b[1;32m~\\AppData\\Local\\Temp/ipykernel_6248/2964139498.py\u001b[0m in \u001b[0;36mforward\u001b[1;34m(self, x, previous_y)\u001b[0m\n\u001b[0;32m     36\u001b[0m         \u001b[1;31m# LSTM\u001b[0m\u001b[1;33m\u001b[0m\u001b[1;33m\u001b[0m\u001b[1;33m\u001b[0m\u001b[0m\n\u001b[0;32m     37\u001b[0m         \u001b[0membeddings\u001b[0m\u001b[1;33m,\u001b[0m \u001b[1;33m(\u001b[0m\u001b[0mshortterm\u001b[0m\u001b[1;33m,\u001b[0m \u001b[0mlongterm\u001b[0m\u001b[1;33m)\u001b[0m \u001b[1;33m=\u001b[0m \u001b[0mself\u001b[0m\u001b[1;33m.\u001b[0m\u001b[0mlstm\u001b[0m\u001b[1;33m(\u001b[0m\u001b[0mfinal_state\u001b[0m\u001b[1;33m)\u001b[0m\u001b[1;33m\u001b[0m\u001b[1;33m\u001b[0m\u001b[0m\n\u001b[1;32m---> 38\u001b[1;33m         \u001b[0mlongterm\u001b[0m \u001b[1;33m=\u001b[0m \u001b[0mtorch\u001b[0m\u001b[1;33m.\u001b[0m\u001b[0madd\u001b[0m\u001b[1;33m(\u001b[0m\u001b[0mlongterm\u001b[0m\u001b[1;33m[\u001b[0m\u001b[1;36m0\u001b[0m\u001b[1;33m]\u001b[0m\u001b[1;33m,\u001b[0m\u001b[0mlongterm\u001b[0m\u001b[1;33m[\u001b[0m\u001b[1;36m1\u001b[0m\u001b[1;33m]\u001b[0m\u001b[1;33m)\u001b[0m\u001b[1;33m/\u001b[0m\u001b[1;36m2\u001b[0m\u001b[1;33m\u001b[0m\u001b[1;33m\u001b[0m\u001b[0m\n\u001b[0m\u001b[0;32m     39\u001b[0m         \u001b[0mpredict\u001b[0m \u001b[1;33m=\u001b[0m \u001b[0mself\u001b[0m\u001b[1;33m.\u001b[0m\u001b[0mlinear_1\u001b[0m\u001b[1;33m(\u001b[0m\u001b[0mlongterm\u001b[0m\u001b[1;33m)\u001b[0m\u001b[1;33m\u001b[0m\u001b[1;33m\u001b[0m\u001b[0m\n\u001b[0;32m     40\u001b[0m \u001b[1;33m\u001b[0m\u001b[0m\n",
      "\u001b[1;31mKeyboardInterrupt\u001b[0m: "
     ]
    }
   ],
   "source": [
    "net=Net()\n",
    "\n",
    "for i in train_datasets:\n",
    "    X = pd.read_parquet(path_features[i])\n",
    "    y = np.fromfile(path_target[i]) \n",
    "    \n",
    "    net.fit(X, y)\n",
    "\n",
    "# saving model weights\n",
    "torch.save(net.state_dict(), '../models/NN_models_weights/Attention_trained_model_weights.pth')\n",
    "\n",
    "# saving model\n",
    "torch.save(net,'../models/NN_models/Attention_trained_model.pth')"
   ]
  },
  {
   "cell_type": "code",
   "execution_count": 225,
   "metadata": {
    "ExecuteTime": {
     "end_time": "2022-01-22T20:54:31.804531Z",
     "start_time": "2022-01-22T20:54:31.770529Z"
    }
   },
   "outputs": [],
   "source": [
    "# saving model weights\n",
    "torch.save(net.state_dict(), '../models/NN_models_weights/Attention_trained_model_weights.pth')\n",
    "\n",
    "# saving model\n",
    "torch.save(net,'../models/NN_models/Attention_trained_model.pth')"
   ]
  },
  {
   "cell_type": "code",
   "execution_count": 11,
   "metadata": {
    "ExecuteTime": {
     "end_time": "2022-01-20T16:05:19.683752Z",
     "start_time": "2022-01-20T16:05:19.672751Z"
    }
   },
   "outputs": [],
   "source": [
    "net = torch.load('../models/NN_models/Attention_loss_0.015.pth')"
   ]
  },
  {
   "cell_type": "code",
   "execution_count": null,
   "metadata": {},
   "outputs": [],
   "source": []
  },
  {
   "cell_type": "markdown",
   "metadata": {},
   "source": [
    "### Checking results for the Test dataset"
   ]
  },
  {
   "cell_type": "code",
   "execution_count": null,
   "metadata": {},
   "outputs": [],
   "source": [
    "net = torch.load( '../models/NN_models/Attention_trained_model.pth')"
   ]
  },
  {
   "cell_type": "code",
   "execution_count": 231,
   "metadata": {
    "ExecuteTime": {
     "end_time": "2022-01-22T21:03:19.310736Z",
     "start_time": "2022-01-22T21:02:45.481782Z"
    }
   },
   "outputs": [
    {
     "name": "stderr",
     "output_type": "stream",
     "text": [
      "100%|█████████████████████████████████████| 1191/1191 [00:08<00:00, 143.71it/s]\n",
      "100%|█████████████████████████████████████| 1191/1191 [00:08<00:00, 148.11it/s]\n",
      "100%|█████████████████████████████████████| 1191/1191 [00:08<00:00, 147.79it/s]\n",
      "100%|█████████████████████████████████████| 1191/1191 [00:08<00:00, 137.81it/s]\n"
     ]
    }
   ],
   "source": [
    "MSE_score = 0.\n",
    "HuberLoss_score = 0.\n",
    "\n",
    "for i in test_datasets:\n",
    "    X = pd.read_parquet(path_features[i])\n",
    "    y = np.fromfile(path_target[i])    \n",
    "\n",
    "    y_pred = net.predict(X)\n",
    "    y=y[:len(prediction_array)]\n",
    "    \n",
    "    MSE_score += mean_squared_error(y,y_pred)\n",
    "    HuberLoss_score += HuberLoss(y,y_pred)\n",
    "\n",
    "MSE_score /= len(test_datasets)\n",
    "HuberLoss_score /= len(test_datasets)"
   ]
  },
  {
   "cell_type": "code",
   "execution_count": 240,
   "metadata": {
    "ExecuteTime": {
     "end_time": "2022-01-22T21:05:17.158476Z",
     "start_time": "2022-01-22T21:05:17.152476Z"
    }
   },
   "outputs": [
    {
     "name": "stdout",
     "output_type": "stream",
     "text": [
      "The lowest Train MSE loss = 0.032, the lowest Huber Loss = 0.016\n"
     ]
    }
   ],
   "source": [
    "print(f'The lowest Train MSE loss = {MSE_score :.3f}, the lowest Huber Loss = {HuberLoss_score :.3f}')"
   ]
  },
  {
   "cell_type": "code",
   "execution_count": 44,
   "metadata": {
    "ExecuteTime": {
     "end_time": "2022-01-20T17:05:56.984536Z",
     "start_time": "2022-01-20T17:04:36.227281Z"
    }
   },
   "outputs": [
    {
     "name": "stderr",
     "output_type": "stream",
     "text": [
      "100%|██████████████████████████████████████| 1140/1140 [01:20<00:00, 14.13it/s]\n"
     ]
    }
   ],
   "source": [
    "# проверка\n",
    "i = test_datasets[1]\n",
    "X = pd.read_parquet(path_features[i])\n",
    "y = np.fromfile(path_target[i]) \n",
    "\n",
    "prediction_array = net.predict( X )"
   ]
  },
  {
   "cell_type": "code",
   "execution_count": 20,
   "metadata": {
    "ExecuteTime": {
     "end_time": "2022-01-19T11:30:05.619412Z",
     "start_time": "2022-01-19T11:30:05.202388Z"
    },
    "scrolled": false
   },
   "outputs": [
    {
     "data": {
      "image/png": "[encoded data removed]",
      "text/plain": [
       "<Figure size 1152x576 with 1 Axes>"
      ]
     },
     "metadata": {
      "needs_background": "light"
     },
     "output_type": "display_data"
    }
   ],
   "source": [
    "fig = plt.figure(figsize=(16, 8))\n",
    "plt.plot(true_array, label = 'original')\n",
    "plt.title('Attention_model prediction for 1 pipeline')\n",
    "plt.plot(prediction_array, label = 'prediction'  )\n",
    "plt.grid()\n",
    "plt.legend(loc='best');"
   ]
  },
  {
   "cell_type": "code",
   "execution_count": 273,
   "metadata": {
    "ExecuteTime": {
     "end_time": "2022-01-22T21:21:00.349548Z",
     "start_time": "2022-01-22T21:21:00.336547Z"
    }
   },
   "outputs": [
    {
     "data": {
      "text/html": [
       "<div>\n",
       "<style scoped>\n",
       "    .dataframe tbody tr th:only-of-type {\n",
       "        vertical-align: middle;\n",
       "    }\n",
       "\n",
       "    .dataframe tbody tr th {\n",
       "        vertical-align: top;\n",
       "    }\n",
       "\n",
       "    .dataframe thead th {\n",
       "        text-align: right;\n",
       "    }\n",
       "</style>\n",
       "<table border=\"1\" class=\"dataframe\">\n",
       "  <thead>\n",
       "    <tr style=\"text-align: right;\">\n",
       "      <th></th>\n",
       "      <th>MSE_Loss</th>\n",
       "      <th>HuberLoss</th>\n",
       "    </tr>\n",
       "  </thead>\n",
       "  <tbody>\n",
       "    <tr>\n",
       "      <th>DecisionTree</th>\n",
       "      <td>0.097623</td>\n",
       "      <td>0.048812</td>\n",
       "    </tr>\n",
       "    <tr>\n",
       "      <th>RandomForest</th>\n",
       "      <td>0.097429</td>\n",
       "      <td>0.048715</td>\n",
       "    </tr>\n",
       "    <tr>\n",
       "      <th>XGBRegressor</th>\n",
       "      <td>0.214949</td>\n",
       "      <td>0.106837</td>\n",
       "    </tr>\n",
       "    <tr>\n",
       "      <th>LGBMRegressor</th>\n",
       "      <td>0.076177</td>\n",
       "      <td>0.038088</td>\n",
       "    </tr>\n",
       "    <tr>\n",
       "      <th>LR</th>\n",
       "      <td>72.072907</td>\n",
       "      <td>19.054029</td>\n",
       "    </tr>\n",
       "    <tr>\n",
       "      <th>Attention_NN_Model</th>\n",
       "      <td>0.031564</td>\n",
       "      <td>0.015770</td>\n",
       "    </tr>\n",
       "  </tbody>\n",
       "</table>\n",
       "</div>"
      ],
      "text/plain": [
       "                     MSE_Loss  HuberLoss\n",
       "DecisionTree         0.097623   0.048812\n",
       "RandomForest         0.097429   0.048715\n",
       "XGBRegressor         0.214949   0.106837\n",
       "LGBMRegressor        0.076177   0.038088\n",
       "LR                  72.072907  19.054029\n",
       "Attention_NN_Model   0.031564   0.015770"
      ]
     },
     "execution_count": 273,
     "metadata": {},
     "output_type": "execute_result"
    }
   ],
   "source": [
    "l = pd.Series([MSE_score,HuberLoss_score],name='Attention_NN_Model', index =['MSE_Loss', 'HuberLoss'] )\n",
    "df_algo_results = df_algo_results.append(l)\n",
    "df_algo_results"
   ]
  },
  {
   "cell_type": "code",
   "execution_count": 277,
   "metadata": {
    "ExecuteTime": {
     "end_time": "2022-01-22T21:22:39.524221Z",
     "start_time": "2022-01-22T21:22:39.517220Z"
    }
   },
   "outputs": [],
   "source": [
    "df_algo_results.sort_values(by='MSE_Loss',inplace=True)"
   ]
  },
  {
   "cell_type": "code",
   "execution_count": 278,
   "metadata": {
    "ExecuteTime": {
     "end_time": "2022-01-22T21:22:44.396499Z",
     "start_time": "2022-01-22T21:22:42.522392Z"
    },
    "scrolled": false
   },
   "outputs": [
    {
     "data": {
      "text/plain": [
       "<Figure size 1152x576 with 0 Axes>"
      ]
     },
     "metadata": {},
     "output_type": "display_data"
    },
    {
     "data": {
      "image/png": "[encoded data removed]",
      "text/plain": [
       "<Figure size 1152x576 with 2 Axes>"
      ]
     },
     "metadata": {
      "needs_background": "light"
     },
     "output_type": "display_data"
    }
   ],
   "source": [
    "fig = plt.figure(figsize=(16, 8))\n",
    "fig, (ax0,ax1) = plt.subplots( nrows=1, ncols=2, figsize=(16, 8) )\n",
    "\n",
    "ax0.set_title('All ML algoritms')\n",
    "sns.scatterplot(x= 'MSE_Loss' ,y='HuberLoss', data = df_algo_results,\n",
    "                hue=df_algo_results.index, ax=ax0)\n",
    "\n",
    "ax1.set_title('Best ML algoritms')\n",
    "sns.scatterplot(x= 'MSE_Loss' ,y='HuberLoss', data = df_algo_results.iloc[:-1,:],\n",
    "                hue=df_algo_results.index[:-1], ax=ax1)\n",
    "\n",
    "fig.suptitle('Figure 1. MSE and HuberLoss Results\\nThe best Algoritm in LOWER LEFT corner ')\n",
    "fig.savefig('../models/comparison/Algoritms MSE and HuberLoss Results.png')\n",
    "plt.show();\n"
   ]
  },
  {
   "cell_type": "code",
   "execution_count": null,
   "metadata": {},
   "outputs": [],
   "source": []
  },
  {
   "cell_type": "code",
   "execution_count": null,
   "metadata": {},
   "outputs": [],
   "source": []
  }
 ],
 "metadata": {
  "kernelspec": {
   "display_name": "Python 3 (ipykernel)",
   "language": "python",
   "name": "python3"
  },
  "language_info": {
   "codemirror_mode": {
    "name": "ipython",
    "version": 3
   },
   "file_extension": ".py",
   "mimetype": "text/x-python",
   "name": "python",
   "nbconvert_exporter": "python",
   "pygments_lexer": "ipython3",
   "version": "3.8.5"
  },
  "toc": {
   "base_numbering": 1,
   "nav_menu": {},
   "number_sections": false,
   "sideBar": true,
   "skip_h1_title": false,
   "title_cell": "Table of Contents",
   "title_sidebar": "Contents",
   "toc_cell": false,
   "toc_position": {},
   "toc_section_display": true,
   "toc_window_display": false
  }
 },
 "nbformat": 4,
 "nbformat_minor": 4
}
