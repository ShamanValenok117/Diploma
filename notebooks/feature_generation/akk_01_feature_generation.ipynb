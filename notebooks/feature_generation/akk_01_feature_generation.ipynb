{
 "cells": [
  {
   "cell_type": "code",
   "execution_count": 1,
   "metadata": {
    "ExecuteTime": {
     "end_time": "2022-01-22T22:05:06.040480Z",
     "start_time": "2022-01-22T22:05:04.419474Z"
    }
   },
   "outputs": [],
   "source": [
    "from glob import glob\n",
    "\n",
    "\n",
    "import pandas as pd\n",
    "import numpy as np\n",
    "\n",
    "import matplotlib.pyplot as plt\n",
    "%matplotlib inline\n",
    "\n",
    "from tqdm import tqdm\n",
    "\n",
    "from sklearn.svm import OneClassSVM"
   ]
  },
  {
   "cell_type": "code",
   "execution_count": 2,
   "metadata": {
    "ExecuteTime": {
     "end_time": "2022-01-22T22:05:12.512492Z",
     "start_time": "2022-01-22T22:05:12.492492Z"
    }
   },
   "outputs": [
    {
     "data": {
      "text/plain": [
       "['../../data/raw_data\\\\scenario_1.xlsx',\n",
       " '../../data/raw_data\\\\scenario_10.xlsx',\n",
       " '../../data/raw_data\\\\scenario_11.xlsx',\n",
       " '../../data/raw_data\\\\scenario_12.xlsx',\n",
       " '../../data/raw_data\\\\scenario_13.xlsx',\n",
       " '../../data/raw_data\\\\scenario_14.xlsx',\n",
       " '../../data/raw_data\\\\scenario_2.xlsx',\n",
       " '../../data/raw_data\\\\scenario_3.xlsx',\n",
       " '../../data/raw_data\\\\scenario_4.xlsx',\n",
       " '../../data/raw_data\\\\scenario_5.xlsx',\n",
       " '../../data/raw_data\\\\scenario_6.xlsx',\n",
       " '../../data/raw_data\\\\scenario_7.xlsx',\n",
       " '../../data/raw_data\\\\scenario_8.xlsx',\n",
       " '../../data/raw_data\\\\scenario_9.xlsx']"
      ]
     },
     "execution_count": 2,
     "metadata": {},
     "output_type": "execute_result"
    }
   ],
   "source": [
    "path = glob('../../data/raw_data/*.xlsx')\n",
    "path"
   ]
  },
  {
   "cell_type": "code",
   "execution_count": 3,
   "metadata": {
    "ExecuteTime": {
     "end_time": "2022-01-22T22:05:15.732496Z",
     "start_time": "2022-01-22T22:05:15.712496Z"
    }
   },
   "outputs": [
    {
     "data": {
      "text/plain": [
       "['scenario_1',\n",
       " 'scenario_10',\n",
       " 'scenario_11',\n",
       " 'scenario_12',\n",
       " 'scenario_13',\n",
       " 'scenario_14',\n",
       " 'scenario_2',\n",
       " 'scenario_3',\n",
       " 'scenario_4',\n",
       " 'scenario_5',\n",
       " 'scenario_6',\n",
       " 'scenario_7',\n",
       " 'scenario_8',\n",
       " 'scenario_9']"
      ]
     },
     "execution_count": 3,
     "metadata": {},
     "output_type": "execute_result"
    }
   ],
   "source": [
    "scenarios = [i.split('\\\\')[-1].split('.xlsx')[0] for i in path]\n",
    "scenarios"
   ]
  },
  {
   "cell_type": "markdown",
   "metadata": {},
   "source": [
    "loading data"
   ]
  },
  {
   "cell_type": "code",
   "execution_count": 4,
   "metadata": {
    "ExecuteTime": {
     "end_time": "2022-01-22T22:05:18.902501Z",
     "start_time": "2022-01-22T22:05:18.232500Z"
    }
   },
   "outputs": [
    {
     "data": {
      "text/html": [
       "<div>\n",
       "<style scoped>\n",
       "    .dataframe tbody tr th:only-of-type {\n",
       "        vertical-align: middle;\n",
       "    }\n",
       "\n",
       "    .dataframe tbody tr th {\n",
       "        vertical-align: top;\n",
       "    }\n",
       "\n",
       "    .dataframe thead th {\n",
       "        text-align: right;\n",
       "    }\n",
       "</style>\n",
       "<table border=\"1\" class=\"dataframe\">\n",
       "  <thead>\n",
       "    <tr style=\"text-align: right;\">\n",
       "      <th></th>\n",
       "      <th>Time</th>\n",
       "      <th>pipeline_1</th>\n",
       "      <th>pipeline_2</th>\n",
       "      <th>pipeline_3</th>\n",
       "      <th>sep_lvl</th>\n",
       "    </tr>\n",
       "  </thead>\n",
       "  <tbody>\n",
       "    <tr>\n",
       "      <th>0</th>\n",
       "      <td>0.000000</td>\n",
       "      <td>11.138935</td>\n",
       "      <td>11.085769</td>\n",
       "      <td>11.484986</td>\n",
       "      <td>0.476073</td>\n",
       "    </tr>\n",
       "    <tr>\n",
       "      <th>1</th>\n",
       "      <td>0.100000</td>\n",
       "      <td>11.138756</td>\n",
       "      <td>11.085440</td>\n",
       "      <td>11.484453</td>\n",
       "      <td>0.475311</td>\n",
       "    </tr>\n",
       "    <tr>\n",
       "      <th>2</th>\n",
       "      <td>0.233333</td>\n",
       "      <td>11.138499</td>\n",
       "      <td>11.085223</td>\n",
       "      <td>11.484049</td>\n",
       "      <td>0.474378</td>\n",
       "    </tr>\n",
       "    <tr>\n",
       "      <th>3</th>\n",
       "      <td>0.411111</td>\n",
       "      <td>11.138120</td>\n",
       "      <td>11.084999</td>\n",
       "      <td>11.483658</td>\n",
       "      <td>0.473195</td>\n",
       "    </tr>\n",
       "    <tr>\n",
       "      <th>4</th>\n",
       "      <td>0.648148</td>\n",
       "      <td>11.137534</td>\n",
       "      <td>11.084570</td>\n",
       "      <td>11.483118</td>\n",
       "      <td>0.471706</td>\n",
       "    </tr>\n",
       "  </tbody>\n",
       "</table>\n",
       "</div>"
      ],
      "text/plain": [
       "       Time  pipeline_1  pipeline_2  pipeline_3   sep_lvl\n",
       "0  0.000000   11.138935   11.085769   11.484986  0.476073\n",
       "1  0.100000   11.138756   11.085440   11.484453  0.475311\n",
       "2  0.233333   11.138499   11.085223   11.484049  0.474378\n",
       "3  0.411111   11.138120   11.084999   11.483658  0.473195\n",
       "4  0.648148   11.137534   11.084570   11.483118  0.471706"
      ]
     },
     "execution_count": 4,
     "metadata": {},
     "output_type": "execute_result"
    }
   ],
   "source": [
    "df = pd.read_excel(path[0],skiprows =1, keep_default_na = True,nrows=1850)\n",
    "df.dropna(axis=1,inplace = True)\n",
    "df.columns = ['Time', 'pipeline_1', 'pipeline_2', 'pipeline_3', 'sep_lvl']\n",
    "df.head()"
   ]
  },
  {
   "cell_type": "markdown",
   "metadata": {},
   "source": [
    "1. Определяем min/max values для столбцов"
   ]
  },
  {
   "cell_type": "code",
   "execution_count": 5,
   "metadata": {
    "ExecuteTime": {
     "end_time": "2022-01-22T22:05:20.743503Z",
     "start_time": "2022-01-22T22:05:20.723503Z"
    }
   },
   "outputs": [],
   "source": [
    "for i in df.columns[1:]:\n",
    "    a = df.loc[:,i]\n",
    "    if (a.max() - a.min()) < 0.2:\n",
    "        a = a.mean()\n",
    "\n",
    "    df.loc[:,i] = a"
   ]
  },
  {
   "cell_type": "markdown",
   "metadata": {},
   "source": [
    "2. sep_lvl window 100"
   ]
  },
  {
   "cell_type": "code",
   "execution_count": 6,
   "metadata": {
    "ExecuteTime": {
     "end_time": "2022-01-22T22:05:22.893507Z",
     "start_time": "2022-01-22T22:05:22.873506Z"
    }
   },
   "outputs": [],
   "source": [
    "# сглаживаем\n",
    "WINDOW_SIZE = 100\n",
    "\n",
    "df['sep_lvl'] = df.sep_lvl.rolling(WINDOW_SIZE).mean()"
   ]
  },
  {
   "cell_type": "markdown",
   "metadata": {},
   "source": [
    "3. Ищем рост давления:"
   ]
  },
  {
   "cell_type": "code",
   "execution_count": 7,
   "metadata": {
    "ExecuteTime": {
     "end_time": "2022-01-22T22:05:25.173510Z",
     "start_time": "2022-01-22T22:05:25.163510Z"
    }
   },
   "outputs": [],
   "source": [
    "# сначала нужно сделать дроп NA. чтобы не было путаницы после предикта\n",
    "df.dropna(inplace=True)"
   ]
  },
  {
   "cell_type": "code",
   "execution_count": 9,
   "metadata": {
    "ExecuteTime": {
     "end_time": "2022-01-22T22:05:38.334528Z",
     "start_time": "2022-01-22T22:05:38.294528Z"
    }
   },
   "outputs": [],
   "source": [
    "# давление\n",
    "START_POS = 0\n",
    "a = np.array(df.pipeline_3)\n",
    "oc_svm = OneClassSVM(nu=.001, kernel=\"rbf\", gamma='scale')\n",
    "oc_svm.fit(a[START_POS:].reshape(-1,1))\n",
    "pred = oc_svm.predict(a[START_POS:].reshape(-1,1))\n",
    "if np.argmin(pred) == 0 : print('No slug') # То значит этот трубопровод НЕ участвует в пробке \n",
    "else: \n",
    "    pressure_start_raising = np.argmin(pred)"
   ]
  },
  {
   "cell_type": "markdown",
   "metadata": {},
   "source": [
    "4. Ищем рост пробки:"
   ]
  },
  {
   "cell_type": "code",
   "execution_count": 10,
   "metadata": {
    "ExecuteTime": {
     "end_time": "2022-01-22T22:05:43.615536Z",
     "start_time": "2022-01-22T22:05:43.545536Z"
    }
   },
   "outputs": [],
   "source": [
    "# тут особенность, применяем скользящее окно еще раз - тогда диспесия и средняя во время роста явно будет отличаться:\n",
    "a = np.array(df.sep_lvl.rolling(100).mean()) \n",
    "\n",
    "oc_svm = OneClassSVM(nu=.24, kernel=\"sigmoid\", gamma='scale')  # именно сигмоидное ядро\n",
    "oc_svm.fit(a[300:].reshape(-1,1)) # 100 - это скользящее окно + делаем большой запас 200, так как в начале сценариев (о-уммолчанию)сепаратор полный\n",
    "\n",
    "pred = oc_svm.predict(a[300:].reshape(-1,1))\n",
    "\n",
    "liquid_start_raising = np.argmax(pred)+300"
   ]
  },
  {
   "cell_type": "markdown",
   "metadata": {},
   "source": [
    "Ищем дельту = разницу между началом роста давления и началом роста жидкости в сепараторе."
   ]
  },
  {
   "cell_type": "code",
   "execution_count": 11,
   "metadata": {
    "ExecuteTime": {
     "end_time": "2022-01-22T22:05:45.955539Z",
     "start_time": "2022-01-22T22:05:45.945539Z"
    }
   },
   "outputs": [],
   "source": [
    "delta = liquid_start_raising - pressure_start_raising"
   ]
  },
  {
   "cell_type": "markdown",
   "metadata": {},
   "source": [
    "Теперь target нужно брать с delta : df.sep_lvl[255:]"
   ]
  },
  {
   "cell_type": "code",
   "execution_count": 12,
   "metadata": {
    "ExecuteTime": {
     "end_time": "2022-01-22T22:05:46.995540Z",
     "start_time": "2022-01-22T22:05:46.985540Z"
    }
   },
   "outputs": [],
   "source": [
    "y = df.sep_lvl[255:]"
   ]
  },
  {
   "cell_type": "markdown",
   "metadata": {},
   "source": [
    "Делаем lagij для всех трубопроводов"
   ]
  },
  {
   "cell_type": "code",
   "execution_count": 13,
   "metadata": {
    "ExecuteTime": {
     "end_time": "2022-01-22T22:05:52.526548Z",
     "start_time": "2022-01-22T22:05:52.516548Z"
    }
   },
   "outputs": [],
   "source": [
    "from copy import copy"
   ]
  },
  {
   "cell_type": "code",
   "execution_count": 14,
   "metadata": {
    "ExecuteTime": {
     "end_time": "2022-01-22T22:05:53.266549Z",
     "start_time": "2022-01-22T22:05:53.246549Z"
    }
   },
   "outputs": [
    {
     "data": {
      "text/html": [
       "<div>\n",
       "<style scoped>\n",
       "    .dataframe tbody tr th:only-of-type {\n",
       "        vertical-align: middle;\n",
       "    }\n",
       "\n",
       "    .dataframe tbody tr th {\n",
       "        vertical-align: top;\n",
       "    }\n",
       "\n",
       "    .dataframe thead th {\n",
       "        text-align: right;\n",
       "    }\n",
       "</style>\n",
       "<table border=\"1\" class=\"dataframe\">\n",
       "  <thead>\n",
       "    <tr style=\"text-align: right;\">\n",
       "      <th></th>\n",
       "      <th>Time</th>\n",
       "      <th>pipeline_1</th>\n",
       "      <th>pipeline_2</th>\n",
       "      <th>pipeline_3</th>\n",
       "      <th>sep_lvl</th>\n",
       "    </tr>\n",
       "  </thead>\n",
       "  <tbody>\n",
       "    <tr>\n",
       "      <th>99</th>\n",
       "      <td>19.750891</td>\n",
       "      <td>11.067844</td>\n",
       "      <td>11.040846</td>\n",
       "      <td>11.463766</td>\n",
       "      <td>0.345969</td>\n",
       "    </tr>\n",
       "    <tr>\n",
       "      <th>100</th>\n",
       "      <td>20.291411</td>\n",
       "      <td>11.067844</td>\n",
       "      <td>11.040846</td>\n",
       "      <td>11.463157</td>\n",
       "      <td>0.343197</td>\n",
       "    </tr>\n",
       "    <tr>\n",
       "      <th>101</th>\n",
       "      <td>21.012105</td>\n",
       "      <td>11.067844</td>\n",
       "      <td>11.040846</td>\n",
       "      <td>11.462391</td>\n",
       "      <td>0.340144</td>\n",
       "    </tr>\n",
       "    <tr>\n",
       "      <th>102</th>\n",
       "      <td>21.068150</td>\n",
       "      <td>11.067844</td>\n",
       "      <td>11.040846</td>\n",
       "      <td>11.462319</td>\n",
       "      <td>0.337113</td>\n",
       "    </tr>\n",
       "    <tr>\n",
       "      <th>103</th>\n",
       "      <td>21.106283</td>\n",
       "      <td>11.067844</td>\n",
       "      <td>11.040846</td>\n",
       "      <td>11.462264</td>\n",
       "      <td>0.334095</td>\n",
       "    </tr>\n",
       "  </tbody>\n",
       "</table>\n",
       "</div>"
      ],
      "text/plain": [
       "          Time  pipeline_1  pipeline_2  pipeline_3   sep_lvl\n",
       "99   19.750891   11.067844   11.040846   11.463766  0.345969\n",
       "100  20.291411   11.067844   11.040846   11.463157  0.343197\n",
       "101  21.012105   11.067844   11.040846   11.462391  0.340144\n",
       "102  21.068150   11.067844   11.040846   11.462319  0.337113\n",
       "103  21.106283   11.067844   11.040846   11.462264  0.334095"
      ]
     },
     "execution_count": 14,
     "metadata": {},
     "output_type": "execute_result"
    }
   ],
   "source": [
    "df_copied = copy(df)\n",
    "df_copied.head()"
   ]
  },
  {
   "cell_type": "code",
   "execution_count": 15,
   "metadata": {
    "ExecuteTime": {
     "end_time": "2022-01-22T22:05:56.967554Z",
     "start_time": "2022-01-22T22:05:56.056553Z"
    }
   },
   "outputs": [],
   "source": [
    "for i in df_copied.columns[1:-1]:\n",
    "    for j in range(1,301):\n",
    "        df_copied[f'{i}_delta_with_lag_{j}'] = df_copied[i] - df_copied[i].shift(j)\n"
   ]
  },
  {
   "cell_type": "code",
   "execution_count": 16,
   "metadata": {
    "ExecuteTime": {
     "end_time": "2022-01-22T22:05:57.017555Z",
     "start_time": "2022-01-22T22:05:56.967554Z"
    }
   },
   "outputs": [],
   "source": [
    "df_copied.dropna(inplace=True)\n",
    "\n",
    "y = np.array(df_copied.sep_lvl)[delta:] \n",
    "df_copied.drop(columns=df_copied.columns[:5], inplace=True)"
   ]
  },
  {
   "cell_type": "markdown",
   "metadata": {},
   "source": [
    "Сохраняемся:  \n",
    "X (features - dataframe) -> parquet  \n",
    "y (target - numpy) -> binary"
   ]
  },
  {
   "cell_type": "code",
   "execution_count": 18,
   "metadata": {
    "ExecuteTime": {
     "end_time": "2022-01-22T22:06:16.791582Z",
     "start_time": "2022-01-22T22:06:16.511582Z"
    }
   },
   "outputs": [],
   "source": [
    "df_copied.to_parquet(f'../../data/prepared/{scenarios[0]}.parquet')\n",
    "\n",
    "y.tofile(f'../../data/prepared/{scenarios[0]}.bite')"
   ]
  },
  {
   "cell_type": "code",
   "execution_count": 89,
   "metadata": {
    "ExecuteTime": {
     "end_time": "2022-01-22T12:25:56.070936Z",
     "start_time": "2022-01-22T12:25:56.063936Z"
    }
   },
   "outputs": [],
   "source": []
  },
  {
   "cell_type": "code",
   "execution_count": null,
   "metadata": {},
   "outputs": [],
   "source": []
  }
 ],
 "metadata": {
  "kernelspec": {
   "display_name": "Python 3 (ipykernel)",
   "language": "python",
   "name": "python3"
  },
  "language_info": {
   "codemirror_mode": {
    "name": "ipython",
    "version": 3
   },
   "file_extension": ".py",
   "mimetype": "text/x-python",
   "name": "python",
   "nbconvert_exporter": "python",
   "pygments_lexer": "ipython3",
   "version": "3.8.5"
  },
  "toc": {
   "base_numbering": 1,
   "nav_menu": {},
   "number_sections": true,
   "sideBar": true,
   "skip_h1_title": false,
   "title_cell": "Table of Contents",
   "title_sidebar": "Contents",
   "toc_cell": false,
   "toc_position": {},
   "toc_section_display": true,
   "toc_window_display": false
  }
 },
 "nbformat": 4,
 "nbformat_minor": 4
}
